{
 "cells": [
  {
   "cell_type": "code",
   "execution_count": 2,
   "metadata": {},
   "outputs": [],
   "source": [
    "import pandas as pd\n",
    "import matplotlib.pyplot as plt\n",
    "import matplotlib.ticker as ticker\n",
    "import matplotlib.patheffects as path_effects\n",
    "import matplotlib.font_manager as fm\n",
    "import matplotlib.colors as mcolors\n",
    "from matplotlib import cm\n",
    "from highlight_text import fig_text\n",
    "\n",
    "from PIL import Image\n",
    "import urllib\n",
    "import os\n",
    "import math"
   ]
  },
  {
   "cell_type": "code",
   "execution_count": 3,
   "metadata": {},
   "outputs": [],
   "source": [
    "plt.style.use('./assets/stylesheets/soc_base.mplstyle')"
   ]
  },
  {
   "cell_type": "code",
   "execution_count": 6,
   "metadata": {},
   "outputs": [],
   "source": [
    "df = pd.read_csv('data/league_one_xg_xgot.csv',index_col=0)\n",
    "\n",
    "df_h = (\n",
    "    df[['home_team_'+x for x in ['name','id','score','xG']]]\n",
    "    .rename(\n",
    "        columns={\n",
    "            'home_team_name':'team_name',\n",
    "            'home_team_id':'team_id',\n",
    "            'home_team_score':'score',\n",
    "            'home_team_xG':'xG',\n",
    "        }\n",
    "    )\n",
    ")\n",
    "\n",
    "df_a = (\n",
    "    df[['away_team_'+x for x in ['name','id','score','xG']]]\n",
    "    .rename(\n",
    "        columns={\n",
    "            'away_team_name':'team_name',\n",
    "            'away_team_id':'team_id',\n",
    "            'away_team_score':'score',\n",
    "            'away_team_xG':'xG',\n",
    "        }\n",
    "    )\n",
    ")\n",
    "\n",
    "data = pd.concat([df_h,df_a]).reset_index(drop=True)\n",
    "data = data.groupby(['team_name','team_id']).sum().reset_index()\n",
    "data = data.assign(difference =data['score'] - data['xG'])\n",
    "data = data.sort_values(by = 'difference').reset_index(drop=True)"
   ]
  },
  {
   "cell_type": "code",
   "execution_count": null,
   "metadata": {},
   "outputs": [],
   "source": [
    "gradient = [\n",
    "    '#de6f57',\n",
    "    '#d5724d',\n",
    "    '#cb7644',\n",
    "    '#c0783e',\n",
    "    '#b57b38',\n",
    "    '#a97d35',\n",
    "    '#9e7f34',\n",
    "    '#928134',\n",
    "    '#878137',\n",
    "    '#7c823a',\n",
    "    '#71823f',\n",
    "    '#668244',\n",
    "    '#5c814a',\n",
    "    '#528050',\n",
    "    '#497f56',\n",
    "    '#407d5b',\n",
    "    '#387b61',\n",
    "    '#317966',\n",
    "    '#2c776a',\n",
    "    '#29756e',\n",
    "    '#287271',\n",
    "]\n",
    "soc_cm = mcolors.LinearSegmentedColormap.from_list('SOC', gradient, N=50)\n",
    "cm.register_cmap(name='SOC', cmap=soc_cm)"
   ]
  },
  {
   "cell_type": "code",
   "execution_count": 7,
   "metadata": {},
   "outputs": [
    {
     "data": {
      "text/plain": [
       "<BarContainer object of 24 artists>"
      ]
     },
     "execution_count": 7,
     "metadata": {},
     "output_type": "execute_result"
    },
    {
     "data": {
      "image/png": "[encoded data removed]",
      "text/plain": [
       "<Figure size 525x750 with 1 Axes>"
      ]
     },
     "metadata": {},
     "output_type": "display_data"
    }
   ],
   "source": [
    "fig = plt.figure(figsize=(7,10), dpi=75)\n",
    "ax = plt.subplot()\n",
    "max_ = max(abs(data['difference'].min()),data['difference'].max())\n",
    "\n",
    "max_ = max_*1.05\n",
    "ax.set_xlim(-max_,max_)\n",
    "\n",
    "ax.barh(data.index, data['difference'])"
   ]
  }
 ],
 "metadata": {
  "kernelspec": {
   "display_name": "Python 3.10.2 64-bit",
   "language": "python",
   "name": "python3"
  },
  "language_info": {
   "codemirror_mode": {
    "name": "ipython",
    "version": 3
   },
   "file_extension": ".py",
   "mimetype": "text/x-python",
   "name": "python",
   "nbconvert_exporter": "python",
   "pygments_lexer": "ipython3",
   "version": "3.10.2"
  },
  "orig_nbformat": 4,
  "vscode": {
   "interpreter": {
    "hash": "369f2c481f4da34e4445cda3fffd2e751bd1c4d706f27375911949ba6bb62e1c"
   }
  }
 },
 "nbformat": 4,
 "nbformat_minor": 2
}
