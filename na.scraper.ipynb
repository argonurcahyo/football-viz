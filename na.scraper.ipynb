{
 "cells": [
  {
   "cell_type": "code",
   "execution_count": 2,
   "metadata": {},
   "outputs": [],
   "source": [
    "from selenium import webdriver\n",
    "from selenium.webdriver.chrome.options import Options\n",
    "from selenium.webdriver.chrome.service import Service as ChromeService\n",
    "from selenium.webdriver.common.by import By\n",
    "from webdriver_manager.chrome import ChromeDriverManager\n",
    "\n",
    "import pandas as pd\n",
    "\n",
    "options = Options()\n",
    "options.headless = True\n",
    "\n",
    "driver = webdriver.Chrome(options=options,service=ChromeService(ChromeDriverManager().install()))\n",
    "na_url = 'https://www.naughtyamerica.com/new-porn-videos?page=1'"
   ]
  },
  {
   "cell_type": "code",
   "execution_count": 3,
   "metadata": {},
   "outputs": [],
   "source": [
    "driver.get(na_url)\n",
    "scenes = driver.find_elements(By.CSS_SELECTOR, '.scene-list .scene-grid-item a.contain-img')\n",
    "scenes_img = driver.find_elements(By.CSS_SELECTOR,'.scene-list .scene-grid-item a.contain-img .main-scene-img')\n",
    "\n",
    "scene_title_list = []\n",
    "scene_id_list = []\n",
    "scene_img_list = []\n",
    "\n",
    "for i in range(len(scenes)):\n",
    "    scene_title = scenes[i].get_attribute('title')\n",
    "    scene_id = scenes[i].get_attribute('data-scene-id')\n",
    "    scene_img_url = scenes_img[i].get_attribute('srcset')\n",
    "    \n",
    "    scene_id_list.append(scene_id)\n",
    "    scene_title_list.append(scene_title)\n",
    "    scene_img_list.append(scene_img_url)\n",
    "\n",
    "scenes_df = pd.DataFrame({\n",
    "    'id' : scene_id_list,\n",
    "    'title' : scene_title_list,\n",
    "    'img_url': scene_img_list\n",
    "})"
   ]
  },
  {
   "cell_type": "code",
   "execution_count": 4,
   "metadata": {},
   "outputs": [],
   "source": [
    "def scrape_na(driver,page):\n",
    "    na_url = f'https://www.naughtyamerica.com/new-porn-videos?page={page}'\n",
    "    driver.get(na_url)\n",
    "    scenes = driver.find_elements(By.CSS_SELECTOR, '.scene-list .scene-grid-item a.contain-img')\n",
    "    scenes_img = driver.find_elements(By.CSS_SELECTOR,'.scene-list .scene-grid-item a.contain-img .main-scene-img')\n",
    "\n",
    "    scene_title_list = []\n",
    "    scene_id_list = []\n",
    "    scene_img_list = []\n",
    "\n",
    "    for i in range(len(scenes)):        \n",
    "        scene_title = scenes[i].get_attribute('title')\n",
    "        scene_id = scenes[i].get_attribute('data-scene-id')\n",
    "        scene_img_url = scenes_img[i].get_attribute('srcset')\n",
    "        counter = (page-1)*24 + i + 1\n",
    "        print(f'{counter}. scraping {scene_title}')\n",
    "        \n",
    "        scene_id_list.append(scene_id)\n",
    "        scene_title_list.append(scene_title)\n",
    "        scene_img_list.append(scene_img_url)\n",
    "\n",
    "    df = pd.DataFrame({\n",
    "        'id' : scene_id_list,\n",
    "        'title' : scene_title_list,\n",
    "        'img_url': scene_img_list\n",
    "    })\n",
    "    return df"
   ]
  },
  {
   "cell_type": "code",
   "execution_count": 5,
   "metadata": {},
   "outputs": [
    {
     "name": "stdout",
     "output_type": "stream",
     "text": [
      "1. scraping Juliette Mint & Johnny Love in My Sister's Hot Friend\n",
      "2. scraping Kayley Gunner & Nikki Benz & Savannah Bond & Dan Damage in Naughty America\n",
      "3. scraping Sophia Locke & Nade Nasty in My Friend's Hot Mom\n",
      "4. scraping Kimberly Love & Peter Fitzwell in Naughty America\n",
      "5. scraping Maddy O'Reilly & Bruce Venture in My Wife Is My Pornstar\n",
      "6. scraping JoJo Kiss & Julia Ann & Samantha Hayes & Chad White in Naughty Bookworms\n",
      "7. scraping Slimthick Vic & Apollo Banks in Naughty America\n",
      "8. scraping Reagan Foxx & Kyle Mason in My Friend's Hot Mom\n",
      "9. scraping Brookie Blair & James Angel in My Sister's Hot Friend\n",
      "10. scraping Jessica Lynn & Memphis Monroe & Alex Sanders in Housewife 1 on 1\n",
      "11. scraping Lily Lane & Ryan Driller in Neighbor Affair\n",
      "12. scraping Adira Allure & Braylin Bailey & Harmony Rivers & Dan Damage in Naughty America\n",
      "13. scraping London River & Juan Loco in My Friend's Hot Mom\n",
      "14. scraping Penelope Kay & Joshua Lewis in My Sister's Hot Friend\n",
      "15. scraping Anissa Kate & Ryan Driller in My Wife Is My Pornstar\n",
      "16. scraping Remy LaCroix & Xander Corvus in Ass Masterpiece\n",
      "17. scraping Richelle Ryan & Nick Strokes in Naughty America\n",
      "18. scraping Hot Ass Hollywood & Dan Damage in Naughty America\n",
      "19. scraping Ariel Darling & Eddie Jaye in Neighbor Affair\n",
      "20. scraping Totally Tabitha & CJ Wright in Seduced By A Cougar\n",
      "21. scraping Sonny McKinley & Kyle Mason in Naughty Office\n",
      "22. scraping Adalind Gray & Ailee Anne & Vanessa Vega & Kyle Mason in Naughty America\n",
      "23. scraping Alexa Payne & Apollo Banks in My Friend's Hot Mom\n",
      "24. scraping Jenna Starr & Lawson Jones in Neighbor Affair\n"
     ]
    }
   ],
   "source": [
    "scenes_df = pd.DataFrame()\n",
    "for i in range(1,2):    \n",
    "    d = scrape_na(driver,i)\n",
    "    scenes_df = pd.concat([scenes_df,d]).reset_index(drop=True)"
   ]
  },
  {
   "cell_type": "code",
   "execution_count": 6,
   "metadata": {},
   "outputs": [],
   "source": [
    "scenes_df.to_csv('data/na.csv')"
   ]
  }
 ],
 "metadata": {
  "kernelspec": {
   "display_name": "Python 3.10.7 64-bit",
   "language": "python",
   "name": "python3"
  },
  "language_info": {
   "codemirror_mode": {
    "name": "ipython",
    "version": 3
   },
   "file_extension": ".py",
   "mimetype": "text/x-python",
   "name": "python",
   "nbconvert_exporter": "python",
   "pygments_lexer": "ipython3",
   "version": "3.10.7"
  },
  "orig_nbformat": 4,
  "vscode": {
   "interpreter": {
    "hash": "876db7d3f8682b7e4c5477e5f1e2dc2bd1b19fe05d9aabd59218369070754b39"
   }
  }
 },
 "nbformat": 4,
 "nbformat_minor": 2
}
