{
 "cells": [
  {
   "cell_type": "code",
   "execution_count": 1,
   "metadata": {},
   "outputs": [],
   "source": [
    "import matplotlib.pyplot as plt\n",
    "import matplotlib.font_manager as fm\n",
    "import matplotlib.ticker as ticker\n",
    "import matplotlib.gridspec as gridspec\n",
    "import matplotlib.patheffects as path_effects\n",
    "from matplotlib import rcParams\n",
    "from highlight_text import ax_text, fig_text\n",
    "import pandas as pd\n",
    "\n",
    "from PIL import Image\n",
    "import urllib\n",
    "import os"
   ]
  },
  {
   "cell_type": "code",
   "execution_count": 2,
   "metadata": {},
   "outputs": [],
   "source": [
    "df = pd.read_csv(\"data/brier_score.csv\",encoding=\"utf-8\")\n",
    "df[\"date\"] = pd.to_datetime(df[\"date\"])"
   ]
  },
  {
   "cell_type": "code",
   "execution_count": null,
   "metadata": {},
   "outputs": [],
   "source": [
    "df[\"home_win\"] = [1 if x > y else 0 for x,\n",
    "                  y in zip(df[\"score_home\"], df[\"score_away\"])]\n",
    "df[\"tie\"] = [1 if x == y else 0 for x, y in zip(\n",
    "    df[\"score_home\"], df[\"score_away\"])]\n",
    "df[\"away_win\"] = [1 if x < y else 0 for x,\n",
    "                  y in zip(df[\"score_home\"], df[\"score_away\"])]\n",
    "df = df.assign(\n",
    "    brier_score=lambda x: 1/3 *\n",
    "    ((x.prob_home-x.home_win)**2 +\n",
    "     (x.prob_tie-x.tie)**2 +\n",
    "     (x.prob_away-x.away_win)**2)\n",
    ")\n"
   ]
  }
 ],
 "metadata": {
  "kernelspec": {
   "display_name": "Python 3.10.7 64-bit",
   "language": "python",
   "name": "python3"
  },
  "language_info": {
   "codemirror_mode": {
    "name": "ipython",
    "version": 3
   },
   "file_extension": ".py",
   "mimetype": "text/x-python",
   "name": "python",
   "nbconvert_exporter": "python",
   "pygments_lexer": "ipython3",
   "version": "3.10.7"
  },
  "orig_nbformat": 4,
  "vscode": {
   "interpreter": {
    "hash": "fb4569285eef3a3450cb62085a5b1e0da4bce0af555edc33dcf29baf3acc1368"
   }
  }
 },
 "nbformat": 4,
 "nbformat_minor": 2
}
