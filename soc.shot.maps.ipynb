{
 "cells": [
  {
   "cell_type": "code",
   "execution_count": 7,
   "metadata": {},
   "outputs": [],
   "source": [
    "import pandas as pd\n",
    "import matplotlib.pyplot as plt\n",
    "import matplotlib.ticker as ticker\n",
    "import matplotlib.patheffects as path_effects\n",
    "from mplsoccer import VerticalPitch"
   ]
  },
  {
   "cell_type": "code",
   "execution_count": 8,
   "metadata": {},
   "outputs": [],
   "source": [
    "df = pd.read_csv(\"data/efl_championship_shots_07022022-2.csv\", index_col=0)\n"
   ]
  },
  {
   "cell_type": "code",
   "execution_count": 9,
   "metadata": {},
   "outputs": [],
   "source": [
    "def soc_pitch_divisions(ax, grids=False):\n",
    "    pitch = VerticalPitch(\n",
    "        pitch_type=\"uefa\",\n",
    "        half=True,\n",
    "        goal_type='box',\n",
    "        linewidth=1.25,\n",
    "        line_color='black'\n",
    "    )\n",
    "    pitch.draw(ax=ax)\n",
    "\n",
    "    if grids:\n",
    "        y_lines = [105-5.5*x for x in range(1, 10)]\n",
    "        x_lines = [68-6.8*x for x in range(1, 10)]\n",
    "\n",
    "        for i in x_lines:\n",
    "            ax.plot(\n",
    "                [i, i], [45, 105],\n",
    "                color=\"lightgray\",\n",
    "                ls=\"--\",\n",
    "                lw=.75,\n",
    "                zorder=-1\n",
    "            )\n",
    "        for j in y_lines:\n",
    "            ax.plot(\n",
    "                [68, 0], [j, j],\n",
    "                color=\"lightgray\",\n",
    "                ls=\"--\",\n",
    "                lw=.75,\n",
    "                zorder=-1\n",
    "            )\n",
    "\n",
    "    return ax\n"
   ]
  },
  {
   "cell_type": "code",
   "execution_count": 10,
   "metadata": {},
   "outputs": [
    {
     "data": {
      "text/plain": [
       "<AxesSubplot: >"
      ]
     },
     "execution_count": 10,
     "metadata": {},
     "output_type": "execute_result"
    },
    {
     "data": {
      "image/png": "[encoded data removed]",
      "text/plain": [
       "<Figure size 400x400 with 1 Axes>"
      ]
     },
     "metadata": {},
     "output_type": "display_data"
    }
   ],
   "source": [
    "fig = plt.figure(figsize=(4, 4), dpi=100)\n",
    "ax = plt.subplot(111)\n",
    "\n",
    "soc_pitch_divisions(ax, grids=True)\n"
   ]
  }
 ],
 "metadata": {
  "kernelspec": {
   "display_name": "Python 3.10.7 64-bit",
   "language": "python",
   "name": "python3"
  },
  "language_info": {
   "codemirror_mode": {
    "name": "ipython",
    "version": 3
   },
   "file_extension": ".py",
   "mimetype": "text/x-python",
   "name": "python",
   "nbconvert_exporter": "python",
   "pygments_lexer": "ipython3",
   "version": "3.10.7"
  },
  "orig_nbformat": 4,
  "vscode": {
   "interpreter": {
    "hash": "fb4569285eef3a3450cb62085a5b1e0da4bce0af555edc33dcf29baf3acc1368"
   }
  }
 },
 "nbformat": 4,
 "nbformat_minor": 2
}
