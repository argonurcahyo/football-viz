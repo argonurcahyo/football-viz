{
 "cells": [
  {
   "cell_type": "code",
   "execution_count": 1,
   "metadata": {},
   "outputs": [],
   "source": [
    "from selenium import webdriver\n",
    "from selenium.webdriver.chrome.options import Options\n",
    "from selenium.webdriver.chrome.service import Service as ChromeService\n",
    "from selenium.webdriver.common.by import By\n",
    "from webdriver_manager.chrome import ChromeDriverManager\n",
    "\n",
    "import pandas as pd\n",
    "\n",
    "options = Options()\n",
    "options.headless = True\n",
    "\n",
    "driver = webdriver.Chrome(options=options,service=ChromeService(ChromeDriverManager().install()))"
   ]
  },
  {
   "cell_type": "code",
   "execution_count": 10,
   "metadata": {},
   "outputs": [],
   "source": [
    "def scrape_matches_list_fotmob(driver, leagueId=47, round=1):\n",
    "    leagueName = 'premier-league'\n",
    "    if leagueId == 47:\n",
    "        leagueName = 'premier-league'\n",
    "    elif leagueId == 55:\n",
    "        leagueName = 'serie-a'\n",
    "\n",
    "    url = f'https://www.fotmob.com/leagues/{leagueId}/matches/{leagueName}/by-round?round={round}'\n",
    "\n",
    "    driver.get(url)\n",
    "    matches = driver.find_elements(\n",
    "        By.CSS_SELECTOR, \".css-qg9kjw-LeagueMatchCSS-applyHover a\")\n",
    "\n",
    "    matchIdList = []\n",
    "    matchURLList = []\n",
    "\n",
    "    for i in range(len(matches)):\n",
    "        try:\n",
    "            matchUrl = matches[i].get_attribute('href')\n",
    "            matchId = matches[i].get_attribute('href').split('/')[4]\n",
    "            try:\n",
    "                matchName = matchUrl.split('/')[6]\n",
    "            except:\n",
    "                matchName = matchId\n",
    "            print(f'{round}-{i+1} {matchName}')\n",
    "            matchURLList.append(matchUrl)\n",
    "            matchIdList.append(matchId)\n",
    "        except:\n",
    "            matchUrl, matchId = None, f'{url} - {i+1}'\n",
    "            print(f'error crawled {round}-{i+1}')\n",
    "\n",
    "    match_list_by_round = {\"matchId\": matchIdList, \"matchUrl\": matchURLList}\n",
    "    match_list_by_round = pd.DataFrame(match_list_by_round)\n",
    "    return match_list_by_round\n"
   ]
  },
  {
   "cell_type": "code",
   "execution_count": 7,
   "metadata": {},
   "outputs": [],
   "source": [
    "def scrape_match_fotmob(driver,url):\n",
    "    driver.get(url)\n",
    "    print(f\"scraping {url}....\")\n",
    "    \n",
    "    match_id = url.split('/')[4]\n",
    "\n",
    "    club_names = driver.find_elements(By.CSS_SELECTOR,\".css-er0nau-TeamName span\")\n",
    "    try:\n",
    "        home_club_name = club_names[2].text\n",
    "        away_club_name = club_names[3].text\n",
    "    except:\n",
    "        home_club_name,away_club_name = None,None\n",
    "\n",
    "    match_dates = driver.find_elements(By.CSS_SELECTOR,\"time\")\n",
    "    try:\n",
    "        match_date = match_dates[0].get_attribute('datetime')[0:10]\n",
    "    except:\n",
    "        match_date = None\n",
    "\n",
    "    xGs = driver.find_elements(By.CSS_SELECTOR,\"ul.e683amr7 li.e683amr6 span.e683amr5\")    \n",
    "    try:\n",
    "        home_xG = float(xGs[0].text)\n",
    "        away_xG = float(xGs[1].text)\n",
    "    except:\n",
    "        home_xG,away_xG=None,None\n",
    "\n",
    "    scorediv = driver.find_elements(By.CSS_SELECTOR,\".css-slmchi-wrapper .css-bw7eig-topRow\")\n",
    "    try:\n",
    "        score = scorediv[0].get_attribute('innerHTML').split(\" - \")\n",
    "        home_score = score[0]\n",
    "        away_score = score[1]\n",
    "    except:\n",
    "        home_score,away_score = None,None\n",
    "        \n",
    "    club_ids = driver.find_elements(By.CSS_SELECTOR,\".e3q4wbq2 .e3q4wbq6 .e3q4wbq3 a\")\n",
    "    try:\n",
    "        home_club_id = club_ids[0].get_attribute('href').split('/')[4]\n",
    "        away_club_id = club_ids[1].get_attribute('href').split('/')[4]\n",
    "    except:\n",
    "        home_club_id,away_club_id=None,None\n",
    "    \n",
    "    potmdiv = driver.find_elements(By.CSS_SELECTOR,\".TopPlayersAndPlayerOfTheMatch a:has(#roundStar24Px) .e1ozyfg82\")\n",
    "    try:\n",
    "        potm = potmdiv[0].text\n",
    "    except:\n",
    "        potm = None\n",
    "\n",
    "    match_stat = {\n",
    "        'match_id' : match_id,\n",
    "        'home_club_id':home_club_id,\n",
    "        'away_club_id':away_club_id,\n",
    "        'home_club_name':home_club_name,\n",
    "        'away_club_name':away_club_name,\n",
    "        'match_date' : match_date,\n",
    "        'home_score' : home_score,\n",
    "        'away_score' : away_score,\n",
    "        'home_xG': home_xG,\n",
    "        'away_xG': away_xG,\n",
    "        'potm' : potm\n",
    "    }\n",
    "    \n",
    "    return match_stat"
   ]
  },
  {
   "cell_type": "code",
   "execution_count": 4,
   "metadata": {},
   "outputs": [],
   "source": [
    "def convert_to_variable_df(df):\n",
    "    arr = []\n",
    "    for index, row in df.iterrows():\n",
    "        H_xG_for = {\n",
    "                \"match_id\" : row['match_id'],\n",
    "                \"date\" : row['match_date'],\n",
    "                'variable': 'xG_for',\n",
    "                'value': row['home_xG'],\n",
    "                'venue': 'H',\n",
    "                'team_id': row['home_club_id'],\n",
    "                'team_name': row['home_club_name'],\n",
    "            }\n",
    "        H_xG_ag = {\n",
    "                \"match_id\" : row['match_id'],\n",
    "                \"date\" : row['match_date'],\n",
    "                'variable': 'xG_ag',\n",
    "                'value': row['away_xG'],\n",
    "                'venue': 'H',\n",
    "                'team_id': row['home_club_id'],\n",
    "                'team_name': row['home_club_name'],\n",
    "            }\n",
    "        A_xG_for = {\n",
    "                \"match_id\" : row['match_id'],\n",
    "                \"date\" : row['match_date'],\n",
    "                'variable': 'xG_for',\n",
    "                'value': row['away_xG'],\n",
    "                'venue': 'A',\n",
    "                'team_id': row['away_club_id'],\n",
    "                'team_name': row['away_club_name'],\n",
    "            }\n",
    "        A_xG_ag = {\n",
    "                \"match_id\" : row['match_id'],\n",
    "                \"date\" : row['match_date'],\n",
    "                'variable': 'xG_ag',\n",
    "                'value': row['home_xG'],\n",
    "                'venue': 'A',\n",
    "                'team_id': row['away_club_id'],\n",
    "                'team_name': row['away_club_name'],\n",
    "            }\n",
    "        arr.append(H_xG_for)\n",
    "        arr.append(H_xG_ag)\n",
    "        arr.append(A_xG_for)\n",
    "        arr.append(A_xG_ag)\n",
    "\n",
    "    var_df = pd.DataFrame(arr)\n",
    "    return var_df"
   ]
  },
  {
   "cell_type": "code",
   "execution_count": null,
   "metadata": {},
   "outputs": [],
   "source": [
    "url = 'https://www.fotmob.com/match/3411351'\n",
    "s = scrape_match_fotmob(driver,url)\n",
    "print(s)"
   ]
  },
  {
   "cell_type": "markdown",
   "metadata": {},
   "source": [
    "Scrape EPL 2022/2023"
   ]
  },
  {
   "cell_type": "code",
   "execution_count": null,
   "metadata": {},
   "outputs": [],
   "source": [
    "matchlist = pd.DataFrame()\n",
    "for i in range(1,39):\n",
    "    m = scrape_matches_list_fotmob(driver,round=i)\n",
    "    matchlist = pd.concat([matchlist,m]).reset_index(drop=True)"
   ]
  },
  {
   "cell_type": "code",
   "execution_count": null,
   "metadata": {},
   "outputs": [],
   "source": [
    "match_stats = []\n",
    "for i in range(len(matchlist)):\n",
    "    matchName = matchlist['matchUrl'][i].split('/')[6]\n",
    "    stat = scrape_match_fotmob(driver,matchlist['matchUrl'][i])    \n",
    "    match_stats.append(stat)\n",
    "    print(f'{i+1}. {matchName}')\n",
    "match_stats_df = pd.DataFrame(match_stats)"
   ]
  },
  {
   "cell_type": "code",
   "execution_count": null,
   "metadata": {},
   "outputs": [],
   "source": [
    "match_stats_df = match_stats_df[~match_stats_df['home_score'].isnull()]\n",
    "match_stats_df.to_csv('data/epl_20221012.csv')\n",
    "match_stats_df[(match_stats_df['home_club_id']=='10260') | (match_stats_df['away_club_id']=='10260')].reset_index(drop=True)"
   ]
  },
  {
   "cell_type": "code",
   "execution_count": null,
   "metadata": {},
   "outputs": [],
   "source": [
    "msdf = pd.read_csv('data/epl_20221012.csv',index_col=0)\n",
    "epl_2223 = convert_to_variable_df(msdf)\n",
    "epl_2223.to_csv('data/epl_xg_2223.csv')"
   ]
  },
  {
   "cell_type": "markdown",
   "metadata": {},
   "source": [
    "Scrape Serie A 2022/2023"
   ]
  },
  {
   "cell_type": "code",
   "execution_count": null,
   "metadata": {},
   "outputs": [],
   "source": [
    "leagueId = 55\n",
    "ita_matchlist = pd.DataFrame()\n",
    "for i in range(1,39):\n",
    "    m = scrape_matches_list_fotmob(driver,leagueId=leagueId,round=i)\n",
    "    ita_matchlist = pd.concat([ita_matchlist,m]).reset_index(drop=True)"
   ]
  },
  {
   "cell_type": "code",
   "execution_count": null,
   "metadata": {},
   "outputs": [],
   "source": [
    "ita_match_stats = []\n",
    "for i in range(120):\n",
    "    stat = scrape_match_fotmob(driver,ita_matchlist['matchUrl'][i])\n",
    "    home_club = stat['home_club_name']\n",
    "    away_club = stat['away_club_name']\n",
    "    print(f'{i+1}. {home_club} vs {away_club}')\n",
    "    ita_match_stats.append(stat)\n",
    "ita_match_stats_df = pd.DataFrame(ita_match_stats)"
   ]
  },
  {
   "cell_type": "code",
   "execution_count": 16,
   "metadata": {},
   "outputs": [],
   "source": [
    "ita_match_stats_df = ita_match_stats_df[~ita_match_stats_df['home_score'].isnull()]\n",
    "seriea_2223 = convert_to_variable_df(ita_match_stats_df)\n",
    "seriea_2223.to_csv('data/seriea_xg_2223.csv')"
   ]
  },
  {
   "cell_type": "markdown",
   "metadata": {},
   "source": [
    "Scrape Serie A 2021/2022"
   ]
  },
  {
   "cell_type": "code",
   "execution_count": 19,
   "metadata": {},
   "outputs": [
    {
     "data": {
      "text/plain": [
       "'https://www.fotmob.com/match/3657390'"
      ]
     },
     "execution_count": 19,
     "metadata": {},
     "output_type": "execute_result"
    }
   ],
   "source": [
    "fotmob_match_url = 'https://www.fotmob.com/match/'\n",
    "m1 = 3656991\n",
    "\n",
    "seriea_2122_matchlist = []\n",
    "\n",
    "for i in range(400):\n",
    "    seriea_2122_matchlist.append(f'{fotmob_match_url}{m1+i}')\n",
    "\n",
    "seriea_2122_matchlist[-1]"
   ]
  },
  {
   "cell_type": "code",
   "execution_count": null,
   "metadata": {},
   "outputs": [],
   "source": [
    "ita_match_stats = []\n",
    "for i in range(len(seriea_2122_matchlist)):\n",
    "    stat = scrape_match_fotmob(driver,seriea_2122_matchlist[i])\n",
    "    home_club = stat['home_club_name']\n",
    "    away_club = stat['away_club_name']\n",
    "    print(f'{i+1}. {home_club} vs {away_club}')\n",
    "    ita_match_stats.append(stat)\n",
    "ita_match_stats_df = pd.DataFrame(ita_match_stats)"
   ]
  },
  {
   "cell_type": "code",
   "execution_count": 22,
   "metadata": {},
   "outputs": [],
   "source": [
    "ita_match_stats_df = ita_match_stats_df[~ita_match_stats_df['home_score'].isnull()]\n",
    "seriea_2122 = convert_to_variable_df(ita_match_stats_df)\n",
    "seriea_2122.to_csv('data/seriea_xg_2122.csv')"
   ]
  },
  {
   "cell_type": "markdown",
   "metadata": {},
   "source": [
    "Scrape Serie A 2020/2021"
   ]
  },
  {
   "cell_type": "code",
   "execution_count": 5,
   "metadata": {},
   "outputs": [
    {
     "data": {
      "text/plain": [
       "'https://www.fotmob.com/match/3429165'"
      ]
     },
     "execution_count": 5,
     "metadata": {},
     "output_type": "execute_result"
    }
   ],
   "source": [
    "fotmob_match_url = 'https://www.fotmob.com/match/'\n",
    "m1 = 3428766\n",
    "\n",
    "seriea_2021_matchlist = []\n",
    "\n",
    "for i in range(400):\n",
    "    seriea_2021_matchlist.append(f'{fotmob_match_url}{m1+i}')\n",
    "\n",
    "seriea_2021_matchlist[-1]"
   ]
  },
  {
   "cell_type": "code",
   "execution_count": null,
   "metadata": {},
   "outputs": [],
   "source": [
    "ita_match_stats = []\n",
    "for i in range(len(seriea_2021_matchlist)):\n",
    "    stat = scrape_match_fotmob(driver,seriea_2021_matchlist[i])\n",
    "    home_club = stat['home_club_name']\n",
    "    away_club = stat['away_club_name']\n",
    "    print(f'{i+1}. {home_club} vs {away_club}')\n",
    "    ita_match_stats.append(stat)\n",
    "ita_match_stats_df = pd.DataFrame(ita_match_stats)"
   ]
  },
  {
   "cell_type": "code",
   "execution_count": null,
   "metadata": {},
   "outputs": [],
   "source": [
    "ita_match_stats_df = ita_match_stats_df[~ita_match_stats_df['home_score'].isnull()]\n",
    "seriea_2021 = convert_to_variable_df(ita_match_stats_df)\n",
    "seriea_2021.to_csv('data/seriea_xg_2021.csv')"
   ]
  }
 ],
 "metadata": {
  "kernelspec": {
   "display_name": "Python 3.10.7 64-bit",
   "language": "python",
   "name": "python3"
  },
  "language_info": {
   "codemirror_mode": {
    "name": "ipython",
    "version": 3
   },
   "file_extension": ".py",
   "mimetype": "text/x-python",
   "name": "python",
   "nbconvert_exporter": "python",
   "pygments_lexer": "ipython3",
   "version": "3.10.7"
  },
  "orig_nbformat": 4,
  "vscode": {
   "interpreter": {
    "hash": "fb4569285eef3a3450cb62085a5b1e0da4bce0af555edc33dcf29baf3acc1368"
   }
  }
 },
 "nbformat": 4,
 "nbformat_minor": 2
}
