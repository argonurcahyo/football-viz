{
 "cells": [
  {
   "cell_type": "code",
   "execution_count": 111,
   "metadata": {},
   "outputs": [],
   "source": [
    "from selenium import webdriver\n",
    "from selenium.webdriver.chrome.options import Options\n",
    "from selenium.webdriver.chrome.service import Service as ChromeService\n",
    "from selenium.webdriver.common.by import By\n",
    "from webdriver_manager.chrome import ChromeDriverManager\n",
    "\n",
    "import pandas as pd\n",
    "\n",
    "options = Options()\n",
    "options.headless = True\n",
    "\n",
    "epl_matches_r1_url = 'https://www.fotmob.com/leagues/47/matches/premier-league/by-round?round=1'\n",
    "epl_22_cry_ars = 'https://www.fotmob.com/match/3900932/matchfacts/crystal-palace-vs-arsenal'\n",
    "\n",
    "driver = webdriver.Chrome(options=options,service=ChromeService(ChromeDriverManager().install()))"
   ]
  },
  {
   "cell_type": "code",
   "execution_count": 112,
   "metadata": {},
   "outputs": [
    {
     "data": {
      "text/html": [
       "<div>\n",
       "<style scoped>\n",
       "    .dataframe tbody tr th:only-of-type {\n",
       "        vertical-align: middle;\n",
       "    }\n",
       "\n",
       "    .dataframe tbody tr th {\n",
       "        vertical-align: top;\n",
       "    }\n",
       "\n",
       "    .dataframe thead th {\n",
       "        text-align: right;\n",
       "    }\n",
       "</style>\n",
       "<table border=\"1\" class=\"dataframe\">\n",
       "  <thead>\n",
       "    <tr style=\"text-align: right;\">\n",
       "      <th></th>\n",
       "      <th>matchId</th>\n",
       "      <th>matchUrl</th>\n",
       "    </tr>\n",
       "  </thead>\n",
       "  <tbody>\n",
       "    <tr>\n",
       "      <th>0</th>\n",
       "      <td>3900932</td>\n",
       "      <td>https://www.fotmob.com/match/3900932/matchfact...</td>\n",
       "    </tr>\n",
       "    <tr>\n",
       "      <th>1</th>\n",
       "      <td>3900933</td>\n",
       "      <td>https://www.fotmob.com/match/3900933/matchfact...</td>\n",
       "    </tr>\n",
       "    <tr>\n",
       "      <th>2</th>\n",
       "      <td>3900934</td>\n",
       "      <td>https://www.fotmob.com/match/3900934/matchfact...</td>\n",
       "    </tr>\n",
       "    <tr>\n",
       "      <th>3</th>\n",
       "      <td>3900935</td>\n",
       "      <td>https://www.fotmob.com/match/3900935/matchfact...</td>\n",
       "    </tr>\n",
       "    <tr>\n",
       "      <th>4</th>\n",
       "      <td>3900937</td>\n",
       "      <td>https://www.fotmob.com/match/3900937/matchfact...</td>\n",
       "    </tr>\n",
       "    <tr>\n",
       "      <th>5</th>\n",
       "      <td>3900938</td>\n",
       "      <td>https://www.fotmob.com/match/3900938/matchfact...</td>\n",
       "    </tr>\n",
       "    <tr>\n",
       "      <th>6</th>\n",
       "      <td>3900939</td>\n",
       "      <td>https://www.fotmob.com/match/3900939/matchfact...</td>\n",
       "    </tr>\n",
       "    <tr>\n",
       "      <th>7</th>\n",
       "      <td>3900936</td>\n",
       "      <td>https://www.fotmob.com/match/3900936/matchfact...</td>\n",
       "    </tr>\n",
       "    <tr>\n",
       "      <th>8</th>\n",
       "      <td>3900940</td>\n",
       "      <td>https://www.fotmob.com/match/3900940/matchfact...</td>\n",
       "    </tr>\n",
       "    <tr>\n",
       "      <th>9</th>\n",
       "      <td>3900941</td>\n",
       "      <td>https://www.fotmob.com/match/3900941/matchfact...</td>\n",
       "    </tr>\n",
       "  </tbody>\n",
       "</table>\n",
       "</div>"
      ],
      "text/plain": [
       "   matchId                                           matchUrl\n",
       "0  3900932  https://www.fotmob.com/match/3900932/matchfact...\n",
       "1  3900933  https://www.fotmob.com/match/3900933/matchfact...\n",
       "2  3900934  https://www.fotmob.com/match/3900934/matchfact...\n",
       "3  3900935  https://www.fotmob.com/match/3900935/matchfact...\n",
       "4  3900937  https://www.fotmob.com/match/3900937/matchfact...\n",
       "5  3900938  https://www.fotmob.com/match/3900938/matchfact...\n",
       "6  3900939  https://www.fotmob.com/match/3900939/matchfact...\n",
       "7  3900936  https://www.fotmob.com/match/3900936/matchfact...\n",
       "8  3900940  https://www.fotmob.com/match/3900940/matchfact...\n",
       "9  3900941  https://www.fotmob.com/match/3900941/matchfact..."
      ]
     },
     "execution_count": 112,
     "metadata": {},
     "output_type": "execute_result"
    }
   ],
   "source": [
    "driver.get(epl_matches_r1_url)\n",
    "matches = driver.find_elements(By.CSS_SELECTOR,\".css-qg9kjw-LeagueMatchCSS-applyHover a\")\n",
    "\n",
    "matchIdList = []\n",
    "matchURLList = []\n",
    "\n",
    "for i in range(len(matches)):\n",
    "    matchURLList.append(matches[i].get_attribute('href'))\n",
    "    matchIdList.append(matches[i].get_attribute('href').split('/')[4])\n",
    "\n",
    "df = pd.DataFrame({\"matchId\":matchIdList,\"matchUrl\":matchURLList})\n",
    "df"
   ]
  },
  {
   "cell_type": "code",
   "execution_count": 113,
   "metadata": {},
   "outputs": [],
   "source": [
    "# driver.get(epl_22_cry_ars)\n",
    "# club_names = driver.find_elements(By.CSS_SELECTOR,\".css-er0nau-TeamName span\")\n",
    "# home_club_name = club_names[2].text\n",
    "# away_club_name = club_names[3].text\n",
    "\n",
    "# match_dates = driver.find_elements(By.CSS_SELECTOR,\"time\")\n",
    "# match_date = match_dates[0].get_attribute('datetime')[0:10]\n",
    "\n",
    "# xGs = driver.find_elements(By.CSS_SELECTOR,\"ul.e683amr7 li.e683amr6 span.e683amr5\")\n",
    "# home_xG = float(xGs[0].text)\n",
    "# away_xG = float(xGs[1].text)"
   ]
  }
 ],
 "metadata": {
  "kernelspec": {
   "display_name": "Python 3.10.2 64-bit",
   "language": "python",
   "name": "python3"
  },
  "language_info": {
   "codemirror_mode": {
    "name": "ipython",
    "version": 3
   },
   "file_extension": ".py",
   "mimetype": "text/x-python",
   "name": "python",
   "nbconvert_exporter": "python",
   "pygments_lexer": "ipython3",
   "version": "3.10.2"
  },
  "orig_nbformat": 4,
  "vscode": {
   "interpreter": {
    "hash": "369f2c481f4da34e4445cda3fffd2e751bd1c4d706f27375911949ba6bb62e1c"
   }
  }
 },
 "nbformat": 4,
 "nbformat_minor": 2
}
