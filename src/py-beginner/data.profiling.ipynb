{
 "cells": [
  {
   "cell_type": "code",
   "execution_count": 27,
   "metadata": {},
   "outputs": [
    {
     "name": "stdout",
     "output_type": "stream",
     "text": [
      "Requirement already satisfied: pandas in c:\\users\\user\\appdata\\local\\programs\\python\\python310\\lib\\site-packages (2.2.2)\n",
      "Requirement already satisfied: numpy in c:\\users\\user\\appdata\\local\\programs\\python\\python310\\lib\\site-packages (1.23.3)\n",
      "Collecting numpy\n",
      "  Downloading numpy-2.1.1-cp310-cp310-win_amd64.whl.metadata (59 kB)\n",
      "     ---------------------------------------- 59.7/59.7 kB 1.6 MB/s eta 0:00:00\n",
      "Requirement already satisfied: matplotlib in c:\\users\\user\\appdata\\local\\programs\\python\\python310\\lib\\site-packages (3.6.0)\n",
      "Collecting matplotlib\n",
      "  Downloading matplotlib-3.9.2-cp310-cp310-win_amd64.whl.metadata (11 kB)\n",
      "Requirement already satisfied: python-dateutil>=2.8.2 in c:\\users\\user\\appdata\\local\\programs\\python\\python310\\lib\\site-packages (from pandas) (2.8.2)\n",
      "Requirement already satisfied: pytz>=2020.1 in c:\\users\\user\\appdata\\local\\programs\\python\\python310\\lib\\site-packages (from pandas) (2022.2.1)\n",
      "Requirement already satisfied: tzdata>=2022.7 in c:\\users\\user\\appdata\\local\\programs\\python\\python310\\lib\\site-packages (from pandas) (2024.1)\n",
      "Requirement already satisfied: contourpy>=1.0.1 in c:\\users\\user\\appdata\\local\\programs\\python\\python310\\lib\\site-packages (from matplotlib) (1.0.5)\n",
      "Requirement already satisfied: cycler>=0.10 in c:\\users\\user\\appdata\\local\\programs\\python\\python310\\lib\\site-packages (from matplotlib) (0.11.0)\n",
      "Requirement already satisfied: fonttools>=4.22.0 in c:\\users\\user\\appdata\\local\\programs\\python\\python310\\lib\\site-packages (from matplotlib) (4.37.3)\n",
      "Requirement already satisfied: kiwisolver>=1.3.1 in c:\\users\\user\\appdata\\local\\programs\\python\\python310\\lib\\site-packages (from matplotlib) (1.4.4)\n",
      "Requirement already satisfied: packaging>=20.0 in c:\\users\\user\\appdata\\local\\programs\\python\\python310\\lib\\site-packages (from matplotlib) (23.2)\n",
      "Requirement already satisfied: pillow>=8 in c:\\users\\user\\appdata\\local\\programs\\python\\python310\\lib\\site-packages (from matplotlib) (9.2.0)\n",
      "Requirement already satisfied: pyparsing>=2.3.1 in c:\\users\\user\\appdata\\local\\programs\\python\\python310\\lib\\site-packages (from matplotlib) (3.0.9)\n",
      "Requirement already satisfied: six>=1.5 in c:\\users\\user\\appdata\\local\\programs\\python\\python310\\lib\\site-packages (from python-dateutil>=2.8.2->pandas) (1.16.0)\n",
      "Downloading numpy-2.1.1-cp310-cp310-win_amd64.whl (12.9 MB)\n",
      "   ---------------------------------------- 12.9/12.9 MB 1.1 MB/s eta 0:00:00\n",
      "Downloading matplotlib-3.9.2-cp310-cp310-win_amd64.whl (7.8 MB)\n",
      "   ---------------------------------------- 7.8/7.8 MB 1.2 MB/s eta 0:00:00\n",
      "Installing collected packages: numpy, matplotlib\n",
      "  Attempting uninstall: numpy\n",
      "    Found existing installation: numpy 1.23.3\n",
      "    Uninstalling numpy-1.23.3:\n",
      "      Successfully uninstalled numpy-1.23.3\n",
      "  Attempting uninstall: matplotlib\n",
      "    Found existing installation: matplotlib 3.6.0\n",
      "    Uninstalling matplotlib-3.6.0:\n",
      "      Successfully uninstalled matplotlib-3.6.0\n",
      "Successfully installed matplotlib-3.9.2 numpy-2.1.1\n",
      "Note: you may need to restart the kernel to use updated packages.\n"
     ]
    },
    {
     "name": "stderr",
     "output_type": "stream",
     "text": [
      "  WARNING: Failed to remove contents in a temporary directory 'C:\\Users\\user\\AppData\\Local\\Programs\\Python\\Python310\\Lib\\site-packages\\~umpy'.\n",
      "  You can safely remove it manually.\n",
      "  WARNING: Failed to remove contents in a temporary directory 'C:\\Users\\user\\AppData\\Local\\Programs\\Python\\Python310\\Lib\\site-packages\\~atplotlib'.\n",
      "  You can safely remove it manually.\n",
      "ERROR: pip's dependency resolver does not currently take into account all the packages that are installed. This behaviour is the source of the following dependency conflicts.\n",
      "numba 0.60.0 requires numpy<2.1,>=1.22, but you have numpy 2.1.1 which is incompatible.\n",
      "scipy 1.9.1 requires numpy<1.25.0,>=1.18.5, but you have numpy 2.1.1 which is incompatible.\n",
      "ydata-profiling 4.9.0 requires numpy<2,>=1.16.0, but you have numpy 2.1.1 which is incompatible.\n",
      "\n",
      "[notice] A new release of pip is available: 24.0 -> 24.2\n",
      "[notice] To update, run: python.exe -m pip install --upgrade pip\n"
     ]
    }
   ],
   "source": [
    "%pip install --upgrade pandas numpy matplotlib"
   ]
  },
  {
   "cell_type": "code",
   "execution_count": 24,
   "metadata": {},
   "outputs": [],
   "source": [
    "import pandas as pd\n",
    "import numpy as np\n",
    "import io\n",
    "import ydata_profiling\n",
    "import matplotlib"
   ]
  },
  {
   "cell_type": "code",
   "execution_count": 14,
   "metadata": {},
   "outputs": [],
   "source": [
    "online_retail = pd.read_excel('online_retail.xlsx')"
   ]
  },
  {
   "cell_type": "code",
   "execution_count": 15,
   "metadata": {},
   "outputs": [
    {
     "name": "stdout",
     "output_type": "stream",
     "text": [
      "index                    int64\n",
      "invoice_no              object\n",
      "stock_code              object\n",
      "description             object\n",
      "quantity               float64\n",
      "invoice_date    datetime64[ns]\n",
      "unit_price             float64\n",
      "customer_id            float64\n",
      "country                 object\n",
      "dtype: object\n"
     ]
    }
   ],
   "source": [
    "print(online_retail.dtypes)\n",
    "length_country = len(online_retail['country'])\n",
    "count_country = online_retail['country'].count()"
   ]
  },
  {
   "cell_type": "code",
   "execution_count": 16,
   "metadata": {},
   "outputs": [
    {
     "name": "stdout",
     "output_type": "stream",
     "text": [
      "0.1%\n"
     ]
    }
   ],
   "source": [
    "length_country = len(online_retail['country'])\n",
    "count_country = online_retail['country'].count()\n",
    "\n",
    "jml_missing_value_country = length_country - count_country\n",
    "ratio_missing_value_country = jml_missing_value_country / length_country\n",
    "persen_missing_value_country = '{0:.1f}%'.format(ratio_missing_value_country * 100)\n",
    "print(persen_missing_value_country)"
   ]
  },
  {
   "cell_type": "code",
   "execution_count": 17,
   "metadata": {},
   "outputs": [
    {
     "name": "stdout",
     "output_type": "stream",
     "text": [
      "min: -9360.0\n",
      "max: 2880.0\n",
      "mean: 8.684684684684685\n",
      "median: 3.0\n",
      "sd: 124.00566402237253\n"
     ]
    }
   ],
   "source": [
    "print('min:',online_retail['quantity'].min())\n",
    "print('max:',online_retail['quantity'].max())\n",
    "print('mean:',online_retail['quantity'].mean())\n",
    "print('median:',online_retail['quantity'].median())\n",
    "print('sd:',online_retail['quantity'].std())"
   ]
  },
  {
   "cell_type": "code",
   "execution_count": 18,
   "metadata": {},
   "outputs": [
    {
     "name": "stdout",
     "output_type": "stream",
     "text": [
      "0.25    1.0\n",
      "0.50    3.0\n",
      "0.75    9.0\n",
      "Name: quantity, dtype: float64\n"
     ]
    }
   ],
   "source": [
    "print(online_retail['quantity'].quantile([.25,.5,.75]))"
   ]
  },
  {
   "cell_type": "code",
   "execution_count": 26,
   "metadata": {},
   "outputs": [
    {
     "data": {
      "application/vnd.jupyter.widget-view+json": {
       "model_id": "1790c575002b4a9c9c43fc690069a537",
       "version_major": 2,
       "version_minor": 0
      },
      "text/plain": [
       "Summarize dataset:   0%|          | 0/5 [00:00<?, ?it/s]"
      ]
     },
     "metadata": {},
     "output_type": "display_data"
    },
    {
     "ename": "ImportError",
     "evalue": "matplotlib is required for plotting when the default backend \"matplotlib\" is selected.",
     "output_type": "error",
     "traceback": [
      "\u001b[1;31m---------------------------------------------------------------------------\u001b[0m",
      "\u001b[1;31mImportError\u001b[0m                               Traceback (most recent call last)",
      "File \u001b[1;32m~\\AppData\\Roaming\\Python\\Python310\\site-packages\\IPython\\core\\formatters.py:343\u001b[0m, in \u001b[0;36mBaseFormatter.__call__\u001b[1;34m(self, obj)\u001b[0m\n\u001b[0;32m    341\u001b[0m     method \u001b[39m=\u001b[39m get_real_method(obj, \u001b[39mself\u001b[39m\u001b[39m.\u001b[39mprint_method)\n\u001b[0;32m    342\u001b[0m     \u001b[39mif\u001b[39;00m method \u001b[39mis\u001b[39;00m \u001b[39mnot\u001b[39;00m \u001b[39mNone\u001b[39;00m:\n\u001b[1;32m--> 343\u001b[0m         \u001b[39mreturn\u001b[39;00m method()\n\u001b[0;32m    344\u001b[0m     \u001b[39mreturn\u001b[39;00m \u001b[39mNone\u001b[39;00m\n\u001b[0;32m    345\u001b[0m \u001b[39melse\u001b[39;00m:\n",
      "File \u001b[1;32mc:\\Users\\user\\AppData\\Local\\Programs\\Python\\Python310\\lib\\site-packages\\ydata_profiling\\profile_report.py:546\u001b[0m, in \u001b[0;36mProfileReport._repr_html_\u001b[1;34m(self)\u001b[0m\n\u001b[0;32m    544\u001b[0m \u001b[39mdef\u001b[39;00m \u001b[39m_repr_html_\u001b[39m(\u001b[39mself\u001b[39m) \u001b[39m-\u001b[39m\u001b[39m>\u001b[39m \u001b[39mNone\u001b[39;00m:\n\u001b[0;32m    545\u001b[0m \u001b[39m    \u001b[39m\u001b[39m\"\"\"The ipython notebook widgets user interface gets called by the jupyter notebook.\"\"\"\u001b[39;00m\n\u001b[1;32m--> 546\u001b[0m     \u001b[39mself\u001b[39;49m\u001b[39m.\u001b[39;49mto_notebook_iframe()\n",
      "File \u001b[1;32mc:\\Users\\user\\AppData\\Local\\Programs\\Python\\Python310\\lib\\site-packages\\ydata_profiling\\profile_report.py:526\u001b[0m, in \u001b[0;36mProfileReport.to_notebook_iframe\u001b[1;34m(self)\u001b[0m\n\u001b[0;32m    524\u001b[0m \u001b[39mwith\u001b[39;00m warnings\u001b[39m.\u001b[39mcatch_warnings():\n\u001b[0;32m    525\u001b[0m     warnings\u001b[39m.\u001b[39msimplefilter(\u001b[39m\"\u001b[39m\u001b[39mignore\u001b[39m\u001b[39m\"\u001b[39m)\n\u001b[1;32m--> 526\u001b[0m     display(get_notebook_iframe(\u001b[39mself\u001b[39;49m\u001b[39m.\u001b[39;49mconfig, \u001b[39mself\u001b[39;49m))\n",
      "File \u001b[1;32mc:\\Users\\user\\AppData\\Local\\Programs\\Python\\Python310\\lib\\site-packages\\ydata_profiling\\report\\presentation\\flavours\\widget\\notebook.py:75\u001b[0m, in \u001b[0;36mget_notebook_iframe\u001b[1;34m(config, profile)\u001b[0m\n\u001b[0;32m     73\u001b[0m     output \u001b[39m=\u001b[39m get_notebook_iframe_src(config, profile)\n\u001b[0;32m     74\u001b[0m \u001b[39melif\u001b[39;00m attribute \u001b[39m==\u001b[39m IframeAttribute\u001b[39m.\u001b[39msrcdoc:\n\u001b[1;32m---> 75\u001b[0m     output \u001b[39m=\u001b[39m get_notebook_iframe_srcdoc(config, profile)\n\u001b[0;32m     76\u001b[0m \u001b[39melse\u001b[39;00m:\n\u001b[0;32m     77\u001b[0m     \u001b[39mraise\u001b[39;00m \u001b[39mValueError\u001b[39;00m(\n\u001b[0;32m     78\u001b[0m         \u001b[39mf\u001b[39m\u001b[39m'\u001b[39m\u001b[39mIframe Attribute can be \u001b[39m\u001b[39m\"\u001b[39m\u001b[39msrc\u001b[39m\u001b[39m\"\u001b[39m\u001b[39m or \u001b[39m\u001b[39m\"\u001b[39m\u001b[39msrcdoc\u001b[39m\u001b[39m\"\u001b[39m\u001b[39m (current: \u001b[39m\u001b[39m{\u001b[39;00mattribute\u001b[39m}\u001b[39;00m\u001b[39m).\u001b[39m\u001b[39m'\u001b[39m\n\u001b[0;32m     79\u001b[0m     )\n",
      "File \u001b[1;32mc:\\Users\\user\\AppData\\Local\\Programs\\Python\\Python310\\lib\\site-packages\\ydata_profiling\\report\\presentation\\flavours\\widget\\notebook.py:29\u001b[0m, in \u001b[0;36mget_notebook_iframe_srcdoc\u001b[1;34m(config, profile)\u001b[0m\n\u001b[0;32m     27\u001b[0m width \u001b[39m=\u001b[39m config\u001b[39m.\u001b[39mnotebook\u001b[39m.\u001b[39miframe\u001b[39m.\u001b[39mwidth\n\u001b[0;32m     28\u001b[0m height \u001b[39m=\u001b[39m config\u001b[39m.\u001b[39mnotebook\u001b[39m.\u001b[39miframe\u001b[39m.\u001b[39mheight\n\u001b[1;32m---> 29\u001b[0m src \u001b[39m=\u001b[39m html\u001b[39m.\u001b[39mescape(profile\u001b[39m.\u001b[39;49mto_html())\n\u001b[0;32m     31\u001b[0m iframe \u001b[39m=\u001b[39m \u001b[39mf\u001b[39m\u001b[39m'\u001b[39m\u001b[39m<iframe width=\u001b[39m\u001b[39m\"\u001b[39m\u001b[39m{\u001b[39;00mwidth\u001b[39m}\u001b[39;00m\u001b[39m\"\u001b[39m\u001b[39m height=\u001b[39m\u001b[39m\"\u001b[39m\u001b[39m{\u001b[39;00mheight\u001b[39m}\u001b[39;00m\u001b[39m\"\u001b[39m\u001b[39m srcdoc=\u001b[39m\u001b[39m\"\u001b[39m\u001b[39m{\u001b[39;00msrc\u001b[39m}\u001b[39;00m\u001b[39m\"\u001b[39m\u001b[39m frameborder=\u001b[39m\u001b[39m\"\u001b[39m\u001b[39m0\u001b[39m\u001b[39m\"\u001b[39m\u001b[39m allowfullscreen></iframe>\u001b[39m\u001b[39m'\u001b[39m\n\u001b[0;32m     33\u001b[0m \u001b[39mreturn\u001b[39;00m HTML(iframe)\n",
      "File \u001b[1;32mc:\\Users\\user\\AppData\\Local\\Programs\\Python\\Python310\\lib\\site-packages\\ydata_profiling\\profile_report.py:496\u001b[0m, in \u001b[0;36mProfileReport.to_html\u001b[1;34m(self)\u001b[0m\n\u001b[0;32m    488\u001b[0m \u001b[39mdef\u001b[39;00m \u001b[39mto_html\u001b[39m(\u001b[39mself\u001b[39m) \u001b[39m-\u001b[39m\u001b[39m>\u001b[39m \u001b[39mstr\u001b[39m:\n\u001b[0;32m    489\u001b[0m \u001b[39m    \u001b[39m\u001b[39m\"\"\"Generate and return complete template as lengthy string\u001b[39;00m\n\u001b[0;32m    490\u001b[0m \u001b[39m        for using with frameworks.\u001b[39;00m\n\u001b[0;32m    491\u001b[0m \n\u001b[1;32m   (...)\u001b[0m\n\u001b[0;32m    494\u001b[0m \n\u001b[0;32m    495\u001b[0m \u001b[39m    \"\"\"\u001b[39;00m\n\u001b[1;32m--> 496\u001b[0m     \u001b[39mreturn\u001b[39;00m \u001b[39mself\u001b[39m\u001b[39m.\u001b[39mhtml\n",
      "File \u001b[1;32mc:\\Users\\user\\AppData\\Local\\Programs\\Python\\Python310\\lib\\site-packages\\ydata_profiling\\profile_report.py:292\u001b[0m, in \u001b[0;36mProfileReport.html\u001b[1;34m(self)\u001b[0m\n\u001b[0;32m    289\u001b[0m \u001b[39m@property\u001b[39m\n\u001b[0;32m    290\u001b[0m \u001b[39mdef\u001b[39;00m \u001b[39mhtml\u001b[39m(\u001b[39mself\u001b[39m) \u001b[39m-\u001b[39m\u001b[39m>\u001b[39m \u001b[39mstr\u001b[39m:\n\u001b[0;32m    291\u001b[0m     \u001b[39mif\u001b[39;00m \u001b[39mself\u001b[39m\u001b[39m.\u001b[39m_html \u001b[39mis\u001b[39;00m \u001b[39mNone\u001b[39;00m:\n\u001b[1;32m--> 292\u001b[0m         \u001b[39mself\u001b[39m\u001b[39m.\u001b[39m_html \u001b[39m=\u001b[39m \u001b[39mself\u001b[39m\u001b[39m.\u001b[39m_render_html()\n\u001b[0;32m    293\u001b[0m     \u001b[39mreturn\u001b[39;00m \u001b[39mself\u001b[39m\u001b[39m.\u001b[39m_html\n",
      "File \u001b[1;32mc:\\Users\\user\\AppData\\Local\\Programs\\Python\\Python310\\lib\\site-packages\\ydata_profiling\\profile_report.py:409\u001b[0m, in \u001b[0;36mProfileReport._render_html\u001b[1;34m(self)\u001b[0m\n\u001b[0;32m    406\u001b[0m \u001b[39mdef\u001b[39;00m \u001b[39m_render_html\u001b[39m(\u001b[39mself\u001b[39m) \u001b[39m-\u001b[39m\u001b[39m>\u001b[39m \u001b[39mstr\u001b[39m:\n\u001b[0;32m    407\u001b[0m     \u001b[39mfrom\u001b[39;00m \u001b[39mydata_profiling\u001b[39;00m\u001b[39m.\u001b[39;00m\u001b[39mreport\u001b[39;00m\u001b[39m.\u001b[39;00m\u001b[39mpresentation\u001b[39;00m\u001b[39m.\u001b[39;00m\u001b[39mflavours\u001b[39;00m \u001b[39mimport\u001b[39;00m HTMLReport\n\u001b[1;32m--> 409\u001b[0m     report \u001b[39m=\u001b[39m \u001b[39mself\u001b[39m\u001b[39m.\u001b[39mreport\n\u001b[0;32m    411\u001b[0m     \u001b[39mwith\u001b[39;00m tqdm(\n\u001b[0;32m    412\u001b[0m         total\u001b[39m=\u001b[39m\u001b[39m1\u001b[39m, desc\u001b[39m=\u001b[39m\u001b[39m\"\u001b[39m\u001b[39mRender HTML\u001b[39m\u001b[39m\"\u001b[39m, disable\u001b[39m=\u001b[39m\u001b[39mnot\u001b[39;00m \u001b[39mself\u001b[39m\u001b[39m.\u001b[39mconfig\u001b[39m.\u001b[39mprogress_bar\n\u001b[0;32m    413\u001b[0m     ) \u001b[39mas\u001b[39;00m pbar:\n\u001b[0;32m    414\u001b[0m         html \u001b[39m=\u001b[39m HTMLReport(copy\u001b[39m.\u001b[39mdeepcopy(report))\u001b[39m.\u001b[39mrender(\n\u001b[0;32m    415\u001b[0m             nav\u001b[39m=\u001b[39m\u001b[39mself\u001b[39m\u001b[39m.\u001b[39mconfig\u001b[39m.\u001b[39mhtml\u001b[39m.\u001b[39mnavbar_show,\n\u001b[0;32m    416\u001b[0m             offline\u001b[39m=\u001b[39m\u001b[39mself\u001b[39m\u001b[39m.\u001b[39mconfig\u001b[39m.\u001b[39mhtml\u001b[39m.\u001b[39muse_local_assets,\n\u001b[1;32m   (...)\u001b[0m\n\u001b[0;32m    424\u001b[0m             version\u001b[39m=\u001b[39m\u001b[39mself\u001b[39m\u001b[39m.\u001b[39mdescription_set\u001b[39m.\u001b[39mpackage[\u001b[39m\"\u001b[39m\u001b[39mydata_profiling_version\u001b[39m\u001b[39m\"\u001b[39m],\n\u001b[0;32m    425\u001b[0m         )\n",
      "File \u001b[1;32mc:\\Users\\user\\AppData\\Local\\Programs\\Python\\Python310\\lib\\site-packages\\ydata_profiling\\profile_report.py:286\u001b[0m, in \u001b[0;36mProfileReport.report\u001b[1;34m(self)\u001b[0m\n\u001b[0;32m    283\u001b[0m \u001b[39m@property\u001b[39m\n\u001b[0;32m    284\u001b[0m \u001b[39mdef\u001b[39;00m \u001b[39mreport\u001b[39m(\u001b[39mself\u001b[39m) \u001b[39m-\u001b[39m\u001b[39m>\u001b[39m Root:\n\u001b[0;32m    285\u001b[0m     \u001b[39mif\u001b[39;00m \u001b[39mself\u001b[39m\u001b[39m.\u001b[39m_report \u001b[39mis\u001b[39;00m \u001b[39mNone\u001b[39;00m:\n\u001b[1;32m--> 286\u001b[0m         \u001b[39mself\u001b[39m\u001b[39m.\u001b[39m_report \u001b[39m=\u001b[39m get_report_structure(\u001b[39mself\u001b[39m\u001b[39m.\u001b[39mconfig, \u001b[39mself\u001b[39m\u001b[39m.\u001b[39mdescription_set)\n\u001b[0;32m    287\u001b[0m     \u001b[39mreturn\u001b[39;00m \u001b[39mself\u001b[39m\u001b[39m.\u001b[39m_report\n",
      "File \u001b[1;32mc:\\Users\\user\\AppData\\Local\\Programs\\Python\\Python310\\lib\\site-packages\\ydata_profiling\\profile_report.py:268\u001b[0m, in \u001b[0;36mProfileReport.description_set\u001b[1;34m(self)\u001b[0m\n\u001b[0;32m    265\u001b[0m \u001b[39m@property\u001b[39m\n\u001b[0;32m    266\u001b[0m \u001b[39mdef\u001b[39;00m \u001b[39mdescription_set\u001b[39m(\u001b[39mself\u001b[39m) \u001b[39m-\u001b[39m\u001b[39m>\u001b[39m BaseDescription:\n\u001b[0;32m    267\u001b[0m     \u001b[39mif\u001b[39;00m \u001b[39mself\u001b[39m\u001b[39m.\u001b[39m_description_set \u001b[39mis\u001b[39;00m \u001b[39mNone\u001b[39;00m:\n\u001b[1;32m--> 268\u001b[0m         \u001b[39mself\u001b[39m\u001b[39m.\u001b[39m_description_set \u001b[39m=\u001b[39m describe_df(\n\u001b[0;32m    269\u001b[0m             \u001b[39mself\u001b[39m\u001b[39m.\u001b[39mconfig,\n\u001b[0;32m    270\u001b[0m             \u001b[39mself\u001b[39m\u001b[39m.\u001b[39mdf,\n\u001b[0;32m    271\u001b[0m             \u001b[39mself\u001b[39m\u001b[39m.\u001b[39msummarizer,\n\u001b[0;32m    272\u001b[0m             \u001b[39mself\u001b[39m\u001b[39m.\u001b[39mtypeset,\n\u001b[0;32m    273\u001b[0m             \u001b[39mself\u001b[39m\u001b[39m.\u001b[39m_sample,\n\u001b[0;32m    274\u001b[0m         )\n\u001b[0;32m    275\u001b[0m     \u001b[39mreturn\u001b[39;00m \u001b[39mself\u001b[39m\u001b[39m.\u001b[39m_description_set\n",
      "File \u001b[1;32mc:\\Users\\user\\AppData\\Local\\Programs\\Python\\Python310\\lib\\site-packages\\ydata_profiling\\model\\describe.py:130\u001b[0m, in \u001b[0;36mdescribe\u001b[1;34m(config, df, summarizer, typeset, sample)\u001b[0m\n\u001b[0;32m    126\u001b[0m scatter_matrix: Dict[Any, Dict[Any, Any]] \u001b[39m=\u001b[39m {\n\u001b[0;32m    127\u001b[0m     x: {y: \u001b[39mNone\u001b[39;00m} \u001b[39mfor\u001b[39;00m x, y \u001b[39min\u001b[39;00m scatter_tasks\n\u001b[0;32m    128\u001b[0m }\n\u001b[0;32m    129\u001b[0m \u001b[39mfor\u001b[39;00m x, y \u001b[39min\u001b[39;00m scatter_tasks:\n\u001b[1;32m--> 130\u001b[0m     scatter_matrix[x][y] \u001b[39m=\u001b[39m progress(\n\u001b[0;32m    131\u001b[0m         get_scatter_plot, pbar, \u001b[39mf\u001b[39;49m\u001b[39m\"\u001b[39;49m\u001b[39mscatter \u001b[39;49m\u001b[39m{\u001b[39;49;00mx\u001b[39m}\u001b[39;49;00m\u001b[39m, \u001b[39;49m\u001b[39m{\u001b[39;49;00my\u001b[39m}\u001b[39;49;00m\u001b[39m\"\u001b[39;49m\n\u001b[0;32m    132\u001b[0m     )(config, df, x, y, interval_columns)\n\u001b[0;32m    134\u001b[0m \u001b[39m# missing diagrams\u001b[39;00m\n\u001b[0;32m    135\u001b[0m missing_map \u001b[39m=\u001b[39m get_missing_active(config, table_stats)\n",
      "File \u001b[1;32mc:\\Users\\user\\AppData\\Local\\Programs\\Python\\Python310\\lib\\site-packages\\ydata_profiling\\utils\\progress_bar.py:11\u001b[0m, in \u001b[0;36mprogress.<locals>.inner\u001b[1;34m(*args, **kwargs)\u001b[0m\n\u001b[0;32m      8\u001b[0m \u001b[39m@wraps\u001b[39m(fn)\n\u001b[0;32m      9\u001b[0m \u001b[39mdef\u001b[39;00m \u001b[39minner\u001b[39m(\u001b[39m*\u001b[39margs, \u001b[39m*\u001b[39m\u001b[39m*\u001b[39mkwargs) \u001b[39m-\u001b[39m\u001b[39m>\u001b[39m Any:\n\u001b[0;32m     10\u001b[0m     bar\u001b[39m.\u001b[39mset_postfix_str(message)\n\u001b[1;32m---> 11\u001b[0m     ret \u001b[39m=\u001b[39m fn(\u001b[39m*\u001b[39margs, \u001b[39m*\u001b[39m\u001b[39m*\u001b[39mkwargs)\n\u001b[0;32m     12\u001b[0m     bar\u001b[39m.\u001b[39mupdate()\n\u001b[0;32m     13\u001b[0m     \u001b[39mreturn\u001b[39;00m ret\n",
      "File \u001b[1;32mc:\\Users\\user\\AppData\\Local\\Programs\\Python\\Python310\\lib\\site-packages\\ydata_profiling\\model\\pairwise.py:31\u001b[0m, in \u001b[0;36mget_scatter_plot\u001b[1;34m(config, df, x, y, continuous_variables)\u001b[0m\n\u001b[0;32m     29\u001b[0m     \u001b[39melse\u001b[39;00m:\n\u001b[0;32m     30\u001b[0m         df_temp \u001b[39m=\u001b[39m df[[x, y]]\u001b[39m.\u001b[39mdropna()\n\u001b[1;32m---> 31\u001b[0m     \u001b[39mreturn\u001b[39;00m scatter_pairwise(config, df_temp[x], df_temp[y], x, y)\n\u001b[0;32m     32\u001b[0m \u001b[39melse\u001b[39;00m:\n\u001b[0;32m     33\u001b[0m     \u001b[39mreturn\u001b[39;00m \u001b[39m\"\u001b[39m\u001b[39m\"\u001b[39m\n",
      "File \u001b[1;32mc:\\Users\\user\\AppData\\Local\\Programs\\Python\\Python310\\lib\\contextlib.py:78\u001b[0m, in \u001b[0;36mContextDecorator.__call__.<locals>.inner\u001b[1;34m(*args, **kwds)\u001b[0m\n\u001b[0;32m     76\u001b[0m \u001b[39m@wraps\u001b[39m(func)\n\u001b[0;32m     77\u001b[0m \u001b[39mdef\u001b[39;00m \u001b[39minner\u001b[39m(\u001b[39m*\u001b[39margs, \u001b[39m*\u001b[39m\u001b[39m*\u001b[39mkwds):\n\u001b[1;32m---> 78\u001b[0m     \u001b[39mwith\u001b[39;00m \u001b[39mself\u001b[39m\u001b[39m.\u001b[39m_recreate_cm():\n\u001b[0;32m     79\u001b[0m         \u001b[39mreturn\u001b[39;00m func(\u001b[39m*\u001b[39margs, \u001b[39m*\u001b[39m\u001b[39m*\u001b[39mkwds)\n",
      "File \u001b[1;32mc:\\Users\\user\\AppData\\Local\\Programs\\Python\\Python310\\lib\\contextlib.py:135\u001b[0m, in \u001b[0;36m_GeneratorContextManager.__enter__\u001b[1;34m(self)\u001b[0m\n\u001b[0;32m    133\u001b[0m \u001b[39mdel\u001b[39;00m \u001b[39mself\u001b[39m\u001b[39m.\u001b[39margs, \u001b[39mself\u001b[39m\u001b[39m.\u001b[39mkwds, \u001b[39mself\u001b[39m\u001b[39m.\u001b[39mfunc\n\u001b[0;32m    134\u001b[0m \u001b[39mtry\u001b[39;00m:\n\u001b[1;32m--> 135\u001b[0m     \u001b[39mreturn\u001b[39;00m \u001b[39mnext\u001b[39;49m(\u001b[39mself\u001b[39;49m\u001b[39m.\u001b[39;49mgen)\n\u001b[0;32m    136\u001b[0m \u001b[39mexcept\u001b[39;00m \u001b[39mStopIteration\u001b[39;00m:\n\u001b[0;32m    137\u001b[0m     \u001b[39mraise\u001b[39;00m \u001b[39mRuntimeError\u001b[39;00m(\u001b[39m\"\u001b[39m\u001b[39mgenerator didn\u001b[39m\u001b[39m'\u001b[39m\u001b[39mt yield\u001b[39m\u001b[39m\"\u001b[39m) \u001b[39mfrom\u001b[39;00m \u001b[39mNone\u001b[39;00m\n",
      "File \u001b[1;32mc:\\Users\\user\\AppData\\Local\\Programs\\Python\\Python310\\lib\\site-packages\\ydata_profiling\\visualisation\\context.py:82\u001b[0m, in \u001b[0;36mmanage_matplotlib_context\u001b[1;34m()\u001b[0m\n\u001b[0;32m     80\u001b[0m     \u001b[39myield\u001b[39;00m\n\u001b[0;32m     81\u001b[0m \u001b[39mfinally\u001b[39;00m:\n\u001b[1;32m---> 82\u001b[0m     deregister_matplotlib_converters()  \u001b[39m# revert to original unit registries\u001b[39;00m\n\u001b[0;32m     83\u001b[0m     \u001b[39mwith\u001b[39;00m warnings\u001b[39m.\u001b[39mcatch_warnings():\n\u001b[0;32m     84\u001b[0m         warnings\u001b[39m.\u001b[39mfilterwarnings(\n\u001b[0;32m     85\u001b[0m             \u001b[39m\"\u001b[39m\u001b[39mignore\u001b[39m\u001b[39m\"\u001b[39m, category\u001b[39m=\u001b[39mmatplotlib\u001b[39m.\u001b[39mMatplotlibDeprecationWarning\n\u001b[0;32m     86\u001b[0m         )\n",
      "File \u001b[1;32mc:\\Users\\user\\AppData\\Local\\Programs\\Python\\Python310\\lib\\site-packages\\pandas\\plotting\\_misc.py:84\u001b[0m, in \u001b[0;36mderegister\u001b[1;34m()\u001b[0m\n\u001b[0;32m     67\u001b[0m \u001b[39mdef\u001b[39;00m \u001b[39mregister\u001b[39m() \u001b[39m-\u001b[39m\u001b[39m>\u001b[39m \u001b[39mNone\u001b[39;00m:\n\u001b[0;32m     68\u001b[0m \u001b[39m    \u001b[39m\u001b[39m\"\"\"\u001b[39;00m\n\u001b[0;32m     69\u001b[0m \u001b[39m    Register pandas formatters and converters with matplotlib.\u001b[39;00m\n\u001b[0;32m     70\u001b[0m \n\u001b[0;32m     71\u001b[0m \u001b[39m    This function modifies the global ``matplotlib.units.registry``\u001b[39;00m\n\u001b[0;32m     72\u001b[0m \u001b[39m    dictionary. pandas adds custom converters for\u001b[39;00m\n\u001b[0;32m     73\u001b[0m \n\u001b[0;32m     74\u001b[0m \u001b[39m    * pd.Timestamp\u001b[39;00m\n\u001b[0;32m     75\u001b[0m \u001b[39m    * pd.Period\u001b[39;00m\n\u001b[0;32m     76\u001b[0m \u001b[39m    * np.datetime64\u001b[39;00m\n\u001b[0;32m     77\u001b[0m \u001b[39m    * datetime.datetime\u001b[39;00m\n\u001b[0;32m     78\u001b[0m \u001b[39m    * datetime.date\u001b[39;00m\n\u001b[0;32m     79\u001b[0m \u001b[39m    * datetime.time\u001b[39;00m\n\u001b[0;32m     80\u001b[0m \n\u001b[0;32m     81\u001b[0m \u001b[39m    See Also\u001b[39;00m\n\u001b[0;32m     82\u001b[0m \u001b[39m    --------\u001b[39;00m\n\u001b[0;32m     83\u001b[0m \u001b[39m    deregister_matplotlib_converters : Remove pandas formatters and converters.\u001b[39;00m\n\u001b[1;32m---> 84\u001b[0m \n\u001b[0;32m     85\u001b[0m \u001b[39m    Examples\u001b[39;00m\n\u001b[0;32m     86\u001b[0m \u001b[39m    --------\u001b[39;00m\n\u001b[0;32m     87\u001b[0m \u001b[39m    .. plot::\u001b[39;00m\n\u001b[0;32m     88\u001b[0m \u001b[39m       :context: close-figs\u001b[39;00m\n\u001b[0;32m     89\u001b[0m \n\u001b[0;32m     90\u001b[0m \u001b[39m        The following line is done automatically by pandas so\u001b[39;00m\n\u001b[0;32m     91\u001b[0m \u001b[39m        the plot can be rendered:\u001b[39;00m\n\u001b[0;32m     92\u001b[0m \n\u001b[0;32m     93\u001b[0m \u001b[39m        >>> pd.plotting.register_matplotlib_converters()\u001b[39;00m\n\u001b[0;32m     94\u001b[0m \n\u001b[0;32m     95\u001b[0m \u001b[39m        >>> df = pd.DataFrame({'ts': pd.period_range('2020', periods=2, freq='M'),\u001b[39;00m\n\u001b[0;32m     96\u001b[0m \u001b[39m        ...                    'y': [1, 2]\u001b[39;00m\n\u001b[0;32m     97\u001b[0m \u001b[39m        ...                    })\u001b[39;00m\n\u001b[0;32m     98\u001b[0m \u001b[39m        >>> plot = df.plot.line(x='ts', y='y')\u001b[39;00m\n\u001b[0;32m     99\u001b[0m \n\u001b[0;32m    100\u001b[0m \u001b[39m    Unsetting the register manually an error will be raised:\u001b[39;00m\n\u001b[0;32m    101\u001b[0m \n\u001b[0;32m    102\u001b[0m \u001b[39m    >>> pd.set_option(\"plotting.matplotlib.register_converters\",\u001b[39;00m\n\u001b[0;32m    103\u001b[0m \u001b[39m    ...               False)  # doctest: +SKIP\u001b[39;00m\n\u001b[0;32m    104\u001b[0m \u001b[39m    >>> df.plot.line(x='ts', y='y')  # doctest: +SKIP\u001b[39;00m\n\u001b[0;32m    105\u001b[0m \u001b[39m    Traceback (most recent call last):\u001b[39;00m\n\u001b[0;32m    106\u001b[0m \u001b[39m    TypeError: float() argument must be a string or a real number, not 'Period'\u001b[39;00m\n\u001b[0;32m    107\u001b[0m \u001b[39m    \"\"\"\u001b[39;00m\n\u001b[0;32m    108\u001b[0m     plot_backend \u001b[39m=\u001b[39m _get_plot_backend(\u001b[39m\"\u001b[39m\u001b[39mmatplotlib\u001b[39m\u001b[39m\"\u001b[39m)\n\u001b[0;32m    109\u001b[0m     plot_backend\u001b[39m.\u001b[39mregister()\n",
      "File \u001b[1;32mc:\\Users\\user\\AppData\\Local\\Programs\\Python\\Python310\\lib\\site-packages\\pandas\\plotting\\_core.py:1908\u001b[0m, in \u001b[0;36m_get_plot_backend\u001b[1;34m(backend)\u001b[0m\n\u001b[0;32m   1905\u001b[0m         \u001b[39mpass\u001b[39;00m\n\u001b[0;32m   1907\u001b[0m \u001b[39mif\u001b[39;00m found_backend:\n\u001b[1;32m-> 1908\u001b[0m     \u001b[39mif\u001b[39;00m \u001b[39mhasattr\u001b[39m(module, \u001b[39m\"\u001b[39m\u001b[39mplot\u001b[39m\u001b[39m\"\u001b[39m):\n\u001b[0;32m   1909\u001b[0m         \u001b[39m# Validate that the interface is implemented when the option is set,\u001b[39;00m\n\u001b[0;32m   1910\u001b[0m         \u001b[39m# rather than at plot time.\u001b[39;00m\n\u001b[0;32m   1911\u001b[0m         \u001b[39mreturn\u001b[39;00m module\n\u001b[0;32m   1913\u001b[0m \u001b[39mraise\u001b[39;00m \u001b[39mValueError\u001b[39;00m(\n\u001b[0;32m   1914\u001b[0m     \u001b[39mf\u001b[39m\u001b[39m\"\u001b[39m\u001b[39mCould not find plotting backend \u001b[39m\u001b[39m'\u001b[39m\u001b[39m{\u001b[39;00mbackend\u001b[39m}\u001b[39;00m\u001b[39m'\u001b[39m\u001b[39m. Ensure that you\u001b[39m\u001b[39m'\u001b[39m\u001b[39mve \u001b[39m\u001b[39m\"\u001b[39m\n\u001b[0;32m   1915\u001b[0m     \u001b[39mf\u001b[39m\u001b[39m\"\u001b[39m\u001b[39minstalled the package providing the \u001b[39m\u001b[39m'\u001b[39m\u001b[39m{\u001b[39;00mbackend\u001b[39m}\u001b[39;00m\u001b[39m'\u001b[39m\u001b[39m entrypoint, or that \u001b[39m\u001b[39m\"\u001b[39m\n\u001b[0;32m   1916\u001b[0m     \u001b[39m\"\u001b[39m\u001b[39mthe package has a top-level `.plot` method.\u001b[39m\u001b[39m\"\u001b[39m\n\u001b[0;32m   1917\u001b[0m )\n",
      "File \u001b[1;32mc:\\Users\\user\\AppData\\Local\\Programs\\Python\\Python310\\lib\\site-packages\\pandas\\plotting\\_core.py:1839\u001b[0m, in \u001b[0;36m_load_backend\u001b[1;34m(backend)\u001b[0m\n\u001b[0;32m   1750\u001b[0m \u001b[39mdef\u001b[39;00m \u001b[39mhexbin\u001b[39m(\n\u001b[0;32m   1751\u001b[0m     \u001b[39mself\u001b[39m,\n\u001b[0;32m   1752\u001b[0m     x: Hashable,\n\u001b[1;32m   (...)\u001b[0m\n\u001b[0;32m   1757\u001b[0m     \u001b[39m*\u001b[39m\u001b[39m*\u001b[39mkwargs,\n\u001b[0;32m   1758\u001b[0m ) \u001b[39m-\u001b[39m\u001b[39m>\u001b[39m PlotAccessor:\n\u001b[0;32m   1759\u001b[0m \u001b[39m    \u001b[39m\u001b[39m\"\"\"\u001b[39;00m\n\u001b[0;32m   1760\u001b[0m \u001b[39m    Generate a hexagonal binning plot.\u001b[39;00m\n\u001b[0;32m   1761\u001b[0m \n\u001b[0;32m   1762\u001b[0m \u001b[39m    Generate a hexagonal binning plot of `x` versus `y`. If `C` is `None`\u001b[39;00m\n\u001b[0;32m   1763\u001b[0m \u001b[39m    (the default), this is a histogram of the number of occurrences\u001b[39;00m\n\u001b[0;32m   1764\u001b[0m \u001b[39m    of the observations at ``(x[i], y[i])``.\u001b[39;00m\n\u001b[0;32m   1765\u001b[0m \n\u001b[0;32m   1766\u001b[0m \u001b[39m    If `C` is specified, specifies values at given coordinates\u001b[39;00m\n\u001b[0;32m   1767\u001b[0m \u001b[39m    ``(x[i], y[i])``. These values are accumulated for each hexagonal\u001b[39;00m\n\u001b[0;32m   1768\u001b[0m \u001b[39m    bin and then reduced according to `reduce_C_function`,\u001b[39;00m\n\u001b[0;32m   1769\u001b[0m \u001b[39m    having as default the NumPy's mean function (:meth:`numpy.mean`).\u001b[39;00m\n\u001b[0;32m   1770\u001b[0m \u001b[39m    (If `C` is specified, it must also be a 1-D sequence\u001b[39;00m\n\u001b[0;32m   1771\u001b[0m \u001b[39m    of the same length as `x` and `y`, or a column label.)\u001b[39;00m\n\u001b[0;32m   1772\u001b[0m \n\u001b[0;32m   1773\u001b[0m \u001b[39m    Parameters\u001b[39;00m\n\u001b[0;32m   1774\u001b[0m \u001b[39m    ----------\u001b[39;00m\n\u001b[0;32m   1775\u001b[0m \u001b[39m    x : int or str\u001b[39;00m\n\u001b[0;32m   1776\u001b[0m \u001b[39m        The column label or position for x points.\u001b[39;00m\n\u001b[0;32m   1777\u001b[0m \u001b[39m    y : int or str\u001b[39;00m\n\u001b[0;32m   1778\u001b[0m \u001b[39m        The column label or position for y points.\u001b[39;00m\n\u001b[0;32m   1779\u001b[0m \u001b[39m    C : int or str, optional\u001b[39;00m\n\u001b[0;32m   1780\u001b[0m \u001b[39m        The column label or position for the value of `(x, y)` point.\u001b[39;00m\n\u001b[0;32m   1781\u001b[0m \u001b[39m    reduce_C_function : callable, default `np.mean`\u001b[39;00m\n\u001b[0;32m   1782\u001b[0m \u001b[39m        Function of one argument that reduces all the values in a bin to\u001b[39;00m\n\u001b[0;32m   1783\u001b[0m \u001b[39m        a single number (e.g. `np.mean`, `np.max`, `np.sum`, `np.std`).\u001b[39;00m\n\u001b[0;32m   1784\u001b[0m \u001b[39m    gridsize : int or tuple of (int, int), default 100\u001b[39;00m\n\u001b[0;32m   1785\u001b[0m \u001b[39m        The number of hexagons in the x-direction.\u001b[39;00m\n\u001b[0;32m   1786\u001b[0m \u001b[39m        The corresponding number of hexagons in the y-direction is\u001b[39;00m\n\u001b[0;32m   1787\u001b[0m \u001b[39m        chosen in a way that the hexagons are approximately regular.\u001b[39;00m\n\u001b[0;32m   1788\u001b[0m \u001b[39m        Alternatively, gridsize can be a tuple with two elements\u001b[39;00m\n\u001b[0;32m   1789\u001b[0m \u001b[39m        specifying the number of hexagons in the x-direction and the\u001b[39;00m\n\u001b[0;32m   1790\u001b[0m \u001b[39m        y-direction.\u001b[39;00m\n\u001b[0;32m   1791\u001b[0m \u001b[39m    **kwargs\u001b[39;00m\n\u001b[0;32m   1792\u001b[0m \u001b[39m        Additional keyword arguments are documented in\u001b[39;00m\n\u001b[0;32m   1793\u001b[0m \u001b[39m        :meth:`DataFrame.plot`.\u001b[39;00m\n\u001b[0;32m   1794\u001b[0m \n\u001b[0;32m   1795\u001b[0m \u001b[39m    Returns\u001b[39;00m\n\u001b[0;32m   1796\u001b[0m \u001b[39m    -------\u001b[39;00m\n\u001b[0;32m   1797\u001b[0m \u001b[39m    matplotlib.AxesSubplot\u001b[39;00m\n\u001b[0;32m   1798\u001b[0m \u001b[39m        The matplotlib ``Axes`` on which the hexbin is plotted.\u001b[39;00m\n\u001b[0;32m   1799\u001b[0m \n\u001b[0;32m   1800\u001b[0m \u001b[39m    See Also\u001b[39;00m\n\u001b[0;32m   1801\u001b[0m \u001b[39m    --------\u001b[39;00m\n\u001b[0;32m   1802\u001b[0m \u001b[39m    DataFrame.plot : Make plots of a DataFrame.\u001b[39;00m\n\u001b[0;32m   1803\u001b[0m \u001b[39m    matplotlib.pyplot.hexbin : Hexagonal binning plot using matplotlib,\u001b[39;00m\n\u001b[0;32m   1804\u001b[0m \u001b[39m        the matplotlib function that is used under the hood.\u001b[39;00m\n\u001b[0;32m   1805\u001b[0m \n\u001b[0;32m   1806\u001b[0m \u001b[39m    Examples\u001b[39;00m\n\u001b[0;32m   1807\u001b[0m \u001b[39m    --------\u001b[39;00m\n\u001b[0;32m   1808\u001b[0m \u001b[39m    The following examples are generated with random data from\u001b[39;00m\n\u001b[0;32m   1809\u001b[0m \u001b[39m    a normal distribution.\u001b[39;00m\n\u001b[0;32m   1810\u001b[0m \n\u001b[0;32m   1811\u001b[0m \u001b[39m    .. plot::\u001b[39;00m\n\u001b[0;32m   1812\u001b[0m \u001b[39m        :context: close-figs\u001b[39;00m\n\u001b[0;32m   1813\u001b[0m \n\u001b[0;32m   1814\u001b[0m \u001b[39m        >>> n = 10000\u001b[39;00m\n\u001b[0;32m   1815\u001b[0m \u001b[39m        >>> df = pd.DataFrame({'x': np.random.randn(n),\u001b[39;00m\n\u001b[0;32m   1816\u001b[0m \u001b[39m        ...                    'y': np.random.randn(n)})\u001b[39;00m\n\u001b[0;32m   1817\u001b[0m \u001b[39m        >>> ax = df.plot.hexbin(x='x', y='y', gridsize=20)\u001b[39;00m\n\u001b[0;32m   1818\u001b[0m \n\u001b[0;32m   1819\u001b[0m \u001b[39m    The next example uses `C` and `np.sum` as `reduce_C_function`.\u001b[39;00m\n\u001b[0;32m   1820\u001b[0m \u001b[39m    Note that `'observations'` values ranges from 1 to 5 but the result\u001b[39;00m\n\u001b[0;32m   1821\u001b[0m \u001b[39m    plot shows values up to more than 25. This is because of the\u001b[39;00m\n\u001b[0;32m   1822\u001b[0m \u001b[39m    `reduce_C_function`.\u001b[39;00m\n\u001b[0;32m   1823\u001b[0m \n\u001b[0;32m   1824\u001b[0m \u001b[39m    .. plot::\u001b[39;00m\n\u001b[0;32m   1825\u001b[0m \u001b[39m        :context: close-figs\u001b[39;00m\n\u001b[0;32m   1826\u001b[0m \n\u001b[0;32m   1827\u001b[0m \u001b[39m        >>> n = 500\u001b[39;00m\n\u001b[0;32m   1828\u001b[0m \u001b[39m        >>> df = pd.DataFrame({\u001b[39;00m\n\u001b[0;32m   1829\u001b[0m \u001b[39m        ...     'coord_x': np.random.uniform(-3, 3, size=n),\u001b[39;00m\n\u001b[0;32m   1830\u001b[0m \u001b[39m        ...     'coord_y': np.random.uniform(30, 50, size=n),\u001b[39;00m\n\u001b[0;32m   1831\u001b[0m \u001b[39m        ...     'observations': np.random.randint(1,5, size=n)\u001b[39;00m\n\u001b[0;32m   1832\u001b[0m \u001b[39m        ...     })\u001b[39;00m\n\u001b[0;32m   1833\u001b[0m \u001b[39m        >>> ax = df.plot.hexbin(x='coord_x',\u001b[39;00m\n\u001b[0;32m   1834\u001b[0m \u001b[39m        ...                     y='coord_y',\u001b[39;00m\n\u001b[0;32m   1835\u001b[0m \u001b[39m        ...                     C='observations',\u001b[39;00m\n\u001b[0;32m   1836\u001b[0m \u001b[39m        ...                     reduce_C_function=np.sum,\u001b[39;00m\n\u001b[0;32m   1837\u001b[0m \u001b[39m        ...                     gridsize=10,\u001b[39;00m\n\u001b[0;32m   1838\u001b[0m \u001b[39m        ...                     cmap=\"viridis\")\u001b[39;00m\n\u001b[1;32m-> 1839\u001b[0m \u001b[39m    \"\"\"\u001b[39;00m\n\u001b[0;32m   1840\u001b[0m     \u001b[39mif\u001b[39;00m reduce_C_function \u001b[39mis\u001b[39;00m \u001b[39mnot\u001b[39;00m \u001b[39mNone\u001b[39;00m:\n\u001b[0;32m   1841\u001b[0m         kwargs[\u001b[39m\"\u001b[39m\u001b[39mreduce_C_function\u001b[39m\u001b[39m\"\u001b[39m] \u001b[39m=\u001b[39m reduce_C_function\n",
      "\u001b[1;31mImportError\u001b[0m: matplotlib is required for plotting when the default backend \"matplotlib\" is selected."
     ]
    },
    {
     "data": {
      "text/plain": []
     },
     "execution_count": 26,
     "metadata": {},
     "output_type": "execute_result"
    }
   ],
   "source": [
    "from ydata_profiling import ProfileReport\n",
    "import matplotlib\n",
    "ProfileReport(online_retail)"
   ]
  },
  {
   "cell_type": "code",
   "execution_count": 28,
   "metadata": {},
   "outputs": [
    {
     "data": {
      "text/plain": [
       "df_index        False\n",
       "invoice_no      False\n",
       "stock_code       True\n",
       "description      True\n",
       "quantity         True\n",
       "invoice_date    False\n",
       "unit_price      False\n",
       "customer_id      True\n",
       "country          True\n",
       "dtype: bool"
      ]
     },
     "execution_count": 28,
     "metadata": {},
     "output_type": "execute_result"
    }
   ],
   "source": [
    "online_retail.isnull().any()"
   ]
  },
  {
   "cell_type": "code",
   "execution_count": 31,
   "metadata": {},
   "outputs": [
    {
     "data": {
      "text/plain": [
       "0       6.0\n",
       "1       6.0\n",
       "2       8.0\n",
       "3       6.0\n",
       "4       6.0\n",
       "       ... \n",
       "6996    1.0\n",
       "6997    1.0\n",
       "6998    9.0\n",
       "6999    4.0\n",
       "7000    1.0\n",
       "Name: quantity, Length: 7001, dtype: float64"
      ]
     },
     "execution_count": 31,
     "metadata": {},
     "output_type": "execute_result"
    }
   ],
   "source": [
    "online_retail['quantity'].fillna(online_retail['quantity'].mean())"
   ]
  },
  {
   "cell_type": "code",
   "execution_count": 35,
   "metadata": {},
   "outputs": [],
   "source": [
    "q1 = online_retail['quantity'].quantile(0.25)\n",
    "q3 = online_retail['quantity'].quantile(0.75)\n",
    "iqr = q3-q1\n",
    "online_retail_no_outl = online_retail[~((online_retail['quantity']<(q1-1.5*iqr)) | (online_retail['quantity']>(q3*1.5*iqr)))]\n",
    "# online_retail = online_retail[~((online_retail['quantity'] < (Q1 - 1.5 * IQR)) | (online_retail['quantity'] > (Q3 + 1.5 * IQR)))]\n"
   ]
  },
  {
   "cell_type": "code",
   "execution_count": 39,
   "metadata": {},
   "outputs": [
    {
     "data": {
      "text/plain": [
       "(6914, 9)"
      ]
     },
     "execution_count": 39,
     "metadata": {},
     "output_type": "execute_result"
    }
   ],
   "source": [
    "online_retail_no_outl.shape"
   ]
  },
  {
   "cell_type": "code",
   "execution_count": 42,
   "metadata": {},
   "outputs": [
    {
     "data": {
      "text/plain": [
       "0       False\n",
       "1        True\n",
       "2        True\n",
       "3        True\n",
       "4        True\n",
       "        ...  \n",
       "6996     True\n",
       "6997     True\n",
       "6998     True\n",
       "6999     True\n",
       "7000     True\n",
       "Name: invoice_no, Length: 7001, dtype: bool"
      ]
     },
     "execution_count": 42,
     "metadata": {},
     "output_type": "execute_result"
    }
   ],
   "source": [
    "online_retail['invoice_no'].duplicated()"
   ]
  },
  {
   "cell_type": "code",
   "execution_count": 43,
   "metadata": {},
   "outputs": [
    {
     "name": "stdout",
     "output_type": "stream",
     "text": [
      "12.0\n"
     ]
    }
   ],
   "source": [
    "print(10/2+7)"
   ]
  },
  {
   "cell_type": "code",
   "execution_count": 47,
   "metadata": {},
   "outputs": [
    {
     "name": "stdout",
     "output_type": "stream",
     "text": [
      "1\n",
      "2\n",
      "3\n",
      "4\n",
      "5\n"
     ]
    }
   ],
   "source": [
    "for i in range(1,6):\n",
    "    print(i)"
   ]
  }
 ],
 "metadata": {
  "kernelspec": {
   "display_name": "Python 3",
   "language": "python",
   "name": "python3"
  },
  "language_info": {
   "codemirror_mode": {
    "name": "ipython",
    "version": 3
   },
   "file_extension": ".py",
   "mimetype": "text/x-python",
   "name": "python",
   "nbconvert_exporter": "python",
   "pygments_lexer": "ipython3",
   "version": "3.10.7"
  },
  "orig_nbformat": 4
 },
 "nbformat": 4,
 "nbformat_minor": 2
}
