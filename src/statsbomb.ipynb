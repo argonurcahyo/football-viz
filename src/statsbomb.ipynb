{
 "cells": [
  {
   "cell_type": "code",
   "execution_count": 2,
   "metadata": {},
   "outputs": [],
   "source": [
    "from statsbombpy import sb"
   ]
  },
  {
   "cell_type": "code",
   "execution_count": 3,
   "metadata": {},
   "outputs": [
    {
     "name": "stderr",
     "output_type": "stream",
     "text": [
      "c:\\Users\\user\\AppData\\Local\\Programs\\Python\\Python310\\lib\\site-packages\\statsbombpy\\api_client.py:20: NoAuthWarning: credentials were not supplied. open data access only\n",
      "  warnings.warn(\"credentials were not supplied. open data access only\", NoAuthWarning)\n",
      "c:\\Users\\user\\AppData\\Local\\Programs\\Python\\Python310\\lib\\site-packages\\statsbombpy\\api_client.py:20: NoAuthWarning: credentials were not supplied. open data access only\n",
      "  warnings.warn(\"credentials were not supplied. open data access only\", NoAuthWarning)\n",
      "c:\\Users\\user\\AppData\\Local\\Programs\\Python\\Python310\\lib\\site-packages\\statsbombpy\\api_client.py:20: NoAuthWarning: credentials were not supplied. open data access only\n",
      "  warnings.warn(\"credentials were not supplied. open data access only\", NoAuthWarning)\n"
     ]
    }
   ],
   "source": [
    "comp = sb.competitions()\n",
    "matches = sb.matches(competition_id=11,season_id=90)\n",
    "events = sb.events(match_id=3773497)\n",
    "col_list = list(events)"
   ]
  }
 ],
 "metadata": {
  "kernelspec": {
   "display_name": "Python 3.10.2 64-bit",
   "language": "python",
   "name": "python3"
  },
  "language_info": {
   "codemirror_mode": {
    "name": "ipython",
    "version": 3
   },
   "file_extension": ".py",
   "mimetype": "text/x-python",
   "name": "python",
   "nbconvert_exporter": "python",
   "pygments_lexer": "ipython3",
   "version": "3.10.2"
  },
  "orig_nbformat": 4,
  "vscode": {
   "interpreter": {
    "hash": "369f2c481f4da34e4445cda3fffd2e751bd1c4d706f27375911949ba6bb62e1c"
   }
  }
 },
 "nbformat": 4,
 "nbformat_minor": 2
}
