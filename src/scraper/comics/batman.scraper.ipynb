{
 "cells": [
  {
   "cell_type": "code",
   "execution_count": 1,
   "metadata": {},
   "outputs": [
    {
     "name": "stderr",
     "output_type": "stream",
     "text": [
      "[WDM] - Downloading: 100%|██████████| 6.29M/6.29M [00:00<00:00, 19.2MB/s]\n"
     ]
    }
   ],
   "source": [
    "from selenium import webdriver\n",
    "from selenium.webdriver.chrome.options import Options\n",
    "from selenium.webdriver.chrome.service import Service as ChromeService\n",
    "from selenium.webdriver.common.by import By\n",
    "from selenium.webdriver.common.action_chains import ActionChains\n",
    "\n",
    "from webdriver_manager.chrome import ChromeDriverManager\n",
    "\n",
    "import pandas as pd\n",
    "import time\n",
    "import requests\n",
    "\n",
    "options = Options()\n",
    "options.headless = True\n",
    "\n",
    "driver = webdriver.Chrome(options=options,service=ChromeService(ChromeDriverManager().install()))"
   ]
  },
  {
   "cell_type": "code",
   "execution_count": 2,
   "metadata": {},
   "outputs": [],
   "source": [
    "batman_url = 'https://dc.fandom.com/wiki/Batman/Covers#Volume_3'"
   ]
  },
  {
   "cell_type": "code",
   "execution_count": 12,
   "metadata": {},
   "outputs": [
    {
     "data": {
      "text/plain": [
       "'https://static.wikia.nocookie.net/marvel_dc/images/f/ff/Batman_Vol_3_1.jpg'"
      ]
     },
     "execution_count": 12,
     "metadata": {},
     "output_type": "execute_result"
    }
   ],
   "source": [
    "driver.get(batman_url)\n",
    "items = driver.find_elements(By.CSS_SELECTOR, '#gallery-7 .wikia-gallery-item')\n",
    "title = items[0].find_element(By.CSS_SELECTOR,'.lightbox-caption a').get_attribute('title')\n",
    "url = items[0].find_element(By.CSS_SELECTOR,'.lightbox-caption a').get_attribute('href')\n",
    "img = items[0].find_element(By.CSS_SELECTOR,'.thumb img').get_attribute('data-src')\n",
    "img = '/'.join(img.split('/')[:-4])\n",
    "img"
   ]
  },
  {
   "cell_type": "code",
   "execution_count": 27,
   "metadata": {},
   "outputs": [],
   "source": [
    "def scrape_dc_covers(driver, filename, vol_url, section_selector='#gallery-7'):\n",
    "    driver.get(vol_url)\n",
    "    items = driver.find_elements(\n",
    "        By.CSS_SELECTOR, f'{section_selector} .wikia-gallery-item')\n",
    "\n",
    "    list_ = []\n",
    "    for i in range(len(items)):\n",
    "        try:\n",
    "            vol_num = items[i].find_element(\n",
    "                By.CSS_SELECTOR, '.lightbox-caption a:nth-child(1)').get_attribute('title')\n",
    "        except:\n",
    "            vol_num = None\n",
    "        try:\n",
    "            cover = items[i].find_element(\n",
    "                By.CSS_SELECTOR, '.thumb img').get_attribute('data-src')\n",
    "            cover = '/'.join(cover.split('/')[:-4])\n",
    "        except:\n",
    "            cover = None\n",
    "        try:\n",
    "            url = items[i].find_element(\n",
    "                By.CSS_SELECTOR, '.lightbox-caption a:nth-child(1').get_attribute('href')\n",
    "        except:\n",
    "            url = None\n",
    "\n",
    "        print(f'get {vol_num}')\n",
    "        list_.append({\n",
    "            'vol_num': vol_num,\n",
    "            'url': url,\n",
    "            'cover_url': cover\n",
    "        })\n",
    "    df = pd.DataFrame(list_)\n",
    "    df.to_csv(f'../../data/comics/{filename}.csv')\n",
    "    return df\n"
   ]
  },
  {
   "cell_type": "code",
   "execution_count": 22,
   "metadata": {},
   "outputs": [
    {
     "name": "stdout",
     "output_type": "stream",
     "text": [
      "get Batman Vol 1 201\n",
      "get Batman Vol 1 202\n",
      "get Batman Vol 1 203\n",
      "get Batman Vol 1 204\n",
      "get Batman Vol 1 205\n",
      "get Batman Vol 1 206\n",
      "get Batman Vol 1 207\n",
      "get Batman Vol 1 208\n",
      "get Batman Vol 1 209\n",
      "get Batman Vol 1 210\n",
      "get Batman Vol 1 211\n",
      "get Batman Vol 1 212\n",
      "get Batman Vol 1 213\n",
      "get Batman Vol 1 214\n",
      "get Batman Vol 1 200\n",
      "get Batman Vol 1 216\n",
      "get Batman Vol 1 217\n",
      "get Batman Vol 1 218\n",
      "get Batman Vol 1 219\n",
      "get Batman Vol 1 220\n",
      "get Batman Vol 1 221\n",
      "get Batman Vol 1 222\n",
      "get Batman Vol 1 223\n",
      "get Batman Vol 1 224\n",
      "get Batman Vol 1 225\n",
      "get Batman Vol 1 226\n",
      "get Batman Vol 1 227\n",
      "get Batman Vol 1 228\n",
      "get Batman Vol 1 229\n",
      "get Batman Vol 1 230\n",
      "get Batman Vol 1 231\n",
      "get Batman Vol 1 232\n",
      "get Batman Vol 1 233\n",
      "get Batman Vol 1 234\n",
      "get Batman Vol 1 235\n",
      "get Batman Vol 1 236\n",
      "get Batman Vol 1 237\n",
      "get Batman Vol 1 238\n",
      "get Batman Vol 1 239\n",
      "get Batman Vol 1 240\n",
      "get Batman Vol 1 241\n",
      "get Batman Vol 1 242\n",
      "get Batman Vol 1 243\n",
      "get Batman Vol 1 244\n",
      "get Batman Vol 1 245\n",
      "get Batman Vol 1 246\n",
      "get Batman Vol 1 247\n",
      "get Batman Vol 1 248\n",
      "get Batman Vol 1 249\n",
      "get Batman Vol 1 250\n",
      "get Batman Vol 1 251\n",
      "get Batman Vol 1 252\n",
      "get Batman Vol 1 253\n",
      "get Batman Vol 1 254\n",
      "get Batman Vol 1 255\n",
      "get Batman Vol 1 256\n",
      "get Batman Vol 1 257\n",
      "get Batman Vol 1 258\n",
      "get Batman Vol 1 259\n",
      "get Batman Vol 1 260\n",
      "get Batman Vol 1 261\n",
      "get Batman Vol 1 262\n",
      "get Batman Vol 1 263\n",
      "get Batman Vol 1 264\n",
      "get Batman Vol 1 265\n",
      "get Batman Vol 1 266\n",
      "get Batman Vol 1 267\n",
      "get Batman Vol 1 268\n",
      "get Batman Vol 1 269\n",
      "get Batman Vol 1 270\n",
      "get Batman Vol 1 271\n",
      "get Batman Vol 1 272\n",
      "get Batman Vol 1 273\n",
      "get Batman Vol 1 274\n",
      "get Batman Vol 1 275\n",
      "get Batman Vol 1 276\n",
      "get Batman Vol 1 277\n",
      "get Batman Vol 1 278\n",
      "get Batman Vol 1 279\n",
      "get Batman Vol 1 280\n",
      "get Batman Vol 1 281\n",
      "get Batman Vol 1 282\n",
      "get Batman Vol 1 283\n",
      "get Batman Vol 1 284\n",
      "get Batman Vol 1 285\n",
      "get Batman Vol 1 286\n",
      "get Batman Vol 1 287\n",
      "get Batman Vol 1 288\n",
      "get Batman Vol 1 289\n",
      "get Batman Vol 1 290\n",
      "get Batman Vol 1 291\n",
      "get Batman Vol 1 292\n",
      "get Batman Vol 1 293\n",
      "get Batman Vol 1 294\n",
      "get Batman Vol 1 295\n",
      "get Batman Vol 1 296\n",
      "get Batman Vol 1 297\n",
      "get Batman Vol 1 298\n",
      "get Batman Vol 1 299\n",
      "get Batman Vol 1 300\n",
      "get Batman Vol 1 301\n",
      "get Batman Vol 1 302\n",
      "get Batman Vol 1 303\n",
      "get Batman Vol 1 304\n",
      "get Batman Vol 1 305\n",
      "get Batman Vol 1 306\n",
      "get Batman Vol 1 307\n",
      "get Batman Vol 1 308\n",
      "get Batman Vol 1 309\n",
      "get Batman Vol 1 310\n",
      "get Batman Vol 1 311\n",
      "get Batman Vol 1 312\n",
      "get Batman Vol 1 313\n",
      "get Batman Vol 1 314\n",
      "get Batman Vol 1 315\n",
      "get Batman Vol 1 316\n",
      "get Batman Vol 1 317\n",
      "get Batman Vol 1 318\n",
      "get Batman Vol 1 319\n",
      "get Batman Vol 1 320\n",
      "get Batman Vol 1 321\n",
      "get Batman Vol 1 322\n",
      "get Batman Vol 1 323\n",
      "get Batman Vol 1 324\n",
      "get Batman Vol 1 325\n",
      "get Batman Vol 1 326\n",
      "get Batman Vol 1 327\n",
      "get Batman Vol 1 328\n",
      "get Batman Vol 1 329\n",
      "get Batman Vol 1 330\n",
      "get Batman Vol 1 331\n",
      "get Batman Vol 1 332\n",
      "get Batman Vol 1 333\n",
      "get Batman Vol 1 334\n",
      "get Batman Vol 1 335\n",
      "get Batman Vol 1 336\n",
      "get Batman Vol 1 337\n",
      "get Batman Vol 1 338\n",
      "get Batman Vol 1 339\n",
      "get Batman Vol 1 340\n",
      "get Batman Vol 1 341\n",
      "get Batman Vol 1 342\n",
      "get Batman Vol 1 343\n",
      "get Batman Vol 1 344\n",
      "get Batman Vol 1 345\n",
      "get Batman Vol 1 346\n",
      "get Batman Vol 1 347\n",
      "get Batman Vol 1 348\n",
      "get Batman Vol 1 349\n",
      "get Batman Vol 1 350\n",
      "get Batman Vol 1 351\n",
      "get Batman Vol 1 352\n",
      "get Batman Vol 1 353\n",
      "get Batman Vol 1 354\n",
      "get Batman Vol 1 355\n",
      "get Batman Vol 1 356\n",
      "get Batman Vol 1 357\n",
      "get Batman Vol 1 358\n",
      "get Batman Vol 1 359\n",
      "get Batman Vol 1 360\n",
      "get Batman Vol 1 361\n",
      "get Batman Vol 1 362\n",
      "get Batman Vol 1 363\n",
      "get Batman Vol 1 364\n",
      "get Batman Vol 1 365\n",
      "get Batman Vol 1 366\n",
      "get Batman Vol 1 367\n",
      "get Batman Vol 1 368\n",
      "get Batman Vol 1 369\n",
      "get Batman Vol 1 370\n",
      "get Batman Vol 1 371\n",
      "get Batman Vol 1 372\n",
      "get Batman Vol 1 373\n",
      "get Batman Vol 1 374\n",
      "get Batman Vol 1 375\n",
      "get Batman Vol 1 376\n",
      "get Batman Vol 1 377\n",
      "get Batman Vol 1 378\n",
      "get Batman Vol 1 379\n",
      "get Batman Vol 1 380\n",
      "get Batman Vol 1 381\n",
      "get Batman Vol 1 382\n",
      "get Batman Vol 1 383\n",
      "get Batman Vol 1 384\n",
      "get Batman Vol 1 385\n",
      "get Batman Vol 1 386\n",
      "get Batman Vol 1 387\n",
      "get Batman Vol 1 388\n",
      "get Batman Vol 1 389\n",
      "get Batman Vol 1 390\n",
      "get Batman Vol 1 391\n",
      "get Batman Vol 1 392\n",
      "get Batman Vol 1 393\n",
      "get Batman Vol 1 394\n",
      "get Batman Vol 1 395\n",
      "get Batman Vol 1 396\n",
      "get Batman Vol 1 397\n",
      "get Batman Vol 1 398\n",
      "get Batman Vol 1 399\n",
      "get Batman Vol 1 400\n",
      "get Batman Vol 1 401\n",
      "get Batman Vol 1 402\n",
      "get Batman Vol 1 403\n",
      "get Batman Vol 1 404\n",
      "get Batman Vol 1 405\n",
      "get Batman Vol 1 406\n",
      "get Batman Vol 1 407\n",
      "get Batman Vol 1 408\n",
      "get Batman Vol 1 409\n",
      "get Batman Vol 1 410\n",
      "get Batman Vol 1 411\n",
      "get Batman Vol 1 412\n",
      "get Batman Vol 1 413\n",
      "get Batman Vol 1 414\n",
      "get Batman Vol 1 415\n",
      "get Batman Vol 1 416\n",
      "get Batman Vol 1 417\n",
      "get Batman Vol 1 418\n",
      "get Batman Vol 1 419\n",
      "get Batman Vol 1 420\n",
      "get Batman Vol 1 421\n",
      "get Batman Vol 1 422\n",
      "get Batman Vol 1 423\n",
      "get Batman Vol 1 424\n",
      "get Batman Vol 1 425\n",
      "get Batman Vol 1 426\n",
      "get Batman Vol 1 427\n",
      "get Batman Vol 1 428\n",
      "get Batman Vol 1 429\n",
      "get Batman Vol 1 430\n",
      "get Batman Vol 1 431\n",
      "get Batman Vol 1 432\n",
      "get Batman Vol 1 433\n",
      "get Batman Vol 1 434\n",
      "get Batman Vol 1 435\n",
      "get Batman Vol 1 436\n",
      "get Batman Vol 1 437\n",
      "get Batman Vol 1 438\n",
      "get Batman Vol 1 439\n",
      "get Batman Vol 1 440\n",
      "get Batman Vol 1 441\n",
      "get Batman Vol 1 442\n",
      "get Batman Vol 1 443\n",
      "get Batman Vol 1 444\n",
      "get Batman Vol 1 445\n",
      "get Batman Vol 1 446\n",
      "get Batman Vol 1 447\n",
      "get Batman Vol 1 448\n",
      "get Batman Vol 1 449\n",
      "get Batman Vol 1 450\n",
      "get Batman Vol 1 451\n",
      "get Batman Vol 1 452\n",
      "get Batman Vol 1 453\n",
      "get Batman Vol 1 454\n",
      "get Batman Vol 1 455\n",
      "get Batman Vol 1 456\n",
      "get Batman Vol 1 457\n",
      "get Batman Vol 1 458\n",
      "get Batman Vol 1 459\n",
      "get Batman Vol 1 460\n",
      "get Batman Vol 1 461\n",
      "get Batman Vol 1 462\n",
      "get Batman Vol 1 463\n",
      "get Batman Vol 1 464\n",
      "get Batman Vol 1 465\n",
      "get Batman Vol 1 466\n",
      "get Batman Vol 1 467\n",
      "get Batman Vol 1 468\n",
      "get Batman Vol 1 469\n",
      "get Batman Vol 1 470\n",
      "get Batman Vol 1 471\n",
      "get Batman Vol 1 472\n",
      "get Batman Vol 1 473\n",
      "get Batman Vol 1 474\n",
      "get Batman Vol 1 475\n",
      "get Batman Vol 1 476\n",
      "get Batman Vol 1 477\n",
      "get Batman Vol 1 478\n",
      "get Batman Vol 1 479\n",
      "get Batman Vol 1 480\n",
      "get Batman Vol 1 481\n",
      "get Batman Vol 1 482\n",
      "get Batman Vol 1 483\n",
      "get Batman Vol 1 484\n",
      "get Batman Vol 1 485\n",
      "get Batman Vol 1 486\n",
      "get Batman Vol 1 487\n",
      "get Batman Vol 1 488\n",
      "get Batman Vol 1 489\n",
      "get Batman Vol 1 490\n",
      "get Batman Vol 1 491\n",
      "get Batman Vol 1 492\n",
      "get Batman Vol 1 493\n",
      "get Batman Vol 1 494\n",
      "get Batman Vol 1 495\n",
      "get Batman Vol 1 496\n",
      "get Batman Vol 1 497\n",
      "get Batman Vol 1 497\n",
      "get Batman Vol 1 498\n",
      "get Batman Vol 1 499\n",
      "get Batman Vol 1 500\n",
      "get Batman Vol 1 500\n",
      "get Batman Vol 1 501\n",
      "get Batman Vol 1 502\n",
      "get Batman Vol 1 503\n",
      "get Batman Vol 1 504\n",
      "get Batman Vol 1 505\n",
      "get Batman Vol 1 506\n",
      "get Batman Vol 1 507\n",
      "get Batman Vol 1 508\n",
      "get Batman Vol 1 509\n",
      "get Batman Vol 1 510\n",
      "get Batman Vol 1 511\n",
      "get Batman Vol 1 0\n",
      "get Batman Vol 1 512\n",
      "get Batman Vol 1 513\n",
      "get Batman Vol 1 514\n",
      "get Batman Vol 1 515\n",
      "get Batman Vol 1 515\n",
      "get Batman Vol 1 516\n",
      "get Batman Vol 1 517\n",
      "get Batman Vol 1 518\n",
      "get Batman Vol 1 519\n",
      "get Batman Vol 1 520\n",
      "get Batman Vol 1 521\n",
      "get Batman Vol 1 522\n",
      "get Batman Vol 1 523\n",
      "get Batman Vol 1 524\n",
      "get Batman Vol 1 525\n",
      "get Batman Vol 1 526\n",
      "get Batman Vol 1 527\n",
      "get Batman Vol 1 528\n",
      "get Batman Vol 1 529\n",
      "get Batman Vol 1 530\n",
      "get Batman Vol 1 530\n",
      "get Batman Vol 1 531\n",
      "get Batman Vol 1 531\n",
      "get Batman Vol 1 532\n",
      "get Batman Vol 1 532\n",
      "get Batman Vol 1 533\n",
      "get Batman Vol 1 534\n",
      "get Batman Vol 1 535\n",
      "get Batman Vol 1 535\n",
      "get Batman Vol 1 536\n",
      "get Batman Vol 1 537\n",
      "get Batman Vol 1 538\n",
      "get Batman Vol 1 539\n",
      "get Batman Vol 1 540\n",
      "get Batman Vol 1 541\n",
      "get Batman Vol 1 542\n",
      "get Batman Vol 1 543\n",
      "get Batman Vol 1 544\n",
      "get Batman Vol 1 545\n",
      "get Batman Vol 1 546\n",
      "get Batman Vol 1 547\n",
      "get Batman Vol 1 548\n",
      "get Batman Vol 1 549\n",
      "get Batman Vol 1 550\n",
      "get Batman Vol 1 550\n",
      "get Batman Vol 1 551\n",
      "get Batman Vol 1 552\n",
      "get Batman Vol 1 553\n",
      "get Batman Vol 1 554\n",
      "get Batman Vol 1 555\n",
      "get Batman Vol 1 556\n",
      "get Batman Vol 1 557\n",
      "get Batman Vol 1 558\n",
      "get Batman Vol 1 559\n",
      "get Batman Vol 1 1000000\n",
      "get Batman Vol 1 560\n",
      "get Batman Vol 1 561\n",
      "get Batman Vol 1 562\n",
      "get Batman Vol 1 563\n",
      "get Batman Vol 1 564\n",
      "get Batman Vol 1 565\n",
      "get Batman Vol 1 566\n",
      "get Batman Vol 1 567\n",
      "get Batman Vol 1 568\n",
      "get Batman Vol 1 569\n",
      "get Batman Vol 1 570\n",
      "get Batman Vol 1 571\n",
      "get Batman Vol 1 572\n",
      "get Batman Vol 1 573\n",
      "get Batman Vol 1 574\n",
      "get Batman Vol 1 575\n",
      "get Batman Vol 1 576\n",
      "get Batman Vol 1 577\n",
      "get Batman Vol 1 578\n",
      "get Batman Vol 1 579\n",
      "get Batman Vol 1 580\n",
      "get Batman Vol 1 581\n",
      "get Batman Vol 1 582\n",
      "get Batman Vol 1 583\n",
      "get Batman Vol 1 584\n",
      "get Batman Vol 1 585\n",
      "get Batman Vol 1 586\n",
      "get Batman Vol 1 587\n",
      "get Batman Vol 1 588\n",
      "get Batman Vol 1 589\n",
      "get Batman Vol 1 590\n",
      "get Batman Vol 1 591\n",
      "get Batman Vol 1 592\n",
      "get Batman Vol 1 593\n",
      "get Batman Vol 1 594\n",
      "get Batman Vol 1 595\n",
      "get Batman Vol 1 596\n",
      "get Batman Vol 1 597\n",
      "get Batman Vol 1 598\n",
      "get Batman Vol 1 599\n",
      "get Batman Vol 1 600\n",
      "get Batman Vol 1 601\n",
      "get Batman Vol 1 602\n",
      "get Batman Vol 1 603\n",
      "get Batman Vol 1 604\n",
      "get Batman Vol 1 605\n",
      "get Batman Vol 1 606\n",
      "get Batman Vol 1 607\n",
      "get Batman Vol 1 608\n",
      "get Batman Vol 1 609\n",
      "get Batman Vol 1 610\n",
      "get Batman Vol 1 611\n",
      "get Batman Vol 1 612\n",
      "get Batman Vol 1 613\n",
      "get Batman Vol 1 614\n",
      "get Batman Vol 1 615\n",
      "get Batman Vol 1 616\n",
      "get Batman Vol 1 617\n",
      "get Batman Vol 1 618\n",
      "get Batman Vol 1 619\n",
      "get Batman Vol 1 620\n",
      "get Batman Vol 1 621\n",
      "get Batman Vol 1 622\n",
      "get Batman Vol 1 623\n",
      "get Batman Vol 1 624\n",
      "get Batman Vol 1 625\n",
      "get Batman Vol 1 626\n",
      "get Batman Vol 1 627\n",
      "get Batman Vol 1 628\n",
      "get Batman Vol 1 629\n",
      "get Batman Vol 1 630\n",
      "get Batman Vol 1 631\n",
      "get Batman Vol 1 632\n",
      "get Batman Vol 1 633\n",
      "get Batman Vol 1 634\n",
      "get Batman Vol 1 635\n",
      "get Batman Vol 1 636\n",
      "get Batman Vol 1 637\n",
      "get Batman Vol 1 638\n",
      "get Batman Vol 1 639\n",
      "get Batman Vol 1 640\n",
      "get Batman Vol 1 641\n",
      "get Batman Vol 1 642\n",
      "get Batman Vol 1 643\n",
      "get Batman Vol 1 644\n",
      "get Batman Vol 1 645\n",
      "get Batman Vol 1 646\n",
      "get Batman Vol 1 647\n",
      "get Batman Vol 1 648\n",
      "get Batman Vol 1 649\n",
      "get Batman Vol 1 650\n",
      "get Batman Vol 1 651\n",
      "get Batman Vol 1 652\n",
      "get Batman Vol 1 653\n",
      "get Batman Vol 1 654\n",
      "get Batman Vol 1 655\n",
      "get Batman Vol 1 656\n",
      "get Batman Vol 1 657\n",
      "get Batman Vol 1 658\n",
      "get Batman Vol 1 659\n",
      "get Batman Vol 1 660\n",
      "get Batman Vol 1 661\n",
      "get Batman Vol 1 662\n",
      "get Batman Vol 1 663\n",
      "get Batman Vol 1 664\n",
      "get Batman Vol 1 665\n",
      "get Batman Vol 1 666\n",
      "get Batman Vol 1 667\n",
      "get Batman Vol 1 668\n",
      "get Batman Vol 1 669\n",
      "get Batman Vol 1 670\n",
      "get Batman Vol 1 671\n",
      "get Batman Vol 1 672\n",
      "get Batman Vol 1 673\n",
      "get Batman Vol 1 674\n",
      "get Batman Vol 1 675\n",
      "get Batman Vol 1 676\n",
      "get Batman Vol 1 677\n",
      "get Batman Vol 1 678\n",
      "get Batman Vol 1 679\n",
      "get Batman Vol 1 680\n",
      "get Batman Vol 1 681\n",
      "get Batman Vol 1 682\n",
      "get Batman Vol 1 683\n",
      "get Batman Vol 1 684\n",
      "get Batman Vol 1 684\n",
      "get Batman Vol 1 685\n",
      "get Batman Vol 1 686\n",
      "get Batman Vol 1 687\n",
      "get Batman Vol 1 687\n",
      "get Batman Vol 1 688\n",
      "get Batman Vol 1 689\n",
      "get Batman Vol 1 690\n",
      "get Batman Vol 1 691\n",
      "get Batman Vol 1 692\n",
      "get Batman Vol 1 693\n",
      "get Batman Vol 1 694\n",
      "get Batman Vol 1 695\n",
      "get Batman Vol 1 696\n",
      "get Batman Vol 1 697\n",
      "get Batman Vol 1 698\n",
      "get Batman Vol 1 699\n",
      "get Batman Vol 1 700\n",
      "get Batman Vol 1 701\n",
      "get Batman Vol 1 702\n",
      "get Batman Vol 1 703\n",
      "get Batman Vol 1 704\n",
      "get Batman Vol 1 705\n",
      "get Batman Vol 1 706\n",
      "get Batman Vol 1 707\n",
      "get Batman Vol 1 708\n",
      "get Batman Vol 1 709\n",
      "get Batman Vol 1 710\n",
      "get Batman Vol 1 711\n",
      "get Batman Vol 1 712\n",
      "get Batman Vol 1 713\n"
     ]
    }
   ],
   "source": [
    "# batman_vol3_url = 'https://dc.fandom.com/wiki/Batman/Covers#Volume_3'\n",
    "# batman_vol3 = scrape_batman_covers(driver,filename='batman_vol3',vol_url=batman_vol3_url)\n",
    "# batman_vol2_url = 'https://dc.fandom.com/wiki/Batman/Covers'\n",
    "# batman_vol2 = scrape_batman_covers(\n",
    "#     driver,\n",
    "#     filename='batman_vol2',\n",
    "#     vol_url=batman_vol2_url,\n",
    "#     section_selector='#gallery-5')\n",
    "# batman_vol1_url = 'https://dc.fandom.com/wiki/Batman/Covers'\n",
    "# batman_vol1_001_200 = scrape_batman_covers(\n",
    "#     driver,\n",
    "#     filename='batman_vol1_001-200',\n",
    "#     vol_url=batman_vol1_url,\n",
    "#     section_selector='#gallery-0')\n",
    "# batman_vol1_201_400 = scrape_batman_covers(\n",
    "#     driver,\n",
    "#     filename='batman_vol1_201-400',\n",
    "#     vol_url=batman_vol1_url,\n",
    "#     section_selector='#gallery-1')\n",
    "# batman_vol1_401_600 = scrape_batman_covers(\n",
    "#     driver,\n",
    "#     filename='batman_vol1_401-600',\n",
    "#     vol_url=batman_vol1_url,\n",
    "#     section_selector='#gallery-2')\n",
    "# batman_vol1_601_713 = scrape_batman_covers(\n",
    "#     driver,\n",
    "#     filename='batman_vol1_601-713',\n",
    "#     vol_url=batman_vol1_url,\n",
    "#     section_selector='#gallery-3')\n"
   ]
  },
  {
   "cell_type": "code",
   "execution_count": 24,
   "metadata": {},
   "outputs": [
    {
     "name": "stdout",
     "output_type": "stream",
     "text": [
      "get Detective Comics Vol 1 934\n",
      "get Detective Comics Vol 1 935\n",
      "get Detective Comics Vol 1 936\n",
      "get Detective Comics Vol 1 937\n",
      "get Detective Comics Vol 1 938\n",
      "get Detective Comics Vol 1 939\n",
      "get Detective Comics Vol 1 940\n",
      "get Detective Comics Vol 1 941\n",
      "get Detective Comics Vol 1 942\n",
      "get Detective Comics Vol 1 943\n",
      "get Detective Comics Vol 1 944\n",
      "get Detective Comics Vol 1 945\n",
      "get Detective Comics Vol 1 946\n",
      "get Detective Comics Vol 1 947\n",
      "get Detective Comics Vol 1 948\n",
      "get Detective Comics Vol 1 949\n",
      "get Detective Comics Vol 1 950\n",
      "get Detective Comics Vol 1 951\n",
      "get Detective Comics Vol 1 952\n",
      "get Detective Comics Vol 1 953\n",
      "get Detective Comics Vol 1 954\n",
      "get Detective Comics Vol 1 955\n",
      "get Detective Comics Vol 1 956\n",
      "get Detective Comics Vol 1 957\n",
      "get Detective Comics Vol 1 958\n",
      "get Detective Comics Vol 1 959\n",
      "get Detective Comics Vol 1 960\n",
      "get Detective Comics Vol 1 961\n",
      "get Detective Comics Vol 1 962\n",
      "get Detective Comics Vol 1 963\n",
      "get Detective Comics Vol 1 964\n",
      "get Detective Comics Vol 1 965\n",
      "get Detective Comics Vol 1 966\n",
      "get Detective Comics Vol 1 967\n",
      "get Detective Comics Vol 1 968\n",
      "get Detective Comics Vol 1 969\n",
      "get Detective Comics Vol 1 970\n",
      "get Detective Comics Vol 1 971\n",
      "get Detective Comics Vol 1 972\n",
      "get Detective Comics Vol 1 973\n",
      "get Detective Comics Vol 1 974\n",
      "get Detective Comics Vol 1 975\n",
      "get Detective Comics Vol 1 976\n",
      "get Detective Comics Vol 1 977\n",
      "get Detective Comics Vol 1 978\n",
      "get Detective Comics Vol 1 979\n",
      "get Detective Comics Vol 1 980\n",
      "get Detective Comics Vol 1 981\n",
      "get Detective Comics Vol 1 982\n",
      "get Detective Comics Vol 1 983\n",
      "get Detective Comics Vol 1 984\n",
      "get Detective Comics Vol 1 985\n",
      "get Detective Comics Vol 1 986\n",
      "get Detective Comics Vol 1 987\n",
      "get Detective Comics Vol 1 988\n",
      "get Detective Comics Vol 1 989\n",
      "get Detective Comics Vol 1 990\n",
      "get Detective Comics Vol 1 991\n",
      "get Detective Comics Vol 1 992\n",
      "get Detective Comics Vol 1 993\n",
      "get Detective Comics Vol 1 994\n",
      "get Detective Comics Vol 1 995\n",
      "get Detective Comics Vol 1 996\n",
      "get Detective Comics Vol 1 997\n",
      "get Detective Comics Vol 1 998\n",
      "get Detective Comics Vol 1 999\n",
      "get Detective Comics Vol 1 1000\n",
      "get Detective Comics Vol 1 1001\n",
      "get Detective Comics Vol 1 1002\n",
      "get Detective Comics Vol 1 1003\n",
      "get Detective Comics Vol 1 1004\n",
      "get Detective Comics Vol 1 1005\n",
      "get Detective Comics Vol 1 1006\n",
      "get Detective Comics Vol 1 1007\n",
      "get Detective Comics Vol 1 1008\n",
      "get Detective Comics Vol 1 1009\n",
      "get Detective Comics Vol 1 1010\n",
      "get Detective Comics Vol 1 1011\n",
      "get Detective Comics Vol 1 1012\n",
      "get Detective Comics Vol 1 1013\n",
      "get Detective Comics Vol 1 1014\n",
      "get Detective Comics Vol 1 1015\n",
      "get Detective Comics Vol 1 1016\n",
      "get Detective Comics Vol 1 1017\n",
      "get Detective Comics Vol 1 1018\n",
      "get Detective Comics Vol 1 1018\n",
      "get Detective Comics Vol 1 1020\n",
      "get Detective Comics Vol 1 1021\n",
      "get Detective Comics Vol 1 1022\n",
      "get Detective Comics Vol 1 1023\n",
      "get Detective Comics Vol 1 1024\n",
      "get Detective Comics Vol 1 1025\n",
      "get Detective Comics Vol 1 1026\n",
      "get Detective Comics Vol 1 1027\n",
      "get Detective Comics Vol 1 1028\n",
      "get Detective Comics Vol 1 1029\n",
      "get Detective Comics Vol 1 1030\n",
      "get Detective Comics Vol 1 1031\n",
      "get Detective Comics Vol 1 1032\n",
      "get Detective Comics Vol 1 1033\n",
      "get Detective Comics Vol 1 1034\n",
      "get Detective Comics Vol 1 1035\n",
      "get Detective Comics Vol 1 1036\n",
      "get Detective Comics Vol 1 1037\n",
      "get Detective Comics Vol 1 1038\n",
      "get Detective Comics Vol 1 1039\n",
      "get Detective Comics Vol 1 1040\n",
      "get Detective Comics Vol 1 1041\n",
      "get Detective Comics Vol 1 1042\n",
      "get Detective Comics Vol 1 1043\n",
      "get Detective Comics Vol 1 1044\n",
      "get Detective Comics Vol 1 1045\n",
      "get Detective Comics Vol 1 1046\n",
      "get Detective Comics Vol 1 1047\n",
      "get Detective Comics Vol 1 1048\n",
      "get Detective Comics Vol 1 1049\n",
      "get Detective Comics Vol 1 1050\n",
      "get Detective Comics Vol 1 1051\n",
      "get Detective Comics Vol 1 1052\n",
      "get Detective Comics Vol 1 1053\n",
      "get Detective Comics Vol 1 1054\n",
      "get Detective Comics Vol 1 1055\n",
      "get Detective Comics Vol 1 1056\n",
      "get Detective Comics Vol 1 1057\n",
      "get Detective Comics Vol 1 1058\n",
      "get Detective Comics Vol 1 1059\n",
      "get Detective Comics Vol 1 1060\n",
      "get Detective Comics Vol 1 1061\n",
      "get Detective Comics Vol 1 1062\n",
      "get Detective Comics Vol 1 1063\n",
      "get Detective Comics Vol 1 1064\n"
     ]
    }
   ],
   "source": [
    "# det_comics_url = 'https://dc.fandom.com/wiki/Detective_Comics/Covers'\n",
    "# det_comics_vol1_934 = scrape_batman_covers(\n",
    "#     driver,\n",
    "#     filename='det_comics_vol1_934',\n",
    "#     vol_url=det_comics_url,\n",
    "#     section_selector='#gallery-8')"
   ]
  },
  {
   "cell_type": "code",
   "execution_count": 28,
   "metadata": {},
   "outputs": [
    {
     "name": "stdout",
     "output_type": "stream",
     "text": [
      "get Superman Vol 5 1\n",
      "get Superman Vol 5 2\n",
      "get Superman Vol 5 3\n",
      "get Superman Vol 5 4\n",
      "get Superman Vol 5 5\n",
      "get Superman Vol 5 6\n",
      "get Superman Vol 5 7\n",
      "get Superman Vol 5 8\n",
      "get Superman Vol 5 9\n",
      "get Superman Vol 5 10\n",
      "get Superman Vol 5 11\n",
      "get Superman Vol 5 12\n",
      "get Superman Vol 5 13\n",
      "get Superman Vol 5 14\n",
      "get Superman Vol 5 15\n",
      "get Superman Vol 5 16\n",
      "get Superman Vol 5 17\n",
      "get Superman Vol 5 18\n",
      "get Superman Vol 5 19\n",
      "get Superman Vol 5 20\n",
      "get Superman Vol 5 21\n",
      "get Superman Vol 5 22\n",
      "get Superman Vol 5 23\n",
      "get Superman Vol 5 24\n",
      "get Superman Vol 5 25\n",
      "get Superman Vol 5 26\n",
      "get Superman Vol 5 27\n",
      "get Superman Vol 5 28\n",
      "get Superman Vol 5 29\n",
      "get Superman Vol 5 30\n",
      "get Superman Vol 5 31\n",
      "get Superman Vol 5 32\n"
     ]
    }
   ],
   "source": [
    "superman_url = 'https://dc.fandom.com/wiki/Superman/Covers'\n",
    "superman_vol5 = scrape_dc_covers(\n",
    "    driver,\n",
    "    filename='superman_vol5',\n",
    "    vol_url=superman_url,\n",
    "    section_selector='#gallery-10')"
   ]
  },
  {
   "cell_type": "code",
   "execution_count": 15,
   "metadata": {},
   "outputs": [],
   "source": [
    "def download_image(url, file_name, headers):\n",
    "    response = requests.get(url,headers=headers, verify=False)\n",
    "    \n",
    "    if response.status_code==200:\n",
    "        with open(file_name,'wb') as f:\n",
    "            f.write(response.content)\n",
    "    else:\n",
    "        print(response.status_code)"
   ]
  },
  {
   "cell_type": "code",
   "execution_count": 29,
   "metadata": {},
   "outputs": [
    {
     "name": "stdout",
     "output_type": "stream",
     "text": [
      "downloading cover ../../.img/superman/Superman Vol 5 1.jpg....\n"
     ]
    },
    {
     "name": "stderr",
     "output_type": "stream",
     "text": [
      "c:\\Python310\\lib\\site-packages\\urllib3\\connectionpool.py:1045: InsecureRequestWarning: Unverified HTTPS request is being made to host 'static.wikia.nocookie.net'. Adding certificate verification is strongly advised. See: https://urllib3.readthedocs.io/en/1.26.x/advanced-usage.html#ssl-warnings\n",
      "  warnings.warn(\n"
     ]
    },
    {
     "name": "stdout",
     "output_type": "stream",
     "text": [
      "downloading cover ../../.img/superman/Superman Vol 5 2.jpg....\n"
     ]
    },
    {
     "name": "stderr",
     "output_type": "stream",
     "text": [
      "c:\\Python310\\lib\\site-packages\\urllib3\\connectionpool.py:1045: InsecureRequestWarning: Unverified HTTPS request is being made to host 'static.wikia.nocookie.net'. Adding certificate verification is strongly advised. See: https://urllib3.readthedocs.io/en/1.26.x/advanced-usage.html#ssl-warnings\n",
      "  warnings.warn(\n"
     ]
    },
    {
     "name": "stdout",
     "output_type": "stream",
     "text": [
      "downloading cover ../../.img/superman/Superman Vol 5 3.jpg....\n"
     ]
    },
    {
     "name": "stderr",
     "output_type": "stream",
     "text": [
      "c:\\Python310\\lib\\site-packages\\urllib3\\connectionpool.py:1045: InsecureRequestWarning: Unverified HTTPS request is being made to host 'static.wikia.nocookie.net'. Adding certificate verification is strongly advised. See: https://urllib3.readthedocs.io/en/1.26.x/advanced-usage.html#ssl-warnings\n",
      "  warnings.warn(\n"
     ]
    },
    {
     "name": "stdout",
     "output_type": "stream",
     "text": [
      "downloading cover ../../.img/superman/Superman Vol 5 4.jpg....\n"
     ]
    },
    {
     "name": "stderr",
     "output_type": "stream",
     "text": [
      "c:\\Python310\\lib\\site-packages\\urllib3\\connectionpool.py:1045: InsecureRequestWarning: Unverified HTTPS request is being made to host 'static.wikia.nocookie.net'. Adding certificate verification is strongly advised. See: https://urllib3.readthedocs.io/en/1.26.x/advanced-usage.html#ssl-warnings\n",
      "  warnings.warn(\n"
     ]
    },
    {
     "name": "stdout",
     "output_type": "stream",
     "text": [
      "downloading cover ../../.img/superman/Superman Vol 5 5.jpg....\n"
     ]
    },
    {
     "name": "stderr",
     "output_type": "stream",
     "text": [
      "c:\\Python310\\lib\\site-packages\\urllib3\\connectionpool.py:1045: InsecureRequestWarning: Unverified HTTPS request is being made to host 'static.wikia.nocookie.net'. Adding certificate verification is strongly advised. See: https://urllib3.readthedocs.io/en/1.26.x/advanced-usage.html#ssl-warnings\n",
      "  warnings.warn(\n"
     ]
    },
    {
     "name": "stdout",
     "output_type": "stream",
     "text": [
      "downloading cover ../../.img/superman/Superman Vol 5 6.jpg....\n"
     ]
    },
    {
     "name": "stderr",
     "output_type": "stream",
     "text": [
      "c:\\Python310\\lib\\site-packages\\urllib3\\connectionpool.py:1045: InsecureRequestWarning: Unverified HTTPS request is being made to host 'static.wikia.nocookie.net'. Adding certificate verification is strongly advised. See: https://urllib3.readthedocs.io/en/1.26.x/advanced-usage.html#ssl-warnings\n",
      "  warnings.warn(\n"
     ]
    },
    {
     "name": "stdout",
     "output_type": "stream",
     "text": [
      "downloading cover ../../.img/superman/Superman Vol 5 7.jpg....\n"
     ]
    },
    {
     "name": "stderr",
     "output_type": "stream",
     "text": [
      "c:\\Python310\\lib\\site-packages\\urllib3\\connectionpool.py:1045: InsecureRequestWarning: Unverified HTTPS request is being made to host 'static.wikia.nocookie.net'. Adding certificate verification is strongly advised. See: https://urllib3.readthedocs.io/en/1.26.x/advanced-usage.html#ssl-warnings\n",
      "  warnings.warn(\n"
     ]
    },
    {
     "name": "stdout",
     "output_type": "stream",
     "text": [
      "downloading cover ../../.img/superman/Superman Vol 5 8.jpg....\n"
     ]
    },
    {
     "name": "stderr",
     "output_type": "stream",
     "text": [
      "c:\\Python310\\lib\\site-packages\\urllib3\\connectionpool.py:1045: InsecureRequestWarning: Unverified HTTPS request is being made to host 'static.wikia.nocookie.net'. Adding certificate verification is strongly advised. See: https://urllib3.readthedocs.io/en/1.26.x/advanced-usage.html#ssl-warnings\n",
      "  warnings.warn(\n"
     ]
    },
    {
     "name": "stdout",
     "output_type": "stream",
     "text": [
      "downloading cover ../../.img/superman/Superman Vol 5 9.jpg....\n"
     ]
    },
    {
     "name": "stderr",
     "output_type": "stream",
     "text": [
      "c:\\Python310\\lib\\site-packages\\urllib3\\connectionpool.py:1045: InsecureRequestWarning: Unverified HTTPS request is being made to host 'static.wikia.nocookie.net'. Adding certificate verification is strongly advised. See: https://urllib3.readthedocs.io/en/1.26.x/advanced-usage.html#ssl-warnings\n",
      "  warnings.warn(\n"
     ]
    },
    {
     "name": "stdout",
     "output_type": "stream",
     "text": [
      "downloading cover ../../.img/superman/Superman Vol 5 10.jpg....\n"
     ]
    },
    {
     "name": "stderr",
     "output_type": "stream",
     "text": [
      "c:\\Python310\\lib\\site-packages\\urllib3\\connectionpool.py:1045: InsecureRequestWarning: Unverified HTTPS request is being made to host 'static.wikia.nocookie.net'. Adding certificate verification is strongly advised. See: https://urllib3.readthedocs.io/en/1.26.x/advanced-usage.html#ssl-warnings\n",
      "  warnings.warn(\n"
     ]
    },
    {
     "name": "stdout",
     "output_type": "stream",
     "text": [
      "downloading cover ../../.img/superman/Superman Vol 5 11.jpg....\n"
     ]
    },
    {
     "name": "stderr",
     "output_type": "stream",
     "text": [
      "c:\\Python310\\lib\\site-packages\\urllib3\\connectionpool.py:1045: InsecureRequestWarning: Unverified HTTPS request is being made to host 'static.wikia.nocookie.net'. Adding certificate verification is strongly advised. See: https://urllib3.readthedocs.io/en/1.26.x/advanced-usage.html#ssl-warnings\n",
      "  warnings.warn(\n"
     ]
    },
    {
     "name": "stdout",
     "output_type": "stream",
     "text": [
      "downloading cover ../../.img/superman/Superman Vol 5 12.jpg....\n"
     ]
    },
    {
     "name": "stderr",
     "output_type": "stream",
     "text": [
      "c:\\Python310\\lib\\site-packages\\urllib3\\connectionpool.py:1045: InsecureRequestWarning: Unverified HTTPS request is being made to host 'static.wikia.nocookie.net'. Adding certificate verification is strongly advised. See: https://urllib3.readthedocs.io/en/1.26.x/advanced-usage.html#ssl-warnings\n",
      "  warnings.warn(\n"
     ]
    },
    {
     "name": "stdout",
     "output_type": "stream",
     "text": [
      "downloading cover ../../.img/superman/Superman Vol 5 13.jpg....\n"
     ]
    },
    {
     "name": "stderr",
     "output_type": "stream",
     "text": [
      "c:\\Python310\\lib\\site-packages\\urllib3\\connectionpool.py:1045: InsecureRequestWarning: Unverified HTTPS request is being made to host 'static.wikia.nocookie.net'. Adding certificate verification is strongly advised. See: https://urllib3.readthedocs.io/en/1.26.x/advanced-usage.html#ssl-warnings\n",
      "  warnings.warn(\n"
     ]
    },
    {
     "name": "stdout",
     "output_type": "stream",
     "text": [
      "downloading cover ../../.img/superman/Superman Vol 5 14.jpg....\n"
     ]
    },
    {
     "name": "stderr",
     "output_type": "stream",
     "text": [
      "c:\\Python310\\lib\\site-packages\\urllib3\\connectionpool.py:1045: InsecureRequestWarning: Unverified HTTPS request is being made to host 'static.wikia.nocookie.net'. Adding certificate verification is strongly advised. See: https://urllib3.readthedocs.io/en/1.26.x/advanced-usage.html#ssl-warnings\n",
      "  warnings.warn(\n"
     ]
    },
    {
     "name": "stdout",
     "output_type": "stream",
     "text": [
      "downloading cover ../../.img/superman/Superman Vol 5 15.jpg....\n"
     ]
    },
    {
     "name": "stderr",
     "output_type": "stream",
     "text": [
      "c:\\Python310\\lib\\site-packages\\urllib3\\connectionpool.py:1045: InsecureRequestWarning: Unverified HTTPS request is being made to host 'static.wikia.nocookie.net'. Adding certificate verification is strongly advised. See: https://urllib3.readthedocs.io/en/1.26.x/advanced-usage.html#ssl-warnings\n",
      "  warnings.warn(\n"
     ]
    },
    {
     "name": "stdout",
     "output_type": "stream",
     "text": [
      "downloading cover ../../.img/superman/Superman Vol 5 16.jpg....\n"
     ]
    },
    {
     "name": "stderr",
     "output_type": "stream",
     "text": [
      "c:\\Python310\\lib\\site-packages\\urllib3\\connectionpool.py:1045: InsecureRequestWarning: Unverified HTTPS request is being made to host 'static.wikia.nocookie.net'. Adding certificate verification is strongly advised. See: https://urllib3.readthedocs.io/en/1.26.x/advanced-usage.html#ssl-warnings\n",
      "  warnings.warn(\n"
     ]
    },
    {
     "name": "stdout",
     "output_type": "stream",
     "text": [
      "downloading cover ../../.img/superman/Superman Vol 5 17.jpg....\n"
     ]
    },
    {
     "name": "stderr",
     "output_type": "stream",
     "text": [
      "c:\\Python310\\lib\\site-packages\\urllib3\\connectionpool.py:1045: InsecureRequestWarning: Unverified HTTPS request is being made to host 'static.wikia.nocookie.net'. Adding certificate verification is strongly advised. See: https://urllib3.readthedocs.io/en/1.26.x/advanced-usage.html#ssl-warnings\n",
      "  warnings.warn(\n"
     ]
    },
    {
     "name": "stdout",
     "output_type": "stream",
     "text": [
      "downloading cover ../../.img/superman/Superman Vol 5 18.jpg....\n"
     ]
    },
    {
     "name": "stderr",
     "output_type": "stream",
     "text": [
      "c:\\Python310\\lib\\site-packages\\urllib3\\connectionpool.py:1045: InsecureRequestWarning: Unverified HTTPS request is being made to host 'static.wikia.nocookie.net'. Adding certificate verification is strongly advised. See: https://urllib3.readthedocs.io/en/1.26.x/advanced-usage.html#ssl-warnings\n",
      "  warnings.warn(\n"
     ]
    },
    {
     "name": "stdout",
     "output_type": "stream",
     "text": [
      "downloading cover ../../.img/superman/Superman Vol 5 19.jpg....\n"
     ]
    },
    {
     "name": "stderr",
     "output_type": "stream",
     "text": [
      "c:\\Python310\\lib\\site-packages\\urllib3\\connectionpool.py:1045: InsecureRequestWarning: Unverified HTTPS request is being made to host 'static.wikia.nocookie.net'. Adding certificate verification is strongly advised. See: https://urllib3.readthedocs.io/en/1.26.x/advanced-usage.html#ssl-warnings\n",
      "  warnings.warn(\n"
     ]
    },
    {
     "name": "stdout",
     "output_type": "stream",
     "text": [
      "downloading cover ../../.img/superman/Superman Vol 5 20.jpg....\n"
     ]
    },
    {
     "name": "stderr",
     "output_type": "stream",
     "text": [
      "c:\\Python310\\lib\\site-packages\\urllib3\\connectionpool.py:1045: InsecureRequestWarning: Unverified HTTPS request is being made to host 'static.wikia.nocookie.net'. Adding certificate verification is strongly advised. See: https://urllib3.readthedocs.io/en/1.26.x/advanced-usage.html#ssl-warnings\n",
      "  warnings.warn(\n"
     ]
    },
    {
     "name": "stdout",
     "output_type": "stream",
     "text": [
      "downloading cover ../../.img/superman/Superman Vol 5 21.jpg....\n"
     ]
    },
    {
     "name": "stderr",
     "output_type": "stream",
     "text": [
      "c:\\Python310\\lib\\site-packages\\urllib3\\connectionpool.py:1045: InsecureRequestWarning: Unverified HTTPS request is being made to host 'static.wikia.nocookie.net'. Adding certificate verification is strongly advised. See: https://urllib3.readthedocs.io/en/1.26.x/advanced-usage.html#ssl-warnings\n",
      "  warnings.warn(\n"
     ]
    },
    {
     "name": "stdout",
     "output_type": "stream",
     "text": [
      "downloading cover ../../.img/superman/Superman Vol 5 22.jpg....\n"
     ]
    },
    {
     "name": "stderr",
     "output_type": "stream",
     "text": [
      "c:\\Python310\\lib\\site-packages\\urllib3\\connectionpool.py:1045: InsecureRequestWarning: Unverified HTTPS request is being made to host 'static.wikia.nocookie.net'. Adding certificate verification is strongly advised. See: https://urllib3.readthedocs.io/en/1.26.x/advanced-usage.html#ssl-warnings\n",
      "  warnings.warn(\n"
     ]
    },
    {
     "name": "stdout",
     "output_type": "stream",
     "text": [
      "downloading cover ../../.img/superman/Superman Vol 5 23.jpg....\n"
     ]
    },
    {
     "name": "stderr",
     "output_type": "stream",
     "text": [
      "c:\\Python310\\lib\\site-packages\\urllib3\\connectionpool.py:1045: InsecureRequestWarning: Unverified HTTPS request is being made to host 'static.wikia.nocookie.net'. Adding certificate verification is strongly advised. See: https://urllib3.readthedocs.io/en/1.26.x/advanced-usage.html#ssl-warnings\n",
      "  warnings.warn(\n"
     ]
    },
    {
     "name": "stdout",
     "output_type": "stream",
     "text": [
      "downloading cover ../../.img/superman/Superman Vol 5 24.jpg....\n"
     ]
    },
    {
     "name": "stderr",
     "output_type": "stream",
     "text": [
      "c:\\Python310\\lib\\site-packages\\urllib3\\connectionpool.py:1045: InsecureRequestWarning: Unverified HTTPS request is being made to host 'static.wikia.nocookie.net'. Adding certificate verification is strongly advised. See: https://urllib3.readthedocs.io/en/1.26.x/advanced-usage.html#ssl-warnings\n",
      "  warnings.warn(\n"
     ]
    },
    {
     "name": "stdout",
     "output_type": "stream",
     "text": [
      "downloading cover ../../.img/superman/Superman Vol 5 25.jpg....\n"
     ]
    },
    {
     "name": "stderr",
     "output_type": "stream",
     "text": [
      "c:\\Python310\\lib\\site-packages\\urllib3\\connectionpool.py:1045: InsecureRequestWarning: Unverified HTTPS request is being made to host 'static.wikia.nocookie.net'. Adding certificate verification is strongly advised. See: https://urllib3.readthedocs.io/en/1.26.x/advanced-usage.html#ssl-warnings\n",
      "  warnings.warn(\n"
     ]
    },
    {
     "name": "stdout",
     "output_type": "stream",
     "text": [
      "downloading cover ../../.img/superman/Superman Vol 5 26.jpg....\n"
     ]
    },
    {
     "name": "stderr",
     "output_type": "stream",
     "text": [
      "c:\\Python310\\lib\\site-packages\\urllib3\\connectionpool.py:1045: InsecureRequestWarning: Unverified HTTPS request is being made to host 'static.wikia.nocookie.net'. Adding certificate verification is strongly advised. See: https://urllib3.readthedocs.io/en/1.26.x/advanced-usage.html#ssl-warnings\n",
      "  warnings.warn(\n"
     ]
    },
    {
     "name": "stdout",
     "output_type": "stream",
     "text": [
      "downloading cover ../../.img/superman/Superman Vol 5 27.jpg....\n"
     ]
    },
    {
     "name": "stderr",
     "output_type": "stream",
     "text": [
      "c:\\Python310\\lib\\site-packages\\urllib3\\connectionpool.py:1045: InsecureRequestWarning: Unverified HTTPS request is being made to host 'static.wikia.nocookie.net'. Adding certificate verification is strongly advised. See: https://urllib3.readthedocs.io/en/1.26.x/advanced-usage.html#ssl-warnings\n",
      "  warnings.warn(\n"
     ]
    },
    {
     "name": "stdout",
     "output_type": "stream",
     "text": [
      "downloading cover ../../.img/superman/Superman Vol 5 28.jpg....\n"
     ]
    },
    {
     "name": "stderr",
     "output_type": "stream",
     "text": [
      "c:\\Python310\\lib\\site-packages\\urllib3\\connectionpool.py:1045: InsecureRequestWarning: Unverified HTTPS request is being made to host 'static.wikia.nocookie.net'. Adding certificate verification is strongly advised. See: https://urllib3.readthedocs.io/en/1.26.x/advanced-usage.html#ssl-warnings\n",
      "  warnings.warn(\n"
     ]
    },
    {
     "name": "stdout",
     "output_type": "stream",
     "text": [
      "downloading cover ../../.img/superman/Superman Vol 5 29.jpg....\n"
     ]
    },
    {
     "name": "stderr",
     "output_type": "stream",
     "text": [
      "c:\\Python310\\lib\\site-packages\\urllib3\\connectionpool.py:1045: InsecureRequestWarning: Unverified HTTPS request is being made to host 'static.wikia.nocookie.net'. Adding certificate verification is strongly advised. See: https://urllib3.readthedocs.io/en/1.26.x/advanced-usage.html#ssl-warnings\n",
      "  warnings.warn(\n"
     ]
    },
    {
     "name": "stdout",
     "output_type": "stream",
     "text": [
      "downloading cover ../../.img/superman/Superman Vol 5 30.jpg....\n"
     ]
    },
    {
     "name": "stderr",
     "output_type": "stream",
     "text": [
      "c:\\Python310\\lib\\site-packages\\urllib3\\connectionpool.py:1045: InsecureRequestWarning: Unverified HTTPS request is being made to host 'static.wikia.nocookie.net'. Adding certificate verification is strongly advised. See: https://urllib3.readthedocs.io/en/1.26.x/advanced-usage.html#ssl-warnings\n",
      "  warnings.warn(\n"
     ]
    },
    {
     "name": "stdout",
     "output_type": "stream",
     "text": [
      "downloading cover ../../.img/superman/Superman Vol 5 31.jpg....\n"
     ]
    },
    {
     "name": "stderr",
     "output_type": "stream",
     "text": [
      "c:\\Python310\\lib\\site-packages\\urllib3\\connectionpool.py:1045: InsecureRequestWarning: Unverified HTTPS request is being made to host 'static.wikia.nocookie.net'. Adding certificate verification is strongly advised. See: https://urllib3.readthedocs.io/en/1.26.x/advanced-usage.html#ssl-warnings\n",
      "  warnings.warn(\n"
     ]
    },
    {
     "name": "stdout",
     "output_type": "stream",
     "text": [
      "downloading cover ../../.img/superman/Superman Vol 5 32.jpg....\n"
     ]
    },
    {
     "name": "stderr",
     "output_type": "stream",
     "text": [
      "c:\\Python310\\lib\\site-packages\\urllib3\\connectionpool.py:1045: InsecureRequestWarning: Unverified HTTPS request is being made to host 'static.wikia.nocookie.net'. Adding certificate verification is strongly advised. See: https://urllib3.readthedocs.io/en/1.26.x/advanced-usage.html#ssl-warnings\n",
      "  warnings.warn(\n"
     ]
    }
   ],
   "source": [
    "headers = {\n",
    "        \"User-Agent\": \"Chrome/51.0.2704.103\",\n",
    "}\n",
    "folder = '../../.img/superman/'\n",
    "df = superman_vol5.copy()\n",
    "\n",
    "for i in range(len(df)):\n",
    "    cov_url = df['cover_url'].iloc[i]\n",
    "    vol_num = df['vol_num'].iloc[i]\n",
    "    titl = f\"{folder}{vol_num}.jpg\"\n",
    "    print(f'downloading cover {titl}....')\n",
    "    try:\n",
    "        download_image(cov_url,titl,headers=headers)\n",
    "    except:\n",
    "        print(f'error {titl}')"
   ]
  }
 ],
 "metadata": {
  "kernelspec": {
   "display_name": "Python 3.10.2 64-bit",
   "language": "python",
   "name": "python3"
  },
  "language_info": {
   "codemirror_mode": {
    "name": "ipython",
    "version": 3
   },
   "file_extension": ".py",
   "mimetype": "text/x-python",
   "name": "python",
   "nbconvert_exporter": "python",
   "pygments_lexer": "ipython3",
   "version": "3.10.2"
  },
  "orig_nbformat": 4,
  "vscode": {
   "interpreter": {
    "hash": "369f2c481f4da34e4445cda3fffd2e751bd1c4d706f27375911949ba6bb62e1c"
   }
  }
 },
 "nbformat": 4,
 "nbformat_minor": 2
}
