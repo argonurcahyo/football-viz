{
 "cells": [
  {
   "cell_type": "code",
   "execution_count": 4,
   "metadata": {},
   "outputs": [],
   "source": [
    "from selenium import webdriver\n",
    "from selenium.webdriver.chrome.options import Options\n",
    "from selenium.webdriver.chrome.service import Service as ChromeService\n",
    "from selenium.webdriver.common.by import By\n",
    "from selenium.webdriver.common.action_chains import ActionChains\n",
    "\n",
    "from webdriver_manager.chrome import ChromeDriverManager\n",
    "\n",
    "import pandas as pd\n",
    "import time\n",
    "import requests\n",
    "\n",
    "options = Options()\n",
    "options.headless = True\n",
    "\n",
    "driver = webdriver.Chrome(options=options,service=ChromeService(ChromeDriverManager().install()))"
   ]
  },
  {
   "cell_type": "markdown",
   "metadata": {},
   "source": [
    "Get Volume List"
   ]
  },
  {
   "cell_type": "code",
   "execution_count": 2,
   "metadata": {},
   "outputs": [],
   "source": [
    "vol_list_url = 'https://www.detectiveconanworld.com/wiki/Manga'\n",
    "driver.get(vol_list_url)\n",
    "\n",
    "vols = driver.find_elements(By.CSS_SELECTOR,'.volumetable tr td:nth-of-type(1) a')\n",
    "vol_list = []\n",
    "for i in range(len(vols)):\n",
    "    url = vols[i].get_attribute('href')\n",
    "    title = vols[i].get_attribute('title')\n",
    "    \n",
    "    vol_list.append({\n",
    "        'title':title,\n",
    "        'url':url,\n",
    "    })\n",
    "vol_list_df = pd.DataFrame(vol_list)"
   ]
  },
  {
   "cell_type": "markdown",
   "metadata": {},
   "source": [
    "Get Cover URL"
   ]
  },
  {
   "cell_type": "code",
   "execution_count": 5,
   "metadata": {},
   "outputs": [
    {
     "name": "stdout",
     "output_type": "stream",
     "text": [
      "1. https://www.detectiveconanworld.com/wiki/images/thumb/b/b1/Volume_1.jpg/275px-Volume_1.jpg\n",
      "2. https://www.detectiveconanworld.com/wiki/images/thumb/5/53/Volume_2.jpg/275px-Volume_2.jpg\n",
      "3. https://www.detectiveconanworld.com/wiki/images/thumb/d/d4/Volume_3.jpg/275px-Volume_3.jpg\n",
      "4. https://www.detectiveconanworld.com/wiki/images/thumb/e/e0/Volume_4.jpg/275px-Volume_4.jpg\n",
      "5. https://www.detectiveconanworld.com/wiki/images/thumb/1/15/Volume_5.jpg/275px-Volume_5.jpg\n",
      "6. https://www.detectiveconanworld.com/wiki/images/thumb/5/54/Volume_6.jpg/275px-Volume_6.jpg\n",
      "7. https://www.detectiveconanworld.com/wiki/images/thumb/f/f8/Volume_7.jpg/275px-Volume_7.jpg\n",
      "8. https://www.detectiveconanworld.com/wiki/images/thumb/c/c1/Volume_8.jpg/275px-Volume_8.jpg\n",
      "9. https://www.detectiveconanworld.com/wiki/images/thumb/5/55/Volume_9.jpg/275px-Volume_9.jpg\n",
      "10. https://www.detectiveconanworld.com/wiki/images/thumb/8/8b/Volume_10.jpg/275px-Volume_10.jpg\n",
      "11. https://www.detectiveconanworld.com/wiki/images/thumb/3/34/Volume_11.jpg/275px-Volume_11.jpg\n",
      "12. https://www.detectiveconanworld.com/wiki/images/thumb/a/a9/Volume_12.jpg/275px-Volume_12.jpg\n",
      "13. https://www.detectiveconanworld.com/wiki/images/thumb/9/94/Volume_13.jpg/275px-Volume_13.jpg\n",
      "14. https://www.detectiveconanworld.com/wiki/images/thumb/a/a3/Volume_14.jpg/275px-Volume_14.jpg\n",
      "15. https://www.detectiveconanworld.com/wiki/images/thumb/7/7c/Volume_15.jpg/275px-Volume_15.jpg\n",
      "16. https://www.detectiveconanworld.com/wiki/images/thumb/4/4a/Volume_16.jpg/275px-Volume_16.jpg\n",
      "17. https://www.detectiveconanworld.com/wiki/images/thumb/0/0a/Volume_17.jpg/275px-Volume_17.jpg\n",
      "18. https://www.detectiveconanworld.com/wiki/images/thumb/f/f5/Volume_18.jpg/275px-Volume_18.jpg\n",
      "19. https://www.detectiveconanworld.com/wiki/images/thumb/0/07/Volume_19.jpg/275px-Volume_19.jpg\n",
      "20. https://www.detectiveconanworld.com/wiki/images/thumb/f/fe/Volume_20.jpg/275px-Volume_20.jpg\n",
      "21. https://www.detectiveconanworld.com/wiki/images/thumb/2/2c/Volume_21.jpg/275px-Volume_21.jpg\n",
      "22. https://www.detectiveconanworld.com/wiki/images/thumb/b/ba/Volume_22.jpg/275px-Volume_22.jpg\n",
      "23. https://www.detectiveconanworld.com/wiki/images/thumb/b/b0/Volume_23.jpg/275px-Volume_23.jpg\n",
      "24. https://www.detectiveconanworld.com/wiki/images/thumb/c/cd/Volume_24.jpg/275px-Volume_24.jpg\n",
      "25. https://www.detectiveconanworld.com/wiki/images/thumb/5/53/Volume_25.jpg/275px-Volume_25.jpg\n",
      "26. https://www.detectiveconanworld.com/wiki/images/thumb/a/ac/Volume_26.jpg/275px-Volume_26.jpg\n",
      "27. https://www.detectiveconanworld.com/wiki/images/thumb/7/77/Volume_27.jpg/275px-Volume_27.jpg\n",
      "28. https://www.detectiveconanworld.com/wiki/images/thumb/e/e6/Volume_28.jpg/275px-Volume_28.jpg\n",
      "29. https://www.detectiveconanworld.com/wiki/images/thumb/d/d8/Volume_29.jpg/275px-Volume_29.jpg\n",
      "30. https://www.detectiveconanworld.com/wiki/images/thumb/a/ab/Volume_30.jpg/275px-Volume_30.jpg\n",
      "31. https://www.detectiveconanworld.com/wiki/images/thumb/1/10/Volume_31.jpg/275px-Volume_31.jpg\n",
      "32. https://www.detectiveconanworld.com/wiki/images/thumb/6/6c/Volume_32.jpg/275px-Volume_32.jpg\n",
      "33. https://www.detectiveconanworld.com/wiki/images/thumb/8/85/Volume_33.jpg/275px-Volume_33.jpg\n",
      "34. https://www.detectiveconanworld.com/wiki/images/thumb/9/90/Volume_34.jpg/275px-Volume_34.jpg\n",
      "35. https://www.detectiveconanworld.com/wiki/images/thumb/9/9e/Volume_35.jpg/275px-Volume_35.jpg\n",
      "36. https://www.detectiveconanworld.com/wiki/images/thumb/b/ba/Volume_36.jpg/275px-Volume_36.jpg\n",
      "37. https://www.detectiveconanworld.com/wiki/images/thumb/b/b0/Volume_37.jpg/275px-Volume_37.jpg\n",
      "38. https://www.detectiveconanworld.com/wiki/images/thumb/9/9e/Volume_38.jpg/275px-Volume_38.jpg\n",
      "39. https://www.detectiveconanworld.com/wiki/images/thumb/c/c7/Volume_39.jpg/275px-Volume_39.jpg\n",
      "40. https://www.detectiveconanworld.com/wiki/images/thumb/1/17/Volume_40.jpg/275px-Volume_40.jpg\n",
      "41. https://www.detectiveconanworld.com/wiki/images/thumb/f/f7/Volume_41.jpg/275px-Volume_41.jpg\n",
      "42. https://www.detectiveconanworld.com/wiki/images/thumb/c/c0/Volume_42.jpg/275px-Volume_42.jpg\n",
      "43. https://www.detectiveconanworld.com/wiki/images/thumb/7/78/Volume_43.jpg/275px-Volume_43.jpg\n",
      "44. https://www.detectiveconanworld.com/wiki/images/thumb/6/6d/Volume_44.jpg/275px-Volume_44.jpg\n",
      "45. None\n",
      "46. None\n",
      "47. https://www.detectiveconanworld.com/wiki/images/thumb/1/1e/Volume_47.jpg/275px-Volume_47.jpg\n",
      "48. https://www.detectiveconanworld.com/wiki/images/thumb/0/0c/Volume_48.jpg/275px-Volume_48.jpg\n",
      "49. https://www.detectiveconanworld.com/wiki/images/thumb/4/40/Volume_49.jpg/275px-Volume_49.jpg\n",
      "50. https://www.detectiveconanworld.com/wiki/images/thumb/9/94/Volume_50.jpg/275px-Volume_50.jpg\n",
      "51. https://www.detectiveconanworld.com/wiki/images/thumb/f/f4/Volume_51.jpg/275px-Volume_51.jpg\n",
      "52. https://www.detectiveconanworld.com/wiki/images/thumb/5/5c/Volume_52.jpg/275px-Volume_52.jpg\n",
      "53. https://www.detectiveconanworld.com/wiki/images/thumb/c/c3/Volume_53.jpg/275px-Volume_53.jpg\n",
      "54. https://www.detectiveconanworld.com/wiki/images/thumb/b/b1/Volume_54.jpg/275px-Volume_54.jpg\n",
      "55. https://www.detectiveconanworld.com/wiki/images/thumb/4/41/Volume_55.jpg/275px-Volume_55.jpg\n",
      "56. https://www.detectiveconanworld.com/wiki/images/thumb/3/30/Volume_56.jpg/275px-Volume_56.jpg\n",
      "57. https://www.detectiveconanworld.com/wiki/images/thumb/a/a4/Volume_57.jpg/275px-Volume_57.jpg\n",
      "58. https://www.detectiveconanworld.com/wiki/images/thumb/7/70/Volume_58.jpg/275px-Volume_58.jpg\n",
      "59. https://www.detectiveconanworld.com/wiki/images/thumb/0/05/Volume_59.jpg/275px-Volume_59.jpg\n",
      "60. https://www.detectiveconanworld.com/wiki/images/thumb/5/5d/Volume_60.jpg/275px-Volume_60.jpg\n",
      "61. https://www.detectiveconanworld.com/wiki/images/thumb/2/21/Volume_61.jpg/275px-Volume_61.jpg\n",
      "62. https://www.detectiveconanworld.com/wiki/images/thumb/3/35/Volume_62.jpg/275px-Volume_62.jpg\n",
      "63. https://www.detectiveconanworld.com/wiki/images/thumb/5/5e/Volume_63.jpg/275px-Volume_63.jpg\n",
      "64. https://www.detectiveconanworld.com/wiki/images/thumb/9/91/Volume_64.jpg/275px-Volume_64.jpg\n",
      "65. https://www.detectiveconanworld.com/wiki/images/thumb/1/1d/Volume_65.jpg/275px-Volume_65.jpg\n",
      "66. https://www.detectiveconanworld.com/wiki/images/thumb/b/b3/Volume_66.jpg/275px-Volume_66.jpg\n",
      "67. https://www.detectiveconanworld.com/wiki/images/thumb/c/ca/Volume_67.jpg/275px-Volume_67.jpg\n",
      "68. https://www.detectiveconanworld.com/wiki/images/thumb/1/1c/Volume_68.jpg/275px-Volume_68.jpg\n",
      "69. https://www.detectiveconanworld.com/wiki/images/thumb/a/a0/Volume_69.jpg/275px-Volume_69.jpg\n",
      "70. https://www.detectiveconanworld.com/wiki/images/thumb/7/7a/Volume_70.jpg/275px-Volume_70.jpg\n",
      "71. https://www.detectiveconanworld.com/wiki/images/thumb/8/89/Volume_71.jpg/275px-Volume_71.jpg\n",
      "72. https://www.detectiveconanworld.com/wiki/images/thumb/f/fb/Volume_72.jpg/275px-Volume_72.jpg\n",
      "73. https://www.detectiveconanworld.com/wiki/images/thumb/b/b2/Volume_73.jpg/275px-Volume_73.jpg\n",
      "74. https://www.detectiveconanworld.com/wiki/images/thumb/4/49/Volume_74.jpg/275px-Volume_74.jpg\n",
      "75. https://www.detectiveconanworld.com/wiki/images/thumb/d/de/Volume_75.jpg/275px-Volume_75.jpg\n",
      "76. https://www.detectiveconanworld.com/wiki/images/thumb/a/ad/Volume_76.jpg/275px-Volume_76.jpg\n",
      "77. https://www.detectiveconanworld.com/wiki/images/thumb/1/1d/Volume_77.jpg/275px-Volume_77.jpg\n",
      "78. https://www.detectiveconanworld.com/wiki/images/thumb/a/ab/Volume_78.jpg/275px-Volume_78.jpg\n",
      "79. https://www.detectiveconanworld.com/wiki/images/thumb/0/0f/Volume_79.jpg/275px-Volume_79.jpg\n",
      "80. https://www.detectiveconanworld.com/wiki/images/thumb/a/a6/Volume_80.jpg/275px-Volume_80.jpg\n",
      "81. https://www.detectiveconanworld.com/wiki/images/thumb/2/2b/Volume_81.jpg/275px-Volume_81.jpg\n",
      "82. https://www.detectiveconanworld.com/wiki/images/thumb/4/46/Volume_82.jpg/275px-Volume_82.jpg\n",
      "83. https://www.detectiveconanworld.com/wiki/images/thumb/3/34/Volume_83.jpg/275px-Volume_83.jpg\n",
      "84. https://www.detectiveconanworld.com/wiki/images/thumb/9/92/Volume_84.jpg/275px-Volume_84.jpg\n",
      "85. https://www.detectiveconanworld.com/wiki/images/thumb/0/0c/Volume_85.jpg/275px-Volume_85.jpg\n",
      "86. https://www.detectiveconanworld.com/wiki/images/thumb/1/1c/Volume_86.jpg/275px-Volume_86.jpg\n",
      "87. https://www.detectiveconanworld.com/wiki/images/thumb/4/4e/Volume_87.jpg/275px-Volume_87.jpg\n",
      "88. https://www.detectiveconanworld.com/wiki/images/thumb/4/45/Volume_88.jpg/275px-Volume_88.jpg\n",
      "89. https://www.detectiveconanworld.com/wiki/images/thumb/f/fe/Volume_89.jpg/275px-Volume_89.jpg\n",
      "90. https://www.detectiveconanworld.com/wiki/images/thumb/2/26/Volume_90.jpg/275px-Volume_90.jpg\n",
      "91. https://www.detectiveconanworld.com/wiki/images/thumb/9/95/Volume_91.jpg/275px-Volume_91.jpg\n",
      "92. https://www.detectiveconanworld.com/wiki/images/thumb/d/db/Volume_92.jpg/275px-Volume_92.jpg\n",
      "93. https://www.detectiveconanworld.com/wiki/images/thumb/9/95/Volume_93.jpg/275px-Volume_93.jpg\n",
      "94. https://www.detectiveconanworld.com/wiki/images/thumb/5/59/Volume_94.jpg/275px-Volume_94.jpg\n",
      "95. https://www.detectiveconanworld.com/wiki/images/thumb/e/e6/Volume_95.jpg/275px-Volume_95.jpg\n",
      "96. https://www.detectiveconanworld.com/wiki/images/thumb/0/0a/Volume_96.jpg/275px-Volume_96.jpg\n",
      "97. https://www.detectiveconanworld.com/wiki/images/thumb/a/aa/Volume_97.jpg/275px-Volume_97.jpg\n",
      "98. https://www.detectiveconanworld.com/wiki/images/thumb/a/a5/Volume_98.jpg/275px-Volume_98.jpg\n",
      "99. https://www.detectiveconanworld.com/wiki/images/thumb/4/41/Volume_99.jpg/275px-Volume_99.jpg\n",
      "100. https://www.detectiveconanworld.com/wiki/images/thumb/0/00/Volume_100.jpg/275px-Volume_100.jpg\n",
      "101. https://www.detectiveconanworld.com/wiki/images/thumb/7/74/Volume_101.jpg/275px-Volume_101.jpg\n",
      "102. https://www.detectiveconanworld.com/wiki/images/thumb/9/92/Volume_102.jpg/275px-Volume_102.jpg\n",
      "103. https://www.detectiveconanworld.com/wiki/images/8/88/No_cover.jpg\n"
     ]
    },
    {
     "data": {
      "text/plain": [
       "['https://www.detectiveconanworld.com/wiki/images/thumb/b/b1/Volume_1.jpg/275px-Volume_1.jpg',\n",
       " 'https://www.detectiveconanworld.com/wiki/images/thumb/5/53/Volume_2.jpg/275px-Volume_2.jpg',\n",
       " 'https://www.detectiveconanworld.com/wiki/images/thumb/d/d4/Volume_3.jpg/275px-Volume_3.jpg',\n",
       " 'https://www.detectiveconanworld.com/wiki/images/thumb/e/e0/Volume_4.jpg/275px-Volume_4.jpg',\n",
       " 'https://www.detectiveconanworld.com/wiki/images/thumb/1/15/Volume_5.jpg/275px-Volume_5.jpg',\n",
       " 'https://www.detectiveconanworld.com/wiki/images/thumb/5/54/Volume_6.jpg/275px-Volume_6.jpg',\n",
       " 'https://www.detectiveconanworld.com/wiki/images/thumb/f/f8/Volume_7.jpg/275px-Volume_7.jpg',\n",
       " 'https://www.detectiveconanworld.com/wiki/images/thumb/c/c1/Volume_8.jpg/275px-Volume_8.jpg',\n",
       " 'https://www.detectiveconanworld.com/wiki/images/thumb/5/55/Volume_9.jpg/275px-Volume_9.jpg',\n",
       " 'https://www.detectiveconanworld.com/wiki/images/thumb/8/8b/Volume_10.jpg/275px-Volume_10.jpg',\n",
       " 'https://www.detectiveconanworld.com/wiki/images/thumb/3/34/Volume_11.jpg/275px-Volume_11.jpg',\n",
       " 'https://www.detectiveconanworld.com/wiki/images/thumb/a/a9/Volume_12.jpg/275px-Volume_12.jpg',\n",
       " 'https://www.detectiveconanworld.com/wiki/images/thumb/9/94/Volume_13.jpg/275px-Volume_13.jpg',\n",
       " 'https://www.detectiveconanworld.com/wiki/images/thumb/a/a3/Volume_14.jpg/275px-Volume_14.jpg',\n",
       " 'https://www.detectiveconanworld.com/wiki/images/thumb/7/7c/Volume_15.jpg/275px-Volume_15.jpg',\n",
       " 'https://www.detectiveconanworld.com/wiki/images/thumb/4/4a/Volume_16.jpg/275px-Volume_16.jpg',\n",
       " 'https://www.detectiveconanworld.com/wiki/images/thumb/0/0a/Volume_17.jpg/275px-Volume_17.jpg',\n",
       " 'https://www.detectiveconanworld.com/wiki/images/thumb/f/f5/Volume_18.jpg/275px-Volume_18.jpg',\n",
       " 'https://www.detectiveconanworld.com/wiki/images/thumb/0/07/Volume_19.jpg/275px-Volume_19.jpg',\n",
       " 'https://www.detectiveconanworld.com/wiki/images/thumb/f/fe/Volume_20.jpg/275px-Volume_20.jpg',\n",
       " 'https://www.detectiveconanworld.com/wiki/images/thumb/2/2c/Volume_21.jpg/275px-Volume_21.jpg',\n",
       " 'https://www.detectiveconanworld.com/wiki/images/thumb/b/ba/Volume_22.jpg/275px-Volume_22.jpg',\n",
       " 'https://www.detectiveconanworld.com/wiki/images/thumb/b/b0/Volume_23.jpg/275px-Volume_23.jpg',\n",
       " 'https://www.detectiveconanworld.com/wiki/images/thumb/c/cd/Volume_24.jpg/275px-Volume_24.jpg',\n",
       " 'https://www.detectiveconanworld.com/wiki/images/thumb/5/53/Volume_25.jpg/275px-Volume_25.jpg',\n",
       " 'https://www.detectiveconanworld.com/wiki/images/thumb/a/ac/Volume_26.jpg/275px-Volume_26.jpg',\n",
       " 'https://www.detectiveconanworld.com/wiki/images/thumb/7/77/Volume_27.jpg/275px-Volume_27.jpg',\n",
       " 'https://www.detectiveconanworld.com/wiki/images/thumb/e/e6/Volume_28.jpg/275px-Volume_28.jpg',\n",
       " 'https://www.detectiveconanworld.com/wiki/images/thumb/d/d8/Volume_29.jpg/275px-Volume_29.jpg',\n",
       " 'https://www.detectiveconanworld.com/wiki/images/thumb/a/ab/Volume_30.jpg/275px-Volume_30.jpg',\n",
       " 'https://www.detectiveconanworld.com/wiki/images/thumb/1/10/Volume_31.jpg/275px-Volume_31.jpg',\n",
       " 'https://www.detectiveconanworld.com/wiki/images/thumb/6/6c/Volume_32.jpg/275px-Volume_32.jpg',\n",
       " 'https://www.detectiveconanworld.com/wiki/images/thumb/8/85/Volume_33.jpg/275px-Volume_33.jpg',\n",
       " 'https://www.detectiveconanworld.com/wiki/images/thumb/9/90/Volume_34.jpg/275px-Volume_34.jpg',\n",
       " 'https://www.detectiveconanworld.com/wiki/images/thumb/9/9e/Volume_35.jpg/275px-Volume_35.jpg',\n",
       " 'https://www.detectiveconanworld.com/wiki/images/thumb/b/ba/Volume_36.jpg/275px-Volume_36.jpg',\n",
       " 'https://www.detectiveconanworld.com/wiki/images/thumb/b/b0/Volume_37.jpg/275px-Volume_37.jpg',\n",
       " 'https://www.detectiveconanworld.com/wiki/images/thumb/9/9e/Volume_38.jpg/275px-Volume_38.jpg',\n",
       " 'https://www.detectiveconanworld.com/wiki/images/thumb/c/c7/Volume_39.jpg/275px-Volume_39.jpg',\n",
       " 'https://www.detectiveconanworld.com/wiki/images/thumb/1/17/Volume_40.jpg/275px-Volume_40.jpg',\n",
       " 'https://www.detectiveconanworld.com/wiki/images/thumb/f/f7/Volume_41.jpg/275px-Volume_41.jpg',\n",
       " 'https://www.detectiveconanworld.com/wiki/images/thumb/c/c0/Volume_42.jpg/275px-Volume_42.jpg',\n",
       " 'https://www.detectiveconanworld.com/wiki/images/thumb/7/78/Volume_43.jpg/275px-Volume_43.jpg',\n",
       " 'https://www.detectiveconanworld.com/wiki/images/thumb/6/6d/Volume_44.jpg/275px-Volume_44.jpg',\n",
       " None,\n",
       " None,\n",
       " 'https://www.detectiveconanworld.com/wiki/images/thumb/1/1e/Volume_47.jpg/275px-Volume_47.jpg',\n",
       " 'https://www.detectiveconanworld.com/wiki/images/thumb/0/0c/Volume_48.jpg/275px-Volume_48.jpg',\n",
       " 'https://www.detectiveconanworld.com/wiki/images/thumb/4/40/Volume_49.jpg/275px-Volume_49.jpg',\n",
       " 'https://www.detectiveconanworld.com/wiki/images/thumb/9/94/Volume_50.jpg/275px-Volume_50.jpg',\n",
       " 'https://www.detectiveconanworld.com/wiki/images/thumb/f/f4/Volume_51.jpg/275px-Volume_51.jpg',\n",
       " 'https://www.detectiveconanworld.com/wiki/images/thumb/5/5c/Volume_52.jpg/275px-Volume_52.jpg',\n",
       " 'https://www.detectiveconanworld.com/wiki/images/thumb/c/c3/Volume_53.jpg/275px-Volume_53.jpg',\n",
       " 'https://www.detectiveconanworld.com/wiki/images/thumb/b/b1/Volume_54.jpg/275px-Volume_54.jpg',\n",
       " 'https://www.detectiveconanworld.com/wiki/images/thumb/4/41/Volume_55.jpg/275px-Volume_55.jpg',\n",
       " 'https://www.detectiveconanworld.com/wiki/images/thumb/3/30/Volume_56.jpg/275px-Volume_56.jpg',\n",
       " 'https://www.detectiveconanworld.com/wiki/images/thumb/a/a4/Volume_57.jpg/275px-Volume_57.jpg',\n",
       " 'https://www.detectiveconanworld.com/wiki/images/thumb/7/70/Volume_58.jpg/275px-Volume_58.jpg',\n",
       " 'https://www.detectiveconanworld.com/wiki/images/thumb/0/05/Volume_59.jpg/275px-Volume_59.jpg',\n",
       " 'https://www.detectiveconanworld.com/wiki/images/thumb/5/5d/Volume_60.jpg/275px-Volume_60.jpg',\n",
       " 'https://www.detectiveconanworld.com/wiki/images/thumb/2/21/Volume_61.jpg/275px-Volume_61.jpg',\n",
       " 'https://www.detectiveconanworld.com/wiki/images/thumb/3/35/Volume_62.jpg/275px-Volume_62.jpg',\n",
       " 'https://www.detectiveconanworld.com/wiki/images/thumb/5/5e/Volume_63.jpg/275px-Volume_63.jpg',\n",
       " 'https://www.detectiveconanworld.com/wiki/images/thumb/9/91/Volume_64.jpg/275px-Volume_64.jpg',\n",
       " 'https://www.detectiveconanworld.com/wiki/images/thumb/1/1d/Volume_65.jpg/275px-Volume_65.jpg',\n",
       " 'https://www.detectiveconanworld.com/wiki/images/thumb/b/b3/Volume_66.jpg/275px-Volume_66.jpg',\n",
       " 'https://www.detectiveconanworld.com/wiki/images/thumb/c/ca/Volume_67.jpg/275px-Volume_67.jpg',\n",
       " 'https://www.detectiveconanworld.com/wiki/images/thumb/1/1c/Volume_68.jpg/275px-Volume_68.jpg',\n",
       " 'https://www.detectiveconanworld.com/wiki/images/thumb/a/a0/Volume_69.jpg/275px-Volume_69.jpg',\n",
       " 'https://www.detectiveconanworld.com/wiki/images/thumb/7/7a/Volume_70.jpg/275px-Volume_70.jpg',\n",
       " 'https://www.detectiveconanworld.com/wiki/images/thumb/8/89/Volume_71.jpg/275px-Volume_71.jpg',\n",
       " 'https://www.detectiveconanworld.com/wiki/images/thumb/f/fb/Volume_72.jpg/275px-Volume_72.jpg',\n",
       " 'https://www.detectiveconanworld.com/wiki/images/thumb/b/b2/Volume_73.jpg/275px-Volume_73.jpg',\n",
       " 'https://www.detectiveconanworld.com/wiki/images/thumb/4/49/Volume_74.jpg/275px-Volume_74.jpg',\n",
       " 'https://www.detectiveconanworld.com/wiki/images/thumb/d/de/Volume_75.jpg/275px-Volume_75.jpg',\n",
       " 'https://www.detectiveconanworld.com/wiki/images/thumb/a/ad/Volume_76.jpg/275px-Volume_76.jpg',\n",
       " 'https://www.detectiveconanworld.com/wiki/images/thumb/1/1d/Volume_77.jpg/275px-Volume_77.jpg',\n",
       " 'https://www.detectiveconanworld.com/wiki/images/thumb/a/ab/Volume_78.jpg/275px-Volume_78.jpg',\n",
       " 'https://www.detectiveconanworld.com/wiki/images/thumb/0/0f/Volume_79.jpg/275px-Volume_79.jpg',\n",
       " 'https://www.detectiveconanworld.com/wiki/images/thumb/a/a6/Volume_80.jpg/275px-Volume_80.jpg',\n",
       " 'https://www.detectiveconanworld.com/wiki/images/thumb/2/2b/Volume_81.jpg/275px-Volume_81.jpg',\n",
       " 'https://www.detectiveconanworld.com/wiki/images/thumb/4/46/Volume_82.jpg/275px-Volume_82.jpg',\n",
       " 'https://www.detectiveconanworld.com/wiki/images/thumb/3/34/Volume_83.jpg/275px-Volume_83.jpg',\n",
       " 'https://www.detectiveconanworld.com/wiki/images/thumb/9/92/Volume_84.jpg/275px-Volume_84.jpg',\n",
       " 'https://www.detectiveconanworld.com/wiki/images/thumb/0/0c/Volume_85.jpg/275px-Volume_85.jpg',\n",
       " 'https://www.detectiveconanworld.com/wiki/images/thumb/1/1c/Volume_86.jpg/275px-Volume_86.jpg',\n",
       " 'https://www.detectiveconanworld.com/wiki/images/thumb/4/4e/Volume_87.jpg/275px-Volume_87.jpg',\n",
       " 'https://www.detectiveconanworld.com/wiki/images/thumb/4/45/Volume_88.jpg/275px-Volume_88.jpg',\n",
       " 'https://www.detectiveconanworld.com/wiki/images/thumb/f/fe/Volume_89.jpg/275px-Volume_89.jpg',\n",
       " 'https://www.detectiveconanworld.com/wiki/images/thumb/2/26/Volume_90.jpg/275px-Volume_90.jpg',\n",
       " 'https://www.detectiveconanworld.com/wiki/images/thumb/9/95/Volume_91.jpg/275px-Volume_91.jpg',\n",
       " 'https://www.detectiveconanworld.com/wiki/images/thumb/d/db/Volume_92.jpg/275px-Volume_92.jpg',\n",
       " 'https://www.detectiveconanworld.com/wiki/images/thumb/9/95/Volume_93.jpg/275px-Volume_93.jpg',\n",
       " 'https://www.detectiveconanworld.com/wiki/images/thumb/5/59/Volume_94.jpg/275px-Volume_94.jpg',\n",
       " 'https://www.detectiveconanworld.com/wiki/images/thumb/e/e6/Volume_95.jpg/275px-Volume_95.jpg',\n",
       " 'https://www.detectiveconanworld.com/wiki/images/thumb/0/0a/Volume_96.jpg/275px-Volume_96.jpg',\n",
       " 'https://www.detectiveconanworld.com/wiki/images/thumb/a/aa/Volume_97.jpg/275px-Volume_97.jpg',\n",
       " 'https://www.detectiveconanworld.com/wiki/images/thumb/a/a5/Volume_98.jpg/275px-Volume_98.jpg',\n",
       " 'https://www.detectiveconanworld.com/wiki/images/thumb/4/41/Volume_99.jpg/275px-Volume_99.jpg',\n",
       " 'https://www.detectiveconanworld.com/wiki/images/thumb/0/00/Volume_100.jpg/275px-Volume_100.jpg',\n",
       " 'https://www.detectiveconanworld.com/wiki/images/thumb/7/74/Volume_101.jpg/275px-Volume_101.jpg',\n",
       " 'https://www.detectiveconanworld.com/wiki/images/thumb/9/92/Volume_102.jpg/275px-Volume_102.jpg',\n",
       " 'https://www.detectiveconanworld.com/wiki/images/8/88/No_cover.jpg']"
      ]
     },
     "execution_count": 5,
     "metadata": {},
     "output_type": "execute_result"
    }
   ],
   "source": [
    "cover_url_list = []\n",
    "for i in range(len(vol_list_df)):\n",
    "    vol_url = vol_list_df['url'].iloc[i]\n",
    "    driver.get(vol_url)\n",
    "    covers = driver.find_elements(By.CSS_SELECTOR,'table.infobox tr td a img')\n",
    "    try:        \n",
    "        cover = covers[0].get_attribute('src')\n",
    "    except:\n",
    "        cover = None\n",
    "    print(f'{i+1}. {cover}')\n",
    "    cover_url_list.append(cover)\n",
    "cover_url_list"
   ]
  },
  {
   "cell_type": "markdown",
   "metadata": {},
   "source": [
    "Download Covers"
   ]
  },
  {
   "cell_type": "code",
   "execution_count": 3,
   "metadata": {},
   "outputs": [],
   "source": [
    "vol_list_df = pd.read_csv('../../data/comics/det-conan.csv')"
   ]
  },
  {
   "cell_type": "code",
   "execution_count": 7,
   "metadata": {},
   "outputs": [],
   "source": [
    "def download_image(url, file_name, headers):\n",
    "    response = requests.get(url,headers=headers, verify=False)\n",
    "    \n",
    "    if response.status_code==200:\n",
    "        with open(file_name,'wb') as f:\n",
    "            f.write(response.content)\n",
    "    else:\n",
    "        print(response.status_code)"
   ]
  },
  {
   "cell_type": "code",
   "execution_count": 11,
   "metadata": {},
   "outputs": [
    {
     "name": "stdout",
     "output_type": "stream",
     "text": [
      "downloading cover ../../.img/det_conan/Volume 1.png....\n",
      "downloading cover ../../.img/det_conan/Volume 2.png....\n",
      "downloading cover ../../.img/det_conan/Volume 3.png....\n"
     ]
    },
    {
     "name": "stderr",
     "output_type": "stream",
     "text": [
      "c:\\Python310\\lib\\site-packages\\urllib3\\connectionpool.py:1045: InsecureRequestWarning: Unverified HTTPS request is being made to host 'www.detectiveconanworld.com'. Adding certificate verification is strongly advised. See: https://urllib3.readthedocs.io/en/1.26.x/advanced-usage.html#ssl-warnings\n",
      "  warnings.warn(\n",
      "c:\\Python310\\lib\\site-packages\\urllib3\\connectionpool.py:1045: InsecureRequestWarning: Unverified HTTPS request is being made to host 'www.detectiveconanworld.com'. Adding certificate verification is strongly advised. See: https://urllib3.readthedocs.io/en/1.26.x/advanced-usage.html#ssl-warnings\n",
      "  warnings.warn(\n",
      "c:\\Python310\\lib\\site-packages\\urllib3\\connectionpool.py:1045: InsecureRequestWarning: Unverified HTTPS request is being made to host 'www.detectiveconanworld.com'. Adding certificate verification is strongly advised. See: https://urllib3.readthedocs.io/en/1.26.x/advanced-usage.html#ssl-warnings\n",
      "  warnings.warn(\n"
     ]
    },
    {
     "name": "stdout",
     "output_type": "stream",
     "text": [
      "downloading cover ../../.img/det_conan/Volume 4.png....\n",
      "downloading cover ../../.img/det_conan/Volume 5.png....\n",
      "downloading cover ../../.img/det_conan/Volume 6.png....\n"
     ]
    },
    {
     "name": "stderr",
     "output_type": "stream",
     "text": [
      "c:\\Python310\\lib\\site-packages\\urllib3\\connectionpool.py:1045: InsecureRequestWarning: Unverified HTTPS request is being made to host 'www.detectiveconanworld.com'. Adding certificate verification is strongly advised. See: https://urllib3.readthedocs.io/en/1.26.x/advanced-usage.html#ssl-warnings\n",
      "  warnings.warn(\n",
      "c:\\Python310\\lib\\site-packages\\urllib3\\connectionpool.py:1045: InsecureRequestWarning: Unverified HTTPS request is being made to host 'www.detectiveconanworld.com'. Adding certificate verification is strongly advised. See: https://urllib3.readthedocs.io/en/1.26.x/advanced-usage.html#ssl-warnings\n",
      "  warnings.warn(\n",
      "c:\\Python310\\lib\\site-packages\\urllib3\\connectionpool.py:1045: InsecureRequestWarning: Unverified HTTPS request is being made to host 'www.detectiveconanworld.com'. Adding certificate verification is strongly advised. See: https://urllib3.readthedocs.io/en/1.26.x/advanced-usage.html#ssl-warnings\n",
      "  warnings.warn(\n",
      "c:\\Python310\\lib\\site-packages\\urllib3\\connectionpool.py:1045: InsecureRequestWarning: Unverified HTTPS request is being made to host 'www.detectiveconanworld.com'. Adding certificate verification is strongly advised. See: https://urllib3.readthedocs.io/en/1.26.x/advanced-usage.html#ssl-warnings\n",
      "  warnings.warn(\n",
      "c:\\Python310\\lib\\site-packages\\urllib3\\connectionpool.py:1045: InsecureRequestWarning: Unverified HTTPS request is being made to host 'www.detectiveconanworld.com'. Adding certificate verification is strongly advised. See: https://urllib3.readthedocs.io/en/1.26.x/advanced-usage.html#ssl-warnings\n",
      "  warnings.warn(\n"
     ]
    },
    {
     "name": "stdout",
     "output_type": "stream",
     "text": [
      "downloading cover ../../.img/det_conan/Volume 7.png....\n",
      "downloading cover ../../.img/det_conan/Volume 8.png....\n",
      "downloading cover ../../.img/det_conan/Volume 9.png....\n"
     ]
    },
    {
     "name": "stderr",
     "output_type": "stream",
     "text": [
      "c:\\Python310\\lib\\site-packages\\urllib3\\connectionpool.py:1045: InsecureRequestWarning: Unverified HTTPS request is being made to host 'www.detectiveconanworld.com'. Adding certificate verification is strongly advised. See: https://urllib3.readthedocs.io/en/1.26.x/advanced-usage.html#ssl-warnings\n",
      "  warnings.warn(\n",
      "c:\\Python310\\lib\\site-packages\\urllib3\\connectionpool.py:1045: InsecureRequestWarning: Unverified HTTPS request is being made to host 'www.detectiveconanworld.com'. Adding certificate verification is strongly advised. See: https://urllib3.readthedocs.io/en/1.26.x/advanced-usage.html#ssl-warnings\n",
      "  warnings.warn(\n",
      "c:\\Python310\\lib\\site-packages\\urllib3\\connectionpool.py:1045: InsecureRequestWarning: Unverified HTTPS request is being made to host 'www.detectiveconanworld.com'. Adding certificate verification is strongly advised. See: https://urllib3.readthedocs.io/en/1.26.x/advanced-usage.html#ssl-warnings\n",
      "  warnings.warn(\n"
     ]
    },
    {
     "name": "stdout",
     "output_type": "stream",
     "text": [
      "downloading cover ../../.img/det_conan/Volume 10.png....\n",
      "downloading cover ../../.img/det_conan/Volume 11.png....\n",
      "downloading cover ../../.img/det_conan/Volume 12.png....\n"
     ]
    },
    {
     "name": "stderr",
     "output_type": "stream",
     "text": [
      "c:\\Python310\\lib\\site-packages\\urllib3\\connectionpool.py:1045: InsecureRequestWarning: Unverified HTTPS request is being made to host 'www.detectiveconanworld.com'. Adding certificate verification is strongly advised. See: https://urllib3.readthedocs.io/en/1.26.x/advanced-usage.html#ssl-warnings\n",
      "  warnings.warn(\n"
     ]
    },
    {
     "name": "stdout",
     "output_type": "stream",
     "text": [
      "downloading cover ../../.img/det_conan/Volume 13.png....\n"
     ]
    },
    {
     "name": "stderr",
     "output_type": "stream",
     "text": [
      "c:\\Python310\\lib\\site-packages\\urllib3\\connectionpool.py:1045: InsecureRequestWarning: Unverified HTTPS request is being made to host 'www.detectiveconanworld.com'. Adding certificate verification is strongly advised. See: https://urllib3.readthedocs.io/en/1.26.x/advanced-usage.html#ssl-warnings\n",
      "  warnings.warn(\n"
     ]
    },
    {
     "name": "stdout",
     "output_type": "stream",
     "text": [
      "downloading cover ../../.img/det_conan/Volume 14.png....\n",
      "downloading cover ../../.img/det_conan/Volume 15.png....\n"
     ]
    },
    {
     "name": "stderr",
     "output_type": "stream",
     "text": [
      "c:\\Python310\\lib\\site-packages\\urllib3\\connectionpool.py:1045: InsecureRequestWarning: Unverified HTTPS request is being made to host 'www.detectiveconanworld.com'. Adding certificate verification is strongly advised. See: https://urllib3.readthedocs.io/en/1.26.x/advanced-usage.html#ssl-warnings\n",
      "  warnings.warn(\n",
      "c:\\Python310\\lib\\site-packages\\urllib3\\connectionpool.py:1045: InsecureRequestWarning: Unverified HTTPS request is being made to host 'www.detectiveconanworld.com'. Adding certificate verification is strongly advised. See: https://urllib3.readthedocs.io/en/1.26.x/advanced-usage.html#ssl-warnings\n",
      "  warnings.warn(\n"
     ]
    },
    {
     "name": "stdout",
     "output_type": "stream",
     "text": [
      "downloading cover ../../.img/det_conan/Volume 16.png....\n"
     ]
    },
    {
     "name": "stderr",
     "output_type": "stream",
     "text": [
      "c:\\Python310\\lib\\site-packages\\urllib3\\connectionpool.py:1045: InsecureRequestWarning: Unverified HTTPS request is being made to host 'www.detectiveconanworld.com'. Adding certificate verification is strongly advised. See: https://urllib3.readthedocs.io/en/1.26.x/advanced-usage.html#ssl-warnings\n",
      "  warnings.warn(\n"
     ]
    },
    {
     "name": "stdout",
     "output_type": "stream",
     "text": [
      "downloading cover ../../.img/det_conan/Volume 17.png....\n",
      "downloading cover ../../.img/det_conan/Volume 18.png....\n",
      "downloading cover ../../.img/det_conan/Volume 19.png....\n"
     ]
    },
    {
     "name": "stderr",
     "output_type": "stream",
     "text": [
      "c:\\Python310\\lib\\site-packages\\urllib3\\connectionpool.py:1045: InsecureRequestWarning: Unverified HTTPS request is being made to host 'www.detectiveconanworld.com'. Adding certificate verification is strongly advised. See: https://urllib3.readthedocs.io/en/1.26.x/advanced-usage.html#ssl-warnings\n",
      "  warnings.warn(\n",
      "c:\\Python310\\lib\\site-packages\\urllib3\\connectionpool.py:1045: InsecureRequestWarning: Unverified HTTPS request is being made to host 'www.detectiveconanworld.com'. Adding certificate verification is strongly advised. See: https://urllib3.readthedocs.io/en/1.26.x/advanced-usage.html#ssl-warnings\n",
      "  warnings.warn(\n",
      "c:\\Python310\\lib\\site-packages\\urllib3\\connectionpool.py:1045: InsecureRequestWarning: Unverified HTTPS request is being made to host 'www.detectiveconanworld.com'. Adding certificate verification is strongly advised. See: https://urllib3.readthedocs.io/en/1.26.x/advanced-usage.html#ssl-warnings\n",
      "  warnings.warn(\n"
     ]
    },
    {
     "name": "stdout",
     "output_type": "stream",
     "text": [
      "downloading cover ../../.img/det_conan/Volume 20.png....\n",
      "downloading cover ../../.img/det_conan/Volume 21.png....\n"
     ]
    },
    {
     "name": "stderr",
     "output_type": "stream",
     "text": [
      "c:\\Python310\\lib\\site-packages\\urllib3\\connectionpool.py:1045: InsecureRequestWarning: Unverified HTTPS request is being made to host 'www.detectiveconanworld.com'. Adding certificate verification is strongly advised. See: https://urllib3.readthedocs.io/en/1.26.x/advanced-usage.html#ssl-warnings\n",
      "  warnings.warn(\n",
      "c:\\Python310\\lib\\site-packages\\urllib3\\connectionpool.py:1045: InsecureRequestWarning: Unverified HTTPS request is being made to host 'www.detectiveconanworld.com'. Adding certificate verification is strongly advised. See: https://urllib3.readthedocs.io/en/1.26.x/advanced-usage.html#ssl-warnings\n",
      "  warnings.warn(\n"
     ]
    },
    {
     "name": "stdout",
     "output_type": "stream",
     "text": [
      "downloading cover ../../.img/det_conan/Volume 22.png....\n",
      "downloading cover ../../.img/det_conan/Volume 23.png....\n",
      "downloading cover ../../.img/det_conan/Volume 24.png....\n"
     ]
    },
    {
     "name": "stderr",
     "output_type": "stream",
     "text": [
      "c:\\Python310\\lib\\site-packages\\urllib3\\connectionpool.py:1045: InsecureRequestWarning: Unverified HTTPS request is being made to host 'www.detectiveconanworld.com'. Adding certificate verification is strongly advised. See: https://urllib3.readthedocs.io/en/1.26.x/advanced-usage.html#ssl-warnings\n",
      "  warnings.warn(\n",
      "c:\\Python310\\lib\\site-packages\\urllib3\\connectionpool.py:1045: InsecureRequestWarning: Unverified HTTPS request is being made to host 'www.detectiveconanworld.com'. Adding certificate verification is strongly advised. See: https://urllib3.readthedocs.io/en/1.26.x/advanced-usage.html#ssl-warnings\n",
      "  warnings.warn(\n",
      "c:\\Python310\\lib\\site-packages\\urllib3\\connectionpool.py:1045: InsecureRequestWarning: Unverified HTTPS request is being made to host 'www.detectiveconanworld.com'. Adding certificate verification is strongly advised. See: https://urllib3.readthedocs.io/en/1.26.x/advanced-usage.html#ssl-warnings\n",
      "  warnings.warn(\n"
     ]
    },
    {
     "name": "stdout",
     "output_type": "stream",
     "text": [
      "downloading cover ../../.img/det_conan/Volume 25.png....\n",
      "downloading cover ../../.img/det_conan/Volume 26.png....\n",
      "downloading cover ../../.img/det_conan/Volume 27.png....\n"
     ]
    },
    {
     "name": "stderr",
     "output_type": "stream",
     "text": [
      "c:\\Python310\\lib\\site-packages\\urllib3\\connectionpool.py:1045: InsecureRequestWarning: Unverified HTTPS request is being made to host 'www.detectiveconanworld.com'. Adding certificate verification is strongly advised. See: https://urllib3.readthedocs.io/en/1.26.x/advanced-usage.html#ssl-warnings\n",
      "  warnings.warn(\n",
      "c:\\Python310\\lib\\site-packages\\urllib3\\connectionpool.py:1045: InsecureRequestWarning: Unverified HTTPS request is being made to host 'www.detectiveconanworld.com'. Adding certificate verification is strongly advised. See: https://urllib3.readthedocs.io/en/1.26.x/advanced-usage.html#ssl-warnings\n",
      "  warnings.warn(\n",
      "c:\\Python310\\lib\\site-packages\\urllib3\\connectionpool.py:1045: InsecureRequestWarning: Unverified HTTPS request is being made to host 'www.detectiveconanworld.com'. Adding certificate verification is strongly advised. See: https://urllib3.readthedocs.io/en/1.26.x/advanced-usage.html#ssl-warnings\n",
      "  warnings.warn(\n"
     ]
    },
    {
     "name": "stdout",
     "output_type": "stream",
     "text": [
      "downloading cover ../../.img/det_conan/Volume 28.png....\n",
      "downloading cover ../../.img/det_conan/Volume 29.png....\n",
      "downloading cover ../../.img/det_conan/Volume 30.png....\n"
     ]
    },
    {
     "name": "stderr",
     "output_type": "stream",
     "text": [
      "c:\\Python310\\lib\\site-packages\\urllib3\\connectionpool.py:1045: InsecureRequestWarning: Unverified HTTPS request is being made to host 'www.detectiveconanworld.com'. Adding certificate verification is strongly advised. See: https://urllib3.readthedocs.io/en/1.26.x/advanced-usage.html#ssl-warnings\n",
      "  warnings.warn(\n",
      "c:\\Python310\\lib\\site-packages\\urllib3\\connectionpool.py:1045: InsecureRequestWarning: Unverified HTTPS request is being made to host 'www.detectiveconanworld.com'. Adding certificate verification is strongly advised. See: https://urllib3.readthedocs.io/en/1.26.x/advanced-usage.html#ssl-warnings\n",
      "  warnings.warn(\n",
      "c:\\Python310\\lib\\site-packages\\urllib3\\connectionpool.py:1045: InsecureRequestWarning: Unverified HTTPS request is being made to host 'www.detectiveconanworld.com'. Adding certificate verification is strongly advised. See: https://urllib3.readthedocs.io/en/1.26.x/advanced-usage.html#ssl-warnings\n",
      "  warnings.warn(\n"
     ]
    },
    {
     "name": "stdout",
     "output_type": "stream",
     "text": [
      "downloading cover ../../.img/det_conan/Volume 31.png....\n",
      "downloading cover ../../.img/det_conan/Volume 32.png....\n"
     ]
    },
    {
     "name": "stderr",
     "output_type": "stream",
     "text": [
      "c:\\Python310\\lib\\site-packages\\urllib3\\connectionpool.py:1045: InsecureRequestWarning: Unverified HTTPS request is being made to host 'www.detectiveconanworld.com'. Adding certificate verification is strongly advised. See: https://urllib3.readthedocs.io/en/1.26.x/advanced-usage.html#ssl-warnings\n",
      "  warnings.warn(\n",
      "c:\\Python310\\lib\\site-packages\\urllib3\\connectionpool.py:1045: InsecureRequestWarning: Unverified HTTPS request is being made to host 'www.detectiveconanworld.com'. Adding certificate verification is strongly advised. See: https://urllib3.readthedocs.io/en/1.26.x/advanced-usage.html#ssl-warnings\n",
      "  warnings.warn(\n"
     ]
    },
    {
     "name": "stdout",
     "output_type": "stream",
     "text": [
      "downloading cover ../../.img/det_conan/Volume 33.png....\n",
      "downloading cover ../../.img/det_conan/Volume 34.png....\n"
     ]
    },
    {
     "name": "stderr",
     "output_type": "stream",
     "text": [
      "c:\\Python310\\lib\\site-packages\\urllib3\\connectionpool.py:1045: InsecureRequestWarning: Unverified HTTPS request is being made to host 'www.detectiveconanworld.com'. Adding certificate verification is strongly advised. See: https://urllib3.readthedocs.io/en/1.26.x/advanced-usage.html#ssl-warnings\n",
      "  warnings.warn(\n",
      "c:\\Python310\\lib\\site-packages\\urllib3\\connectionpool.py:1045: InsecureRequestWarning: Unverified HTTPS request is being made to host 'www.detectiveconanworld.com'. Adding certificate verification is strongly advised. See: https://urllib3.readthedocs.io/en/1.26.x/advanced-usage.html#ssl-warnings\n",
      "  warnings.warn(\n"
     ]
    },
    {
     "name": "stdout",
     "output_type": "stream",
     "text": [
      "downloading cover ../../.img/det_conan/Volume 35.png....\n"
     ]
    },
    {
     "name": "stderr",
     "output_type": "stream",
     "text": [
      "c:\\Python310\\lib\\site-packages\\urllib3\\connectionpool.py:1045: InsecureRequestWarning: Unverified HTTPS request is being made to host 'www.detectiveconanworld.com'. Adding certificate verification is strongly advised. See: https://urllib3.readthedocs.io/en/1.26.x/advanced-usage.html#ssl-warnings\n",
      "  warnings.warn(\n"
     ]
    },
    {
     "name": "stdout",
     "output_type": "stream",
     "text": [
      "downloading cover ../../.img/det_conan/Volume 36.png....\n",
      "downloading cover ../../.img/det_conan/Volume 37.png....\n"
     ]
    },
    {
     "name": "stderr",
     "output_type": "stream",
     "text": [
      "c:\\Python310\\lib\\site-packages\\urllib3\\connectionpool.py:1045: InsecureRequestWarning: Unverified HTTPS request is being made to host 'www.detectiveconanworld.com'. Adding certificate verification is strongly advised. See: https://urllib3.readthedocs.io/en/1.26.x/advanced-usage.html#ssl-warnings\n",
      "  warnings.warn(\n",
      "c:\\Python310\\lib\\site-packages\\urllib3\\connectionpool.py:1045: InsecureRequestWarning: Unverified HTTPS request is being made to host 'www.detectiveconanworld.com'. Adding certificate verification is strongly advised. See: https://urllib3.readthedocs.io/en/1.26.x/advanced-usage.html#ssl-warnings\n",
      "  warnings.warn(\n"
     ]
    },
    {
     "name": "stdout",
     "output_type": "stream",
     "text": [
      "downloading cover ../../.img/det_conan/Volume 38.png....\n",
      "downloading cover ../../.img/det_conan/Volume 39.png....\n"
     ]
    },
    {
     "name": "stderr",
     "output_type": "stream",
     "text": [
      "c:\\Python310\\lib\\site-packages\\urllib3\\connectionpool.py:1045: InsecureRequestWarning: Unverified HTTPS request is being made to host 'www.detectiveconanworld.com'. Adding certificate verification is strongly advised. See: https://urllib3.readthedocs.io/en/1.26.x/advanced-usage.html#ssl-warnings\n",
      "  warnings.warn(\n",
      "c:\\Python310\\lib\\site-packages\\urllib3\\connectionpool.py:1045: InsecureRequestWarning: Unverified HTTPS request is being made to host 'www.detectiveconanworld.com'. Adding certificate verification is strongly advised. See: https://urllib3.readthedocs.io/en/1.26.x/advanced-usage.html#ssl-warnings\n",
      "  warnings.warn(\n",
      "c:\\Python310\\lib\\site-packages\\urllib3\\connectionpool.py:1045: InsecureRequestWarning: Unverified HTTPS request is being made to host 'www.detectiveconanworld.com'. Adding certificate verification is strongly advised. See: https://urllib3.readthedocs.io/en/1.26.x/advanced-usage.html#ssl-warnings\n",
      "  warnings.warn(\n"
     ]
    },
    {
     "name": "stdout",
     "output_type": "stream",
     "text": [
      "downloading cover ../../.img/det_conan/Volume 40.png....\n",
      "downloading cover ../../.img/det_conan/Volume 41.png....\n",
      "downloading cover ../../.img/det_conan/Volume 42.png....\n"
     ]
    },
    {
     "name": "stderr",
     "output_type": "stream",
     "text": [
      "c:\\Python310\\lib\\site-packages\\urllib3\\connectionpool.py:1045: InsecureRequestWarning: Unverified HTTPS request is being made to host 'www.detectiveconanworld.com'. Adding certificate verification is strongly advised. See: https://urllib3.readthedocs.io/en/1.26.x/advanced-usage.html#ssl-warnings\n",
      "  warnings.warn(\n",
      "c:\\Python310\\lib\\site-packages\\urllib3\\connectionpool.py:1045: InsecureRequestWarning: Unverified HTTPS request is being made to host 'www.detectiveconanworld.com'. Adding certificate verification is strongly advised. See: https://urllib3.readthedocs.io/en/1.26.x/advanced-usage.html#ssl-warnings\n",
      "  warnings.warn(\n",
      "c:\\Python310\\lib\\site-packages\\urllib3\\connectionpool.py:1045: InsecureRequestWarning: Unverified HTTPS request is being made to host 'www.detectiveconanworld.com'. Adding certificate verification is strongly advised. See: https://urllib3.readthedocs.io/en/1.26.x/advanced-usage.html#ssl-warnings\n",
      "  warnings.warn(\n"
     ]
    },
    {
     "name": "stdout",
     "output_type": "stream",
     "text": [
      "downloading cover ../../.img/det_conan/Volume 43.png....\n",
      "downloading cover ../../.img/det_conan/Volume 44.png....\n"
     ]
    },
    {
     "name": "stderr",
     "output_type": "stream",
     "text": [
      "c:\\Python310\\lib\\site-packages\\urllib3\\connectionpool.py:1045: InsecureRequestWarning: Unverified HTTPS request is being made to host 'www.detectiveconanworld.com'. Adding certificate verification is strongly advised. See: https://urllib3.readthedocs.io/en/1.26.x/advanced-usage.html#ssl-warnings\n",
      "  warnings.warn(\n"
     ]
    },
    {
     "name": "stdout",
     "output_type": "stream",
     "text": [
      "downloading cover ../../.img/det_conan/Volume 45.png....\n"
     ]
    },
    {
     "name": "stderr",
     "output_type": "stream",
     "text": [
      "c:\\Python310\\lib\\site-packages\\urllib3\\connectionpool.py:1045: InsecureRequestWarning: Unverified HTTPS request is being made to host 'www.detectiveconanworld.com'. Adding certificate verification is strongly advised. See: https://urllib3.readthedocs.io/en/1.26.x/advanced-usage.html#ssl-warnings\n",
      "  warnings.warn(\n"
     ]
    },
    {
     "name": "stdout",
     "output_type": "stream",
     "text": [
      "downloading cover ../../.img/det_conan/Volume 46.png....\n",
      "downloading cover ../../.img/det_conan/Volume 47.png....\n",
      "downloading cover ../../.img/det_conan/Volume 48.png....\n"
     ]
    },
    {
     "name": "stderr",
     "output_type": "stream",
     "text": [
      "c:\\Python310\\lib\\site-packages\\urllib3\\connectionpool.py:1045: InsecureRequestWarning: Unverified HTTPS request is being made to host 'www.detectiveconanworld.com'. Adding certificate verification is strongly advised. See: https://urllib3.readthedocs.io/en/1.26.x/advanced-usage.html#ssl-warnings\n",
      "  warnings.warn(\n",
      "c:\\Python310\\lib\\site-packages\\urllib3\\connectionpool.py:1045: InsecureRequestWarning: Unverified HTTPS request is being made to host 'www.detectiveconanworld.com'. Adding certificate verification is strongly advised. See: https://urllib3.readthedocs.io/en/1.26.x/advanced-usage.html#ssl-warnings\n",
      "  warnings.warn(\n",
      "c:\\Python310\\lib\\site-packages\\urllib3\\connectionpool.py:1045: InsecureRequestWarning: Unverified HTTPS request is being made to host 'www.detectiveconanworld.com'. Adding certificate verification is strongly advised. See: https://urllib3.readthedocs.io/en/1.26.x/advanced-usage.html#ssl-warnings\n",
      "  warnings.warn(\n"
     ]
    },
    {
     "name": "stdout",
     "output_type": "stream",
     "text": [
      "downloading cover ../../.img/det_conan/Volume 49.png....\n"
     ]
    },
    {
     "name": "stderr",
     "output_type": "stream",
     "text": [
      "c:\\Python310\\lib\\site-packages\\urllib3\\connectionpool.py:1045: InsecureRequestWarning: Unverified HTTPS request is being made to host 'www.detectiveconanworld.com'. Adding certificate verification is strongly advised. See: https://urllib3.readthedocs.io/en/1.26.x/advanced-usage.html#ssl-warnings\n",
      "  warnings.warn(\n"
     ]
    },
    {
     "name": "stdout",
     "output_type": "stream",
     "text": [
      "downloading cover ../../.img/det_conan/Volume 50.png....\n"
     ]
    },
    {
     "name": "stderr",
     "output_type": "stream",
     "text": [
      "c:\\Python310\\lib\\site-packages\\urllib3\\connectionpool.py:1045: InsecureRequestWarning: Unverified HTTPS request is being made to host 'www.detectiveconanworld.com'. Adding certificate verification is strongly advised. See: https://urllib3.readthedocs.io/en/1.26.x/advanced-usage.html#ssl-warnings\n",
      "  warnings.warn(\n"
     ]
    },
    {
     "name": "stdout",
     "output_type": "stream",
     "text": [
      "downloading cover ../../.img/det_conan/Volume 51.png....\n",
      "downloading cover ../../.img/det_conan/Volume 52.png....\n"
     ]
    },
    {
     "name": "stderr",
     "output_type": "stream",
     "text": [
      "c:\\Python310\\lib\\site-packages\\urllib3\\connectionpool.py:1045: InsecureRequestWarning: Unverified HTTPS request is being made to host 'www.detectiveconanworld.com'. Adding certificate verification is strongly advised. See: https://urllib3.readthedocs.io/en/1.26.x/advanced-usage.html#ssl-warnings\n",
      "  warnings.warn(\n",
      "c:\\Python310\\lib\\site-packages\\urllib3\\connectionpool.py:1045: InsecureRequestWarning: Unverified HTTPS request is being made to host 'www.detectiveconanworld.com'. Adding certificate verification is strongly advised. See: https://urllib3.readthedocs.io/en/1.26.x/advanced-usage.html#ssl-warnings\n",
      "  warnings.warn(\n",
      "c:\\Python310\\lib\\site-packages\\urllib3\\connectionpool.py:1045: InsecureRequestWarning: Unverified HTTPS request is being made to host 'www.detectiveconanworld.com'. Adding certificate verification is strongly advised. See: https://urllib3.readthedocs.io/en/1.26.x/advanced-usage.html#ssl-warnings\n",
      "  warnings.warn(\n"
     ]
    },
    {
     "name": "stdout",
     "output_type": "stream",
     "text": [
      "downloading cover ../../.img/det_conan/Volume 53.png....\n",
      "downloading cover ../../.img/det_conan/Volume 54.png....\n"
     ]
    },
    {
     "name": "stderr",
     "output_type": "stream",
     "text": [
      "c:\\Python310\\lib\\site-packages\\urllib3\\connectionpool.py:1045: InsecureRequestWarning: Unverified HTTPS request is being made to host 'www.detectiveconanworld.com'. Adding certificate verification is strongly advised. See: https://urllib3.readthedocs.io/en/1.26.x/advanced-usage.html#ssl-warnings\n",
      "  warnings.warn(\n"
     ]
    },
    {
     "name": "stdout",
     "output_type": "stream",
     "text": [
      "downloading cover ../../.img/det_conan/Volume 55.png....\n",
      "downloading cover ../../.img/det_conan/Volume 56.png....\n"
     ]
    },
    {
     "name": "stderr",
     "output_type": "stream",
     "text": [
      "c:\\Python310\\lib\\site-packages\\urllib3\\connectionpool.py:1045: InsecureRequestWarning: Unverified HTTPS request is being made to host 'www.detectiveconanworld.com'. Adding certificate verification is strongly advised. See: https://urllib3.readthedocs.io/en/1.26.x/advanced-usage.html#ssl-warnings\n",
      "  warnings.warn(\n",
      "c:\\Python310\\lib\\site-packages\\urllib3\\connectionpool.py:1045: InsecureRequestWarning: Unverified HTTPS request is being made to host 'www.detectiveconanworld.com'. Adding certificate verification is strongly advised. See: https://urllib3.readthedocs.io/en/1.26.x/advanced-usage.html#ssl-warnings\n",
      "  warnings.warn(\n",
      "c:\\Python310\\lib\\site-packages\\urllib3\\connectionpool.py:1045: InsecureRequestWarning: Unverified HTTPS request is being made to host 'www.detectiveconanworld.com'. Adding certificate verification is strongly advised. See: https://urllib3.readthedocs.io/en/1.26.x/advanced-usage.html#ssl-warnings\n",
      "  warnings.warn(\n"
     ]
    },
    {
     "name": "stdout",
     "output_type": "stream",
     "text": [
      "downloading cover ../../.img/det_conan/Volume 57.png....\n",
      "downloading cover ../../.img/det_conan/Volume 58.png....\n"
     ]
    },
    {
     "name": "stderr",
     "output_type": "stream",
     "text": [
      "c:\\Python310\\lib\\site-packages\\urllib3\\connectionpool.py:1045: InsecureRequestWarning: Unverified HTTPS request is being made to host 'www.detectiveconanworld.com'. Adding certificate verification is strongly advised. See: https://urllib3.readthedocs.io/en/1.26.x/advanced-usage.html#ssl-warnings\n",
      "  warnings.warn(\n"
     ]
    },
    {
     "name": "stdout",
     "output_type": "stream",
     "text": [
      "downloading cover ../../.img/det_conan/Volume 59.png....\n"
     ]
    },
    {
     "name": "stderr",
     "output_type": "stream",
     "text": [
      "c:\\Python310\\lib\\site-packages\\urllib3\\connectionpool.py:1045: InsecureRequestWarning: Unverified HTTPS request is being made to host 'www.detectiveconanworld.com'. Adding certificate verification is strongly advised. See: https://urllib3.readthedocs.io/en/1.26.x/advanced-usage.html#ssl-warnings\n",
      "  warnings.warn(\n"
     ]
    },
    {
     "name": "stdout",
     "output_type": "stream",
     "text": [
      "downloading cover ../../.img/det_conan/Volume 60.png....\n",
      "downloading cover ../../.img/det_conan/Volume 61.png....\n"
     ]
    },
    {
     "name": "stderr",
     "output_type": "stream",
     "text": [
      "c:\\Python310\\lib\\site-packages\\urllib3\\connectionpool.py:1045: InsecureRequestWarning: Unverified HTTPS request is being made to host 'www.detectiveconanworld.com'. Adding certificate verification is strongly advised. See: https://urllib3.readthedocs.io/en/1.26.x/advanced-usage.html#ssl-warnings\n",
      "  warnings.warn(\n",
      "c:\\Python310\\lib\\site-packages\\urllib3\\connectionpool.py:1045: InsecureRequestWarning: Unverified HTTPS request is being made to host 'www.detectiveconanworld.com'. Adding certificate verification is strongly advised. See: https://urllib3.readthedocs.io/en/1.26.x/advanced-usage.html#ssl-warnings\n",
      "  warnings.warn(\n"
     ]
    },
    {
     "name": "stdout",
     "output_type": "stream",
     "text": [
      "downloading cover ../../.img/det_conan/Volume 62.png....\n"
     ]
    },
    {
     "name": "stderr",
     "output_type": "stream",
     "text": [
      "c:\\Python310\\lib\\site-packages\\urllib3\\connectionpool.py:1045: InsecureRequestWarning: Unverified HTTPS request is being made to host 'www.detectiveconanworld.com'. Adding certificate verification is strongly advised. See: https://urllib3.readthedocs.io/en/1.26.x/advanced-usage.html#ssl-warnings\n",
      "  warnings.warn(\n"
     ]
    },
    {
     "name": "stdout",
     "output_type": "stream",
     "text": [
      "downloading cover ../../.img/det_conan/Volume 63.png....\n"
     ]
    },
    {
     "name": "stderr",
     "output_type": "stream",
     "text": [
      "c:\\Python310\\lib\\site-packages\\urllib3\\connectionpool.py:1045: InsecureRequestWarning: Unverified HTTPS request is being made to host 'www.detectiveconanworld.com'. Adding certificate verification is strongly advised. See: https://urllib3.readthedocs.io/en/1.26.x/advanced-usage.html#ssl-warnings\n",
      "  warnings.warn(\n"
     ]
    },
    {
     "name": "stdout",
     "output_type": "stream",
     "text": [
      "downloading cover ../../.img/det_conan/Volume 64.png....\n"
     ]
    },
    {
     "name": "stderr",
     "output_type": "stream",
     "text": [
      "c:\\Python310\\lib\\site-packages\\urllib3\\connectionpool.py:1045: InsecureRequestWarning: Unverified HTTPS request is being made to host 'www.detectiveconanworld.com'. Adding certificate verification is strongly advised. See: https://urllib3.readthedocs.io/en/1.26.x/advanced-usage.html#ssl-warnings\n",
      "  warnings.warn(\n"
     ]
    },
    {
     "name": "stdout",
     "output_type": "stream",
     "text": [
      "downloading cover ../../.img/det_conan/Volume 65.png....\n"
     ]
    },
    {
     "name": "stderr",
     "output_type": "stream",
     "text": [
      "c:\\Python310\\lib\\site-packages\\urllib3\\connectionpool.py:1045: InsecureRequestWarning: Unverified HTTPS request is being made to host 'www.detectiveconanworld.com'. Adding certificate verification is strongly advised. See: https://urllib3.readthedocs.io/en/1.26.x/advanced-usage.html#ssl-warnings\n",
      "  warnings.warn(\n"
     ]
    },
    {
     "name": "stdout",
     "output_type": "stream",
     "text": [
      "downloading cover ../../.img/det_conan/Volume 66.png....\n"
     ]
    },
    {
     "name": "stderr",
     "output_type": "stream",
     "text": [
      "c:\\Python310\\lib\\site-packages\\urllib3\\connectionpool.py:1045: InsecureRequestWarning: Unverified HTTPS request is being made to host 'www.detectiveconanworld.com'. Adding certificate verification is strongly advised. See: https://urllib3.readthedocs.io/en/1.26.x/advanced-usage.html#ssl-warnings\n",
      "  warnings.warn(\n"
     ]
    },
    {
     "name": "stdout",
     "output_type": "stream",
     "text": [
      "downloading cover ../../.img/det_conan/Volume 67.png....\n"
     ]
    },
    {
     "name": "stderr",
     "output_type": "stream",
     "text": [
      "c:\\Python310\\lib\\site-packages\\urllib3\\connectionpool.py:1045: InsecureRequestWarning: Unverified HTTPS request is being made to host 'www.detectiveconanworld.com'. Adding certificate verification is strongly advised. See: https://urllib3.readthedocs.io/en/1.26.x/advanced-usage.html#ssl-warnings\n",
      "  warnings.warn(\n"
     ]
    },
    {
     "name": "stdout",
     "output_type": "stream",
     "text": [
      "downloading cover ../../.img/det_conan/Volume 68.png....\n"
     ]
    },
    {
     "name": "stderr",
     "output_type": "stream",
     "text": [
      "c:\\Python310\\lib\\site-packages\\urllib3\\connectionpool.py:1045: InsecureRequestWarning: Unverified HTTPS request is being made to host 'www.detectiveconanworld.com'. Adding certificate verification is strongly advised. See: https://urllib3.readthedocs.io/en/1.26.x/advanced-usage.html#ssl-warnings\n",
      "  warnings.warn(\n"
     ]
    },
    {
     "name": "stdout",
     "output_type": "stream",
     "text": [
      "downloading cover ../../.img/det_conan/Volume 69.png....\n",
      "downloading cover ../../.img/det_conan/Volume 70.png....\n",
      "downloading cover ../../.img/det_conan/Volume 71.png....\n"
     ]
    },
    {
     "name": "stderr",
     "output_type": "stream",
     "text": [
      "c:\\Python310\\lib\\site-packages\\urllib3\\connectionpool.py:1045: InsecureRequestWarning: Unverified HTTPS request is being made to host 'www.detectiveconanworld.com'. Adding certificate verification is strongly advised. See: https://urllib3.readthedocs.io/en/1.26.x/advanced-usage.html#ssl-warnings\n",
      "  warnings.warn(\n",
      "c:\\Python310\\lib\\site-packages\\urllib3\\connectionpool.py:1045: InsecureRequestWarning: Unverified HTTPS request is being made to host 'www.detectiveconanworld.com'. Adding certificate verification is strongly advised. See: https://urllib3.readthedocs.io/en/1.26.x/advanced-usage.html#ssl-warnings\n",
      "  warnings.warn(\n",
      "c:\\Python310\\lib\\site-packages\\urllib3\\connectionpool.py:1045: InsecureRequestWarning: Unverified HTTPS request is being made to host 'www.detectiveconanworld.com'. Adding certificate verification is strongly advised. See: https://urllib3.readthedocs.io/en/1.26.x/advanced-usage.html#ssl-warnings\n",
      "  warnings.warn(\n"
     ]
    },
    {
     "name": "stdout",
     "output_type": "stream",
     "text": [
      "downloading cover ../../.img/det_conan/Volume 72.png....\n"
     ]
    },
    {
     "name": "stderr",
     "output_type": "stream",
     "text": [
      "c:\\Python310\\lib\\site-packages\\urllib3\\connectionpool.py:1045: InsecureRequestWarning: Unverified HTTPS request is being made to host 'www.detectiveconanworld.com'. Adding certificate verification is strongly advised. See: https://urllib3.readthedocs.io/en/1.26.x/advanced-usage.html#ssl-warnings\n",
      "  warnings.warn(\n"
     ]
    },
    {
     "name": "stdout",
     "output_type": "stream",
     "text": [
      "downloading cover ../../.img/det_conan/Volume 73.png....\n"
     ]
    },
    {
     "name": "stderr",
     "output_type": "stream",
     "text": [
      "c:\\Python310\\lib\\site-packages\\urllib3\\connectionpool.py:1045: InsecureRequestWarning: Unverified HTTPS request is being made to host 'www.detectiveconanworld.com'. Adding certificate verification is strongly advised. See: https://urllib3.readthedocs.io/en/1.26.x/advanced-usage.html#ssl-warnings\n",
      "  warnings.warn(\n"
     ]
    },
    {
     "name": "stdout",
     "output_type": "stream",
     "text": [
      "downloading cover ../../.img/det_conan/Volume 74.png....\n",
      "downloading cover ../../.img/det_conan/Volume 75.png....\n",
      "downloading cover ../../.img/det_conan/Volume 76.png....\n"
     ]
    },
    {
     "name": "stderr",
     "output_type": "stream",
     "text": [
      "c:\\Python310\\lib\\site-packages\\urllib3\\connectionpool.py:1045: InsecureRequestWarning: Unverified HTTPS request is being made to host 'www.detectiveconanworld.com'. Adding certificate verification is strongly advised. See: https://urllib3.readthedocs.io/en/1.26.x/advanced-usage.html#ssl-warnings\n",
      "  warnings.warn(\n",
      "c:\\Python310\\lib\\site-packages\\urllib3\\connectionpool.py:1045: InsecureRequestWarning: Unverified HTTPS request is being made to host 'www.detectiveconanworld.com'. Adding certificate verification is strongly advised. See: https://urllib3.readthedocs.io/en/1.26.x/advanced-usage.html#ssl-warnings\n",
      "  warnings.warn(\n",
      "c:\\Python310\\lib\\site-packages\\urllib3\\connectionpool.py:1045: InsecureRequestWarning: Unverified HTTPS request is being made to host 'www.detectiveconanworld.com'. Adding certificate verification is strongly advised. See: https://urllib3.readthedocs.io/en/1.26.x/advanced-usage.html#ssl-warnings\n",
      "  warnings.warn(\n"
     ]
    },
    {
     "name": "stdout",
     "output_type": "stream",
     "text": [
      "downloading cover ../../.img/det_conan/Volume 77.png....\n",
      "downloading cover ../../.img/det_conan/Volume 78.png....\n"
     ]
    },
    {
     "name": "stderr",
     "output_type": "stream",
     "text": [
      "c:\\Python310\\lib\\site-packages\\urllib3\\connectionpool.py:1045: InsecureRequestWarning: Unverified HTTPS request is being made to host 'www.detectiveconanworld.com'. Adding certificate verification is strongly advised. See: https://urllib3.readthedocs.io/en/1.26.x/advanced-usage.html#ssl-warnings\n",
      "  warnings.warn(\n",
      "c:\\Python310\\lib\\site-packages\\urllib3\\connectionpool.py:1045: InsecureRequestWarning: Unverified HTTPS request is being made to host 'www.detectiveconanworld.com'. Adding certificate verification is strongly advised. See: https://urllib3.readthedocs.io/en/1.26.x/advanced-usage.html#ssl-warnings\n",
      "  warnings.warn(\n"
     ]
    },
    {
     "name": "stdout",
     "output_type": "stream",
     "text": [
      "downloading cover ../../.img/det_conan/Volume 79.png....\n",
      "downloading cover ../../.img/det_conan/Volume 80.png....\n"
     ]
    },
    {
     "name": "stderr",
     "output_type": "stream",
     "text": [
      "c:\\Python310\\lib\\site-packages\\urllib3\\connectionpool.py:1045: InsecureRequestWarning: Unverified HTTPS request is being made to host 'www.detectiveconanworld.com'. Adding certificate verification is strongly advised. See: https://urllib3.readthedocs.io/en/1.26.x/advanced-usage.html#ssl-warnings\n",
      "  warnings.warn(\n",
      "c:\\Python310\\lib\\site-packages\\urllib3\\connectionpool.py:1045: InsecureRequestWarning: Unverified HTTPS request is being made to host 'www.detectiveconanworld.com'. Adding certificate verification is strongly advised. See: https://urllib3.readthedocs.io/en/1.26.x/advanced-usage.html#ssl-warnings\n",
      "  warnings.warn(\n"
     ]
    },
    {
     "name": "stdout",
     "output_type": "stream",
     "text": [
      "downloading cover ../../.img/det_conan/Volume 81.png....\n",
      "downloading cover ../../.img/det_conan/Volume 82.png....\n",
      "downloading cover ../../.img/det_conan/Volume 83.png....\n"
     ]
    },
    {
     "name": "stderr",
     "output_type": "stream",
     "text": [
      "c:\\Python310\\lib\\site-packages\\urllib3\\connectionpool.py:1045: InsecureRequestWarning: Unverified HTTPS request is being made to host 'www.detectiveconanworld.com'. Adding certificate verification is strongly advised. See: https://urllib3.readthedocs.io/en/1.26.x/advanced-usage.html#ssl-warnings\n",
      "  warnings.warn(\n",
      "c:\\Python310\\lib\\site-packages\\urllib3\\connectionpool.py:1045: InsecureRequestWarning: Unverified HTTPS request is being made to host 'www.detectiveconanworld.com'. Adding certificate verification is strongly advised. See: https://urllib3.readthedocs.io/en/1.26.x/advanced-usage.html#ssl-warnings\n",
      "  warnings.warn(\n",
      "c:\\Python310\\lib\\site-packages\\urllib3\\connectionpool.py:1045: InsecureRequestWarning: Unverified HTTPS request is being made to host 'www.detectiveconanworld.com'. Adding certificate verification is strongly advised. See: https://urllib3.readthedocs.io/en/1.26.x/advanced-usage.html#ssl-warnings\n",
      "  warnings.warn(\n"
     ]
    },
    {
     "name": "stdout",
     "output_type": "stream",
     "text": [
      "downloading cover ../../.img/det_conan/Volume 84.png....\n"
     ]
    },
    {
     "name": "stderr",
     "output_type": "stream",
     "text": [
      "c:\\Python310\\lib\\site-packages\\urllib3\\connectionpool.py:1045: InsecureRequestWarning: Unverified HTTPS request is being made to host 'www.detectiveconanworld.com'. Adding certificate verification is strongly advised. See: https://urllib3.readthedocs.io/en/1.26.x/advanced-usage.html#ssl-warnings\n",
      "  warnings.warn(\n"
     ]
    },
    {
     "name": "stdout",
     "output_type": "stream",
     "text": [
      "downloading cover ../../.img/det_conan/Volume 85.png....\n",
      "downloading cover ../../.img/det_conan/Volume 86.png....\n",
      "downloading cover ../../.img/det_conan/Volume 87.png....\n"
     ]
    },
    {
     "name": "stderr",
     "output_type": "stream",
     "text": [
      "c:\\Python310\\lib\\site-packages\\urllib3\\connectionpool.py:1045: InsecureRequestWarning: Unverified HTTPS request is being made to host 'www.detectiveconanworld.com'. Adding certificate verification is strongly advised. See: https://urllib3.readthedocs.io/en/1.26.x/advanced-usage.html#ssl-warnings\n",
      "  warnings.warn(\n",
      "c:\\Python310\\lib\\site-packages\\urllib3\\connectionpool.py:1045: InsecureRequestWarning: Unverified HTTPS request is being made to host 'www.detectiveconanworld.com'. Adding certificate verification is strongly advised. See: https://urllib3.readthedocs.io/en/1.26.x/advanced-usage.html#ssl-warnings\n",
      "  warnings.warn(\n",
      "c:\\Python310\\lib\\site-packages\\urllib3\\connectionpool.py:1045: InsecureRequestWarning: Unverified HTTPS request is being made to host 'www.detectiveconanworld.com'. Adding certificate verification is strongly advised. See: https://urllib3.readthedocs.io/en/1.26.x/advanced-usage.html#ssl-warnings\n",
      "  warnings.warn(\n"
     ]
    },
    {
     "name": "stdout",
     "output_type": "stream",
     "text": [
      "downloading cover ../../.img/det_conan/Volume 88.png....\n",
      "downloading cover ../../.img/det_conan/Volume 89.png....\n",
      "downloading cover ../../.img/det_conan/Volume 90.png....\n"
     ]
    },
    {
     "name": "stderr",
     "output_type": "stream",
     "text": [
      "c:\\Python310\\lib\\site-packages\\urllib3\\connectionpool.py:1045: InsecureRequestWarning: Unverified HTTPS request is being made to host 'www.detectiveconanworld.com'. Adding certificate verification is strongly advised. See: https://urllib3.readthedocs.io/en/1.26.x/advanced-usage.html#ssl-warnings\n",
      "  warnings.warn(\n",
      "c:\\Python310\\lib\\site-packages\\urllib3\\connectionpool.py:1045: InsecureRequestWarning: Unverified HTTPS request is being made to host 'www.detectiveconanworld.com'. Adding certificate verification is strongly advised. See: https://urllib3.readthedocs.io/en/1.26.x/advanced-usage.html#ssl-warnings\n",
      "  warnings.warn(\n",
      "c:\\Python310\\lib\\site-packages\\urllib3\\connectionpool.py:1045: InsecureRequestWarning: Unverified HTTPS request is being made to host 'www.detectiveconanworld.com'. Adding certificate verification is strongly advised. See: https://urllib3.readthedocs.io/en/1.26.x/advanced-usage.html#ssl-warnings\n",
      "  warnings.warn(\n"
     ]
    },
    {
     "name": "stdout",
     "output_type": "stream",
     "text": [
      "downloading cover ../../.img/det_conan/Volume 91.png....\n",
      "downloading cover ../../.img/det_conan/Volume 92.png....\n"
     ]
    },
    {
     "name": "stderr",
     "output_type": "stream",
     "text": [
      "c:\\Python310\\lib\\site-packages\\urllib3\\connectionpool.py:1045: InsecureRequestWarning: Unverified HTTPS request is being made to host 'www.detectiveconanworld.com'. Adding certificate verification is strongly advised. See: https://urllib3.readthedocs.io/en/1.26.x/advanced-usage.html#ssl-warnings\n",
      "  warnings.warn(\n",
      "c:\\Python310\\lib\\site-packages\\urllib3\\connectionpool.py:1045: InsecureRequestWarning: Unverified HTTPS request is being made to host 'www.detectiveconanworld.com'. Adding certificate verification is strongly advised. See: https://urllib3.readthedocs.io/en/1.26.x/advanced-usage.html#ssl-warnings\n",
      "  warnings.warn(\n"
     ]
    },
    {
     "name": "stdout",
     "output_type": "stream",
     "text": [
      "downloading cover ../../.img/det_conan/Volume 93.png....\n",
      "downloading cover ../../.img/det_conan/Volume 94.png....\n"
     ]
    },
    {
     "name": "stderr",
     "output_type": "stream",
     "text": [
      "c:\\Python310\\lib\\site-packages\\urllib3\\connectionpool.py:1045: InsecureRequestWarning: Unverified HTTPS request is being made to host 'www.detectiveconanworld.com'. Adding certificate verification is strongly advised. See: https://urllib3.readthedocs.io/en/1.26.x/advanced-usage.html#ssl-warnings\n",
      "  warnings.warn(\n",
      "c:\\Python310\\lib\\site-packages\\urllib3\\connectionpool.py:1045: InsecureRequestWarning: Unverified HTTPS request is being made to host 'www.detectiveconanworld.com'. Adding certificate verification is strongly advised. See: https://urllib3.readthedocs.io/en/1.26.x/advanced-usage.html#ssl-warnings\n",
      "  warnings.warn(\n",
      "c:\\Python310\\lib\\site-packages\\urllib3\\connectionpool.py:1045: InsecureRequestWarning: Unverified HTTPS request is being made to host 'www.detectiveconanworld.com'. Adding certificate verification is strongly advised. See: https://urllib3.readthedocs.io/en/1.26.x/advanced-usage.html#ssl-warnings\n",
      "  warnings.warn(\n"
     ]
    },
    {
     "name": "stdout",
     "output_type": "stream",
     "text": [
      "downloading cover ../../.img/det_conan/Volume 95.png....\n",
      "downloading cover ../../.img/det_conan/Volume 96.png....\n",
      "downloading cover ../../.img/det_conan/Volume 97.png....\n"
     ]
    },
    {
     "name": "stderr",
     "output_type": "stream",
     "text": [
      "c:\\Python310\\lib\\site-packages\\urllib3\\connectionpool.py:1045: InsecureRequestWarning: Unverified HTTPS request is being made to host 'www.detectiveconanworld.com'. Adding certificate verification is strongly advised. See: https://urllib3.readthedocs.io/en/1.26.x/advanced-usage.html#ssl-warnings\n",
      "  warnings.warn(\n",
      "c:\\Python310\\lib\\site-packages\\urllib3\\connectionpool.py:1045: InsecureRequestWarning: Unverified HTTPS request is being made to host 'www.detectiveconanworld.com'. Adding certificate verification is strongly advised. See: https://urllib3.readthedocs.io/en/1.26.x/advanced-usage.html#ssl-warnings\n",
      "  warnings.warn(\n",
      "c:\\Python310\\lib\\site-packages\\urllib3\\connectionpool.py:1045: InsecureRequestWarning: Unverified HTTPS request is being made to host 'www.detectiveconanworld.com'. Adding certificate verification is strongly advised. See: https://urllib3.readthedocs.io/en/1.26.x/advanced-usage.html#ssl-warnings\n",
      "  warnings.warn(\n"
     ]
    },
    {
     "name": "stdout",
     "output_type": "stream",
     "text": [
      "downloading cover ../../.img/det_conan/Volume 98.png....\n",
      "downloading cover ../../.img/det_conan/Volume 99.png....\n"
     ]
    },
    {
     "name": "stderr",
     "output_type": "stream",
     "text": [
      "c:\\Python310\\lib\\site-packages\\urllib3\\connectionpool.py:1045: InsecureRequestWarning: Unverified HTTPS request is being made to host 'www.detectiveconanworld.com'. Adding certificate verification is strongly advised. See: https://urllib3.readthedocs.io/en/1.26.x/advanced-usage.html#ssl-warnings\n",
      "  warnings.warn(\n"
     ]
    },
    {
     "name": "stdout",
     "output_type": "stream",
     "text": [
      "downloading cover ../../.img/det_conan/Volume 100.png....\n",
      "downloading cover ../../.img/det_conan/Volume 101.png....\n"
     ]
    },
    {
     "name": "stderr",
     "output_type": "stream",
     "text": [
      "c:\\Python310\\lib\\site-packages\\urllib3\\connectionpool.py:1045: InsecureRequestWarning: Unverified HTTPS request is being made to host 'www.detectiveconanworld.com'. Adding certificate verification is strongly advised. See: https://urllib3.readthedocs.io/en/1.26.x/advanced-usage.html#ssl-warnings\n",
      "  warnings.warn(\n",
      "c:\\Python310\\lib\\site-packages\\urllib3\\connectionpool.py:1045: InsecureRequestWarning: Unverified HTTPS request is being made to host 'www.detectiveconanworld.com'. Adding certificate verification is strongly advised. See: https://urllib3.readthedocs.io/en/1.26.x/advanced-usage.html#ssl-warnings\n",
      "  warnings.warn(\n"
     ]
    },
    {
     "name": "stdout",
     "output_type": "stream",
     "text": [
      "downloading cover ../../.img/det_conan/Volume 102.png....\n"
     ]
    },
    {
     "name": "stderr",
     "output_type": "stream",
     "text": [
      "c:\\Python310\\lib\\site-packages\\urllib3\\connectionpool.py:1045: InsecureRequestWarning: Unverified HTTPS request is being made to host 'www.detectiveconanworld.com'. Adding certificate verification is strongly advised. See: https://urllib3.readthedocs.io/en/1.26.x/advanced-usage.html#ssl-warnings\n",
      "  warnings.warn(\n"
     ]
    },
    {
     "name": "stdout",
     "output_type": "stream",
     "text": [
      "downloading cover ../../.img/det_conan/Volume 103.png....\n"
     ]
    },
    {
     "name": "stderr",
     "output_type": "stream",
     "text": [
      "c:\\Python310\\lib\\site-packages\\urllib3\\connectionpool.py:1045: InsecureRequestWarning: Unverified HTTPS request is being made to host 'www.detectiveconanworld.com'. Adding certificate verification is strongly advised. See: https://urllib3.readthedocs.io/en/1.26.x/advanced-usage.html#ssl-warnings\n",
      "  warnings.warn(\n"
     ]
    }
   ],
   "source": [
    "headers = {\n",
    "        \"User-Agent\": \"Chrome/51.0.2704.103\",\n",
    "}\n",
    "folder = '../../.img/det_conan/'\n",
    "\n",
    "for i in range(len(vol_list_df)):\n",
    "    cov_url = vol_list_df['cover_url'].iloc[i]\n",
    "    titl = f\"{folder}{vol_list_df['title'].iloc[i]}.png\"\n",
    "    print(f'downloading cover {titl}....')\n",
    "    download_image(cov_url,titl,headers=headers)"
   ]
  }
 ],
 "metadata": {
  "kernelspec": {
   "display_name": "Python 3.10.2 64-bit",
   "language": "python",
   "name": "python3"
  },
  "language_info": {
   "codemirror_mode": {
    "name": "ipython",
    "version": 3
   },
   "file_extension": ".py",
   "mimetype": "text/x-python",
   "name": "python",
   "nbconvert_exporter": "python",
   "pygments_lexer": "ipython3",
   "version": "3.10.2"
  },
  "orig_nbformat": 4,
  "vscode": {
   "interpreter": {
    "hash": "369f2c481f4da34e4445cda3fffd2e751bd1c4d706f27375911949ba6bb62e1c"
   }
  }
 },
 "nbformat": 4,
 "nbformat_minor": 2
}
