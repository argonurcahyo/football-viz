{
 "cells": [
  {
   "cell_type": "code",
   "execution_count": 1,
   "metadata": {},
   "outputs": [],
   "source": [
    "from selenium import webdriver\n",
    "from selenium.webdriver.chrome.options import Options\n",
    "from selenium.webdriver.chrome.service import Service as ChromeService\n",
    "from selenium.webdriver.common.by import By\n",
    "from selenium.webdriver.common.action_chains import ActionChains\n",
    "from webdriver_manager.chrome import ChromeDriverManager\n",
    "\n",
    "import pandas as pd\n",
    "import time\n",
    "import json\n",
    "\n",
    "options = Options()\n",
    "options.headless = False\n",
    "\n",
    "driver = webdriver.Chrome(options=options,service=ChromeService(ChromeDriverManager().install()))"
   ]
  },
  {
   "cell_type": "code",
   "execution_count": 4,
   "metadata": {},
   "outputs": [],
   "source": [
    "def get_match_events(driver, whoscored_match_id=1640761):\n",
    "    whoscored_match_url = f'https://www.whoscored.com/Matches/{whoscored_match_id}/Live/'\n",
    "    driver.get(whoscored_match_url)\n",
    "    scriptdiv = driver.find_elements(By.CSS_SELECTOR, 'script')\n",
    "    # indicator_string = 'require.config.params[\"args\"]'\n",
    "    indicator_string = 'matchCentreData'\n",
    "    for i in range(len(scriptdiv)):\n",
    "        jstring = scriptdiv[-1*(i+1)].get_attribute('innerHTML')\n",
    "        if indicator_string in jstring:            \n",
    "            break\n",
    "    jstring = jstring.replace('require.config.params[\"args\"] = ', '')\n",
    "    jstring = jstring.replace('\\n', '')\n",
    "    jstring = jstring.replace('            ', '')\n",
    "    jstring = jstring.replace('{matchId:', '{\"matchId\":')\n",
    "    jstring = jstring.replace('matchCentreData:', '\"matchCentreData\":')\n",
    "    jstring = jstring.replace(\n",
    "        'formationIdNameMappings', '\"formationIdNameMappings\"')\n",
    "    jstring = jstring.replace(\n",
    "        'matchCentreEventTypeJson', '\"matchCentreEventTypeJson\"')\n",
    "    jstring = jstring.replace('};', '}')    \n",
    "    \n",
    "    d = json.loads(jstring)\n",
    "    matchData = d['matchCentreData']\n",
    "    matchId = d['matchId']\n",
    "    events = matchData['events']\n",
    "    player_dict = d['matchCentreData']['playerIdNameDictionary']\n",
    "    players = {\n",
    "        'id': player_dict.keys(),\n",
    "        'name': player_dict.values()\n",
    "    }\n",
    "    players_df = pd.DataFrame(players).reset_index()\n",
    "    players_df['id'] = players_df['id'].astype(int)\n",
    "    event_list = []\n",
    "    for e in enumerate(events):\n",
    "        ev = e[1]\n",
    "        try:\n",
    "            player_id = ev['playerId']\n",
    "        except:\n",
    "            player_id = None\n",
    "        try:\n",
    "            player_name = players_df[players_df['id']\n",
    "                                     == player_id]['name'].iloc[0]\n",
    "            # print(f'{player_id} : {player_name}')\n",
    "        except:\n",
    "            player_name = None\n",
    "        try:\n",
    "            endX = ev['endX']\n",
    "        except:\n",
    "            endX = None\n",
    "        try:\n",
    "            endY = ev['endY']\n",
    "        except:\n",
    "            endY = None\n",
    "\n",
    "        event_list.append({\n",
    "            'id': ev['id'],\n",
    "            'eventId': ev['eventId'],\n",
    "            'minute': ev['minute'],\n",
    "            'teamId': ev['teamId'],\n",
    "            'playerId': player_id,\n",
    "            'playerName': player_name,\n",
    "            'matchId': matchId,\n",
    "            'x': ev['x'],\n",
    "            'y': ev['y'],\n",
    "            'endX': endX,\n",
    "            'endY': endY,\n",
    "            'expandedMinute': ev['expandedMinute'],\n",
    "            'period': ev['period']['displayName'],\n",
    "            'type': ev['type']['displayName'],\n",
    "            'outcomeType': ev['outcomeType']['displayName'],\n",
    "            'isTouch': ev['isTouch']\n",
    "        })\n",
    "    event_df = pd.DataFrame(event_list)\n",
    "    return event_df\n"
   ]
  },
  {
   "cell_type": "code",
   "execution_count": null,
   "metadata": {},
   "outputs": [],
   "source": [
    "mev = get_match_events(driver,1640813)\n",
    "# mev.to_csv('../../data/man_derby_touches.csv')"
   ]
  }
 ],
 "metadata": {
  "kernelspec": {
   "display_name": "Python 3.10.2 64-bit",
   "language": "python",
   "name": "python3"
  },
  "language_info": {
   "codemirror_mode": {
    "name": "ipython",
    "version": 3
   },
   "file_extension": ".py",
   "mimetype": "text/x-python",
   "name": "python",
   "nbconvert_exporter": "python",
   "pygments_lexer": "ipython3",
   "version": "3.10.7"
  },
  "orig_nbformat": 4,
  "vscode": {
   "interpreter": {
    "hash": "369f2c481f4da34e4445cda3fffd2e751bd1c4d706f27375911949ba6bb62e1c"
   }
  }
 },
 "nbformat": 4,
 "nbformat_minor": 2
}
