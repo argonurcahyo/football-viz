{
 "cells": [
  {
   "cell_type": "code",
   "execution_count": 3,
   "metadata": {},
   "outputs": [],
   "source": [
    "from selenium import webdriver\n",
    "from selenium.webdriver.chrome.options import Options\n",
    "from selenium.webdriver.chrome.service import Service as ChromeService\n",
    "from selenium.webdriver.common.by import By\n",
    "from selenium.webdriver.common.action_chains import ActionChains\n",
    "from webdriver_manager.chrome import ChromeDriverManager\n",
    "\n",
    "import pandas as pd\n",
    "import time\n",
    "import json\n",
    "\n",
    "options = Options()\n",
    "options.headless = False\n",
    "\n",
    "driver = webdriver.Chrome(options=options,service=ChromeService(ChromeDriverManager().install()))"
   ]
  },
  {
   "cell_type": "code",
   "execution_count": 4,
   "metadata": {},
   "outputs": [],
   "source": [
    "def get_match_events(driver, whoscored_match_id=1640761):\n",
    "    whoscored_match_url = f'https://www.whoscored.com/Matches/{whoscored_match_id}/Live/'\n",
    "    driver.get(whoscored_match_url)\n",
    "    scriptdiv = driver.find_elements(By.CSS_SELECTOR, 'script')\n",
    "    # indicator_string = 'require.config.params[\"args\"]'\n",
    "    indicator_string = 'matchCentreData'\n",
    "    for i in range(len(scriptdiv)):\n",
    "        jstring = scriptdiv[-1*(i+1)].get_attribute('innerHTML')\n",
    "        if indicator_string in jstring:            \n",
    "            break\n",
    "    jstring = jstring.replace('require.config.params[\"args\"] = ', '')\n",
    "    jstring = jstring.replace('\\n', '')\n",
    "    jstring = jstring.replace('            ', '')\n",
    "    jstring = jstring.replace('{matchId:', '{\"matchId\":')\n",
    "    jstring = jstring.replace('matchCentreData:', '\"matchCentreData\":')\n",
    "    jstring = jstring.replace(\n",
    "        'formationIdNameMappings', '\"formationIdNameMappings\"')\n",
    "    jstring = jstring.replace(\n",
    "        'matchCentreEventTypeJson', '\"matchCentreEventTypeJson\"')\n",
    "    jstring = jstring.replace('};', '}')    \n",
    "    \n",
    "    d = json.loads(jstring)\n",
    "    matchData = d['matchCentreData']\n",
    "    matchId = d['matchId']\n",
    "    events = matchData['events']\n",
    "    player_dict = d['matchCentreData']['playerIdNameDictionary']\n",
    "    players = {\n",
    "        'id': player_dict.keys(),\n",
    "        'name': player_dict.values()\n",
    "    }\n",
    "    players_df = pd.DataFrame(players).reset_index()\n",
    "    players_df['id'] = players_df['id'].astype(int)\n",
    "    event_list = []\n",
    "    for e in enumerate(events):\n",
    "        ev = e[1]\n",
    "        try:\n",
    "            player_id = ev['playerId']\n",
    "        except:\n",
    "            player_id = None\n",
    "        try:\n",
    "            player_name = players_df[players_df['id']\n",
    "                                     == player_id]['name'].iloc[0]\n",
    "            # print(f'{player_id} : {player_name}')\n",
    "        except:\n",
    "            player_name = None\n",
    "        try:\n",
    "            endX = ev['endX']\n",
    "        except:\n",
    "            endX = None\n",
    "        try:\n",
    "            endY = ev['endY']\n",
    "        except:\n",
    "            endY = None\n",
    "\n",
    "        event_list.append({\n",
    "            'id': ev['id'],\n",
    "            'eventId': ev['eventId'],\n",
    "            'minute': ev['minute'],\n",
    "            'teamId': ev['teamId'],\n",
    "            'playerId': player_id,\n",
    "            'playerName': player_name,\n",
    "            'matchId': matchId,\n",
    "            'x': ev['x'],\n",
    "            'y': ev['y'],\n",
    "            'endX': endX,\n",
    "            'endY': endY,\n",
    "            'expandedMinute': ev['expandedMinute'],\n",
    "            'period': ev['period']['displayName'],\n",
    "            'type': ev['type']['displayName'],\n",
    "            'outcomeType': ev['outcomeType']['displayName'],\n",
    "            'isTouch': ev['isTouch']\n",
    "        })\n",
    "    event_df = pd.DataFrame(event_list)\n",
    "    return event_df\n"
   ]
  },
  {
   "cell_type": "code",
   "execution_count": 5,
   "metadata": {},
   "outputs": [
    {
     "ename": "JSONDecodeError",
     "evalue": "Expecting value: line 1 column 1 (char 0)",
     "output_type": "error",
     "traceback": [
      "\u001b[1;31m---------------------------------------------------------------------------\u001b[0m",
      "\u001b[1;31mJSONDecodeError\u001b[0m                           Traceback (most recent call last)",
      "Cell \u001b[1;32mIn [5], line 1\u001b[0m\n\u001b[1;32m----> 1\u001b[0m mev \u001b[39m=\u001b[39m get_match_events(driver,\u001b[39m1640813\u001b[39m)\n",
      "Cell \u001b[1;32mIn [4], line 22\u001b[0m, in \u001b[0;36mget_match_events\u001b[1;34m(driver, whoscored_match_id)\u001b[0m\n\u001b[0;32m     18\u001b[0m jstring \u001b[39m=\u001b[39m jstring\u001b[39m.\u001b[39mreplace(\n\u001b[0;32m     19\u001b[0m     \u001b[39m'\u001b[39m\u001b[39mmatchCentreEventTypeJson\u001b[39m\u001b[39m'\u001b[39m, \u001b[39m'\u001b[39m\u001b[39m\"\u001b[39m\u001b[39mmatchCentreEventTypeJson\u001b[39m\u001b[39m\"\u001b[39m\u001b[39m'\u001b[39m)\n\u001b[0;32m     20\u001b[0m jstring \u001b[39m=\u001b[39m jstring\u001b[39m.\u001b[39mreplace(\u001b[39m'\u001b[39m\u001b[39m};\u001b[39m\u001b[39m'\u001b[39m, \u001b[39m'\u001b[39m\u001b[39m}\u001b[39m\u001b[39m'\u001b[39m)    \n\u001b[1;32m---> 22\u001b[0m d \u001b[39m=\u001b[39m json\u001b[39m.\u001b[39;49mloads(jstring)\n\u001b[0;32m     23\u001b[0m matchData \u001b[39m=\u001b[39m d[\u001b[39m'\u001b[39m\u001b[39mmatchCentreData\u001b[39m\u001b[39m'\u001b[39m]\n\u001b[0;32m     24\u001b[0m matchId \u001b[39m=\u001b[39m d[\u001b[39m'\u001b[39m\u001b[39mmatchId\u001b[39m\u001b[39m'\u001b[39m]\n",
      "File \u001b[1;32mc:\\Python310\\lib\\json\\__init__.py:346\u001b[0m, in \u001b[0;36mloads\u001b[1;34m(s, cls, object_hook, parse_float, parse_int, parse_constant, object_pairs_hook, **kw)\u001b[0m\n\u001b[0;32m    341\u001b[0m     s \u001b[39m=\u001b[39m s\u001b[39m.\u001b[39mdecode(detect_encoding(s), \u001b[39m'\u001b[39m\u001b[39msurrogatepass\u001b[39m\u001b[39m'\u001b[39m)\n\u001b[0;32m    343\u001b[0m \u001b[39mif\u001b[39;00m (\u001b[39mcls\u001b[39m \u001b[39mis\u001b[39;00m \u001b[39mNone\u001b[39;00m \u001b[39mand\u001b[39;00m object_hook \u001b[39mis\u001b[39;00m \u001b[39mNone\u001b[39;00m \u001b[39mand\u001b[39;00m\n\u001b[0;32m    344\u001b[0m         parse_int \u001b[39mis\u001b[39;00m \u001b[39mNone\u001b[39;00m \u001b[39mand\u001b[39;00m parse_float \u001b[39mis\u001b[39;00m \u001b[39mNone\u001b[39;00m \u001b[39mand\u001b[39;00m\n\u001b[0;32m    345\u001b[0m         parse_constant \u001b[39mis\u001b[39;00m \u001b[39mNone\u001b[39;00m \u001b[39mand\u001b[39;00m object_pairs_hook \u001b[39mis\u001b[39;00m \u001b[39mNone\u001b[39;00m \u001b[39mand\u001b[39;00m \u001b[39mnot\u001b[39;00m kw):\n\u001b[1;32m--> 346\u001b[0m     \u001b[39mreturn\u001b[39;00m _default_decoder\u001b[39m.\u001b[39;49mdecode(s)\n\u001b[0;32m    347\u001b[0m \u001b[39mif\u001b[39;00m \u001b[39mcls\u001b[39m \u001b[39mis\u001b[39;00m \u001b[39mNone\u001b[39;00m:\n\u001b[0;32m    348\u001b[0m     \u001b[39mcls\u001b[39m \u001b[39m=\u001b[39m JSONDecoder\n",
      "File \u001b[1;32mc:\\Python310\\lib\\json\\decoder.py:337\u001b[0m, in \u001b[0;36mJSONDecoder.decode\u001b[1;34m(self, s, _w)\u001b[0m\n\u001b[0;32m    332\u001b[0m \u001b[39mdef\u001b[39;00m \u001b[39mdecode\u001b[39m(\u001b[39mself\u001b[39m, s, _w\u001b[39m=\u001b[39mWHITESPACE\u001b[39m.\u001b[39mmatch):\n\u001b[0;32m    333\u001b[0m     \u001b[39m\"\"\"Return the Python representation of ``s`` (a ``str`` instance\u001b[39;00m\n\u001b[0;32m    334\u001b[0m \u001b[39m    containing a JSON document).\u001b[39;00m\n\u001b[0;32m    335\u001b[0m \n\u001b[0;32m    336\u001b[0m \u001b[39m    \"\"\"\u001b[39;00m\n\u001b[1;32m--> 337\u001b[0m     obj, end \u001b[39m=\u001b[39m \u001b[39mself\u001b[39;49m\u001b[39m.\u001b[39;49mraw_decode(s, idx\u001b[39m=\u001b[39;49m_w(s, \u001b[39m0\u001b[39;49m)\u001b[39m.\u001b[39;49mend())\n\u001b[0;32m    338\u001b[0m     end \u001b[39m=\u001b[39m _w(s, end)\u001b[39m.\u001b[39mend()\n\u001b[0;32m    339\u001b[0m     \u001b[39mif\u001b[39;00m end \u001b[39m!=\u001b[39m \u001b[39mlen\u001b[39m(s):\n",
      "File \u001b[1;32mc:\\Python310\\lib\\json\\decoder.py:355\u001b[0m, in \u001b[0;36mJSONDecoder.raw_decode\u001b[1;34m(self, s, idx)\u001b[0m\n\u001b[0;32m    353\u001b[0m     obj, end \u001b[39m=\u001b[39m \u001b[39mself\u001b[39m\u001b[39m.\u001b[39mscan_once(s, idx)\n\u001b[0;32m    354\u001b[0m \u001b[39mexcept\u001b[39;00m \u001b[39mStopIteration\u001b[39;00m \u001b[39mas\u001b[39;00m err:\n\u001b[1;32m--> 355\u001b[0m     \u001b[39mraise\u001b[39;00m JSONDecodeError(\u001b[39m\"\u001b[39m\u001b[39mExpecting value\u001b[39m\u001b[39m\"\u001b[39m, s, err\u001b[39m.\u001b[39mvalue) \u001b[39mfrom\u001b[39;00m \u001b[39mNone\u001b[39m\n\u001b[0;32m    356\u001b[0m \u001b[39mreturn\u001b[39;00m obj, end\n",
      "\u001b[1;31mJSONDecodeError\u001b[0m: Expecting value: line 1 column 1 (char 0)"
     ]
    }
   ],
   "source": [
    "mev = get_match_events(driver,1640813)\n",
    "# mev.to_csv('../../data/man_derby_touches.csv')"
   ]
  }
 ],
 "metadata": {
  "kernelspec": {
   "display_name": "Python 3.10.2 64-bit",
   "language": "python",
   "name": "python3"
  },
  "language_info": {
   "codemirror_mode": {
    "name": "ipython",
    "version": 3
   },
   "file_extension": ".py",
   "mimetype": "text/x-python",
   "name": "python",
   "nbconvert_exporter": "python",
   "pygments_lexer": "ipython3",
   "version": "3.10.2"
  },
  "orig_nbformat": 4,
  "vscode": {
   "interpreter": {
    "hash": "369f2c481f4da34e4445cda3fffd2e751bd1c4d706f27375911949ba6bb62e1c"
   }
  }
 },
 "nbformat": 4,
 "nbformat_minor": 2
}
