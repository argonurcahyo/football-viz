{
 "cells": [
  {
   "cell_type": "code",
   "execution_count": 1,
   "metadata": {},
   "outputs": [],
   "source": [
    "from selenium import webdriver\n",
    "from selenium.webdriver.chrome.options import Options\n",
    "from selenium.webdriver.chrome.service import Service as ChromeService\n",
    "from selenium.webdriver.common.by import By\n",
    "from selenium.webdriver.common.action_chains import ActionChains\n",
    "\n",
    "from webdriver_manager.chrome import ChromeDriverManager\n",
    "\n",
    "import pandas as pd\n",
    "import time\n",
    "import json\n",
    "\n",
    "options = Options()\n",
    "options.headless = True\n",
    "\n",
    "driver = webdriver.Chrome(options=options,service=ChromeService(ChromeDriverManager().install()))"
   ]
  },
  {
   "cell_type": "code",
   "execution_count": 14,
   "metadata": {},
   "outputs": [],
   "source": [
    "with open('../../data/fuf.json', 'r') as j:\n",
    "     contents = json.loads(j.read())"
   ]
  },
  {
   "cell_type": "code",
   "execution_count": 29,
   "metadata": {},
   "outputs": [],
   "source": [
    "with open('../../data/fum.json', 'r') as j:\n",
    "     fum = json.loads(j.read())"
   ]
  },
  {
   "cell_type": "code",
   "execution_count": 30,
   "metadata": {},
   "outputs": [
    {
     "data": {
      "text/plain": [
       "{'alt': 'All in a Dayâ€™s Work',\n",
       " 'id': 'all-in-a-days-work',\n",
       " 'img': 'https://images.mylfcdn.net/design/tour/fuf/tour/pics/anissa_kate_and_daisie_belle/bio_big.jpg',\n",
       " 'isUpcoming': False,\n",
       " 'modelId': 'anissa-kate',\n",
       " 'modelName': 'Anissa Kate',\n",
       " 'models': [{'modelId': 'anissa-kate', 'modelName': 'Anissa Kate'},\n",
       "  {'modelId': 'daisie-belle', 'modelName': 'Daisie Belle'}],\n",
       " 'num': 31,\n",
       " 'seo': {'__typename': 'SceneSeoCollection',\n",
       "  'description': '',\n",
       "  'h1': '',\n",
       "  'h2': '',\n",
       "  'title': ''},\n",
       " 'siteName': '',\n",
       " 'stats': {'__typename': 'SceneStatsCollection',\n",
       "  'dislikeCount': 16,\n",
       "  'likeCount': 53,\n",
       "  'views': '1833'},\n",
       " 'title': 'All in a Dayâ€™s Work',\n",
       " 'video': 'a94c6d478924d7366d15aa096f22185c',\n",
       " 'videoTrailer': 'https://images.mylfcdn.net/design/tour/fuf/tour/pics/anissa_kate_and_daisie_belle/bio_small.mp4'}"
      ]
     },
     "execution_count": 30,
     "metadata": {},
     "output_type": "execute_result"
    }
   ],
   "source": [
    "list(fum.values())[30]"
   ]
  },
  {
   "cell_type": "code",
   "execution_count": 27,
   "metadata": {},
   "outputs": [
    {
     "name": "stdout",
     "output_type": "stream",
     "text": [
      "1| A Freeuse Home Is A Happy Home\n",
      "2| An Unusual Vacation\n",
      "3| Freeuse Ghost\n",
      "4| Freeuse Delivery\n",
      "5| Bienvenido\n",
      "6| The Summoning: Part 1\n",
      "7| Skeet Scoutz Cookiez\n",
      "8| Paying A Satisfying Visit\n",
      "9| The Draft: Full Focus Fantasy\n",
      "10| Three's Good Company\n",
      "11| How To Handle His Snake\n",
      "12| Freeuse Perv Tutor\n",
      "13| Free Using For Salvation\n",
      "14| Freeuse Bootcamp\n",
      "15| Equality Free Use\n",
      "16| Day Dreamer: Part 1\n",
      "17| Feeling the Room: A Shoot Your Shot Extended Cut\n",
      "18| The Winner Takes All\n",
      "19| Take It From a Milf: A Shoot Your Shot Extended Cut\n",
      "20| Frees Company\n",
      "21| Dating Again\n",
      "22| Rionâ€™s New Girlfriend\n",
      "23| My Favorite Customer\n",
      "24| Oui, Oui!\n",
      "25| Stretch Your Body\n",
      "26| He Always Has My Back\n",
      "27| Naked and Viral\n",
      "28| Freeuse Book Club\n",
      "29| Dick Is Up For Grabs\n",
      "30| Bubble Butt Problems\n",
      "31| Take This Cake\n",
      "32| The Anytime Influencers\n",
      "33| Freeuse Tutor\n",
      "34| Curious Roommate\n",
      "35| Coach's Words of Wisdom\n",
      "36| Hard at Work\n",
      "37| What Are Best Friend's For\n",
      "38| The Tutorâ€™s Reward\n",
      "39| Fuck and Bake\n",
      "40| The Season For Believing\n",
      "41| Our Friend Ivy\n",
      "42| Temporary Girlfriend\n",
      "43| A Day In The Freeuse Life\n",
      "44| Learning To Freeuse\n",
      "45| Freeuse Games\n",
      "46| After School Stepdad Special\n",
      "47| A Boyfriend for Two\n",
      "48| A Perfect Team Addition\n",
      "49| Naughty Namaste\n",
      "50| Time Of The Month\n",
      "51| Hand Held Honey\n",
      "52| Free Weights Training\n",
      "53| She's For Both Of Us\n",
      "54| Home Alone with Step Bro\n",
      "55| Hypnodick\n",
      "56| Available\n",
      "57| The Coolest Stepdad\n",
      "58| Dreaming Of Freeuse\n",
      "59| Make Sure She Follows The Rules\n",
      "60| St. Paddy's Freeuse Celebration\n",
      "61| Extra Lovey Stepbro\n",
      "62| Endless Desire Possibilities\n",
      "63| Playtime In The Bedroom\n",
      "64| Freeuse Relations\n",
      "65| A Most Satisfactory Stay\n",
      "66| Paying My Debt\n",
      "67| I Got You If You Got Me\n",
      "68| Trade For Answers\n",
      "69| Keeping Him Entertained\n",
      "70| Peculiar Tutoring\n",
      "71| Step Family Dinner\n",
      "72| Sharing Is Truly Caring\n"
     ]
    }
   ],
   "source": [
    "fuf_scenes = []\n",
    "for i in range(len(contents)):\n",
    "    cont = list(contents.values())[i]\n",
    "    slug = cont['id']\n",
    "    num = cont['num']\n",
    "    title = cont['title']\n",
    "    models = cont['models']\n",
    "    actor_list = []\n",
    "    for i in range(len(models)):\n",
    "        actor_list.append(models[i]['modelName'])\n",
    "    actors = \", \".join(actor_list)\n",
    "    description = cont['seo']['description']\n",
    "    img_url = cont['img']\n",
    "    vid_url = cont['videoTrailer']\n",
    "    fuf_scenes.append({\n",
    "        'num': len(contents)-num+1,\n",
    "        'title': title,\n",
    "        'actors': actors,\n",
    "        'description': description,\n",
    "        'url': f'https://www.freeusefantasy.com/movies/{slug}',\n",
    "        'img_url': img_url,\n",
    "        'vid_url': vid_url\n",
    "    })\n",
    "    print(f\"{num}| {title}\")\n",
    "fuf_df = pd.DataFrame(fuf_scenes).reset_index()\n"
   ]
  },
  {
   "cell_type": "code",
   "execution_count": 28,
   "metadata": {},
   "outputs": [],
   "source": [
    "fuf_df.to_excel('../../data/fuf.xlsx')"
   ]
  }
 ],
 "metadata": {
  "kernelspec": {
   "display_name": "Python 3.10.7 64-bit",
   "language": "python",
   "name": "python3"
  },
  "language_info": {
   "codemirror_mode": {
    "name": "ipython",
    "version": 3
   },
   "file_extension": ".py",
   "mimetype": "text/x-python",
   "name": "python",
   "nbconvert_exporter": "python",
   "pygments_lexer": "ipython3",
   "version": "3.10.7"
  },
  "orig_nbformat": 4,
  "vscode": {
   "interpreter": {
    "hash": "876db7d3f8682b7e4c5477e5f1e2dc2bd1b19fe05d9aabd59218369070754b39"
   }
  }
 },
 "nbformat": 4,
 "nbformat_minor": 2
}
