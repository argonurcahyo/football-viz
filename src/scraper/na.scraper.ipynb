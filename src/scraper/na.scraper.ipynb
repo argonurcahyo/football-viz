{
 "cells": [
  {
   "cell_type": "code",
   "execution_count": 6,
   "metadata": {},
   "outputs": [],
   "source": [
    "from selenium import webdriver\n",
    "from selenium.webdriver.chrome.options import Options\n",
    "from selenium.webdriver.chrome.service import Service as ChromeService\n",
    "from selenium.webdriver.common.by import By\n",
    "from webdriver_manager.chrome import ChromeDriverManager\n",
    "\n",
    "import pandas as pd\n",
    "\n",
    "options = Options()\n",
    "options.headless = False\n",
    "\n",
    "driver = webdriver.Chrome(options=options,service=ChromeService(ChromeDriverManager().install()))\n",
    "na_url = 'https://www.naughtyamerica.com/new-porn-videos?page=1'"
   ]
  },
  {
   "cell_type": "code",
   "execution_count": 7,
   "metadata": {},
   "outputs": [
    {
     "ename": "WebDriverException",
     "evalue": "Message: unknown error: net::ERR_CONNECTION_RESET\n  (Session info: chrome=106.0.5249.119)\nStacktrace:\nBacktrace:\n\tOrdinal0 [0x006A1ED3+2236115]\n\tOrdinal0 [0x006392F1+1807089]\n\tOrdinal0 [0x005466FD+812797]\n\tOrdinal0 [0x00542C42+797762]\n\tOrdinal0 [0x00539C1D+760861]\n\tOrdinal0 [0x0053A9FC+764412]\n\tOrdinal0 [0x00539E5F+761439]\n\tOrdinal0 [0x00539350+758608]\n\tOrdinal0 [0x005392C1+758465]\n\tOrdinal0 [0x00538113+753939]\n\tOrdinal0 [0x0053861D+755229]\n\tOrdinal0 [0x0054800E+819214]\n\tOrdinal0 [0x005A60CD+1204429]\n\tOrdinal0 [0x00591A8C+1120908]\n\tOrdinal0 [0x005A59E2+1202658]\n\tOrdinal0 [0x005918A6+1120422]\n\tOrdinal0 [0x0056A73D+960317]\n\tOrdinal0 [0x0056B71F+964383]\n\tGetHandleVerifier [0x0094E7E2+2743074]\n\tGetHandleVerifier [0x009408D4+2685972]\n\tGetHandleVerifier [0x00732BAA+532202]\n\tGetHandleVerifier [0x00731990+527568]\n\tOrdinal0 [0x0064080C+1837068]\n\tOrdinal0 [0x00644CD8+1854680]\n\tOrdinal0 [0x00644DC5+1854917]\n\tOrdinal0 [0x0064ED64+1895780]\n\tBaseThreadInitThunk [0x75E3FA29+25]\n\tRtlGetAppContainerNamedObjectPath [0x77117BBE+286]\n\tRtlGetAppContainerNamedObjectPath [0x77117B8E+238]\n",
     "output_type": "error",
     "traceback": [
      "\u001b[1;31m---------------------------------------------------------------------------\u001b[0m",
      "\u001b[1;31mWebDriverException\u001b[0m                        Traceback (most recent call last)",
      "Cell \u001b[1;32mIn [7], line 1\u001b[0m\n\u001b[1;32m----> 1\u001b[0m driver\u001b[39m.\u001b[39mget(na_url)\n\u001b[0;32m      2\u001b[0m scenes \u001b[39m=\u001b[39m driver\u001b[39m.\u001b[39mfind_elements(By\u001b[39m.\u001b[39mCSS_SELECTOR, \u001b[39m'\u001b[39m\u001b[39m.scene-list .scene-grid-item a.contain-img\u001b[39m\u001b[39m'\u001b[39m)\n\u001b[0;32m      3\u001b[0m scenes_img \u001b[39m=\u001b[39m driver\u001b[39m.\u001b[39mfind_elements(By\u001b[39m.\u001b[39mCSS_SELECTOR,\u001b[39m'\u001b[39m\u001b[39m.scene-list .scene-grid-item a.contain-img .main-scene-img\u001b[39m\u001b[39m'\u001b[39m)\n",
      "File \u001b[1;32mc:\\Python310\\lib\\site-packages\\selenium\\webdriver\\remote\\webdriver.py:441\u001b[0m, in \u001b[0;36mWebDriver.get\u001b[1;34m(self, url)\u001b[0m\n\u001b[0;32m    437\u001b[0m \u001b[39mdef\u001b[39;00m \u001b[39mget\u001b[39m(\u001b[39mself\u001b[39m, url: \u001b[39mstr\u001b[39m) \u001b[39m-\u001b[39m\u001b[39m>\u001b[39m \u001b[39mNone\u001b[39;00m:\n\u001b[0;32m    438\u001b[0m     \u001b[39m\"\"\"\u001b[39;00m\n\u001b[0;32m    439\u001b[0m \u001b[39m    Loads a web page in the current browser session.\u001b[39;00m\n\u001b[0;32m    440\u001b[0m \u001b[39m    \"\"\"\u001b[39;00m\n\u001b[1;32m--> 441\u001b[0m     \u001b[39mself\u001b[39;49m\u001b[39m.\u001b[39;49mexecute(Command\u001b[39m.\u001b[39;49mGET, {\u001b[39m'\u001b[39;49m\u001b[39murl\u001b[39;49m\u001b[39m'\u001b[39;49m: url})\n",
      "File \u001b[1;32mc:\\Python310\\lib\\site-packages\\selenium\\webdriver\\remote\\webdriver.py:429\u001b[0m, in \u001b[0;36mWebDriver.execute\u001b[1;34m(self, driver_command, params)\u001b[0m\n\u001b[0;32m    427\u001b[0m response \u001b[39m=\u001b[39m \u001b[39mself\u001b[39m\u001b[39m.\u001b[39mcommand_executor\u001b[39m.\u001b[39mexecute(driver_command, params)\n\u001b[0;32m    428\u001b[0m \u001b[39mif\u001b[39;00m response:\n\u001b[1;32m--> 429\u001b[0m     \u001b[39mself\u001b[39;49m\u001b[39m.\u001b[39;49merror_handler\u001b[39m.\u001b[39;49mcheck_response(response)\n\u001b[0;32m    430\u001b[0m     response[\u001b[39m'\u001b[39m\u001b[39mvalue\u001b[39m\u001b[39m'\u001b[39m] \u001b[39m=\u001b[39m \u001b[39mself\u001b[39m\u001b[39m.\u001b[39m_unwrap_value(\n\u001b[0;32m    431\u001b[0m         response\u001b[39m.\u001b[39mget(\u001b[39m'\u001b[39m\u001b[39mvalue\u001b[39m\u001b[39m'\u001b[39m, \u001b[39mNone\u001b[39;00m))\n\u001b[0;32m    432\u001b[0m     \u001b[39mreturn\u001b[39;00m response\n",
      "File \u001b[1;32mc:\\Python310\\lib\\site-packages\\selenium\\webdriver\\remote\\errorhandler.py:243\u001b[0m, in \u001b[0;36mErrorHandler.check_response\u001b[1;34m(self, response)\u001b[0m\n\u001b[0;32m    241\u001b[0m         alert_text \u001b[39m=\u001b[39m value[\u001b[39m'\u001b[39m\u001b[39malert\u001b[39m\u001b[39m'\u001b[39m]\u001b[39m.\u001b[39mget(\u001b[39m'\u001b[39m\u001b[39mtext\u001b[39m\u001b[39m'\u001b[39m)\n\u001b[0;32m    242\u001b[0m     \u001b[39mraise\u001b[39;00m exception_class(message, screen, stacktrace, alert_text)  \u001b[39m# type: ignore[call-arg]  # mypy is not smart enough here\u001b[39;00m\n\u001b[1;32m--> 243\u001b[0m \u001b[39mraise\u001b[39;00m exception_class(message, screen, stacktrace)\n",
      "\u001b[1;31mWebDriverException\u001b[0m: Message: unknown error: net::ERR_CONNECTION_RESET\n  (Session info: chrome=106.0.5249.119)\nStacktrace:\nBacktrace:\n\tOrdinal0 [0x006A1ED3+2236115]\n\tOrdinal0 [0x006392F1+1807089]\n\tOrdinal0 [0x005466FD+812797]\n\tOrdinal0 [0x00542C42+797762]\n\tOrdinal0 [0x00539C1D+760861]\n\tOrdinal0 [0x0053A9FC+764412]\n\tOrdinal0 [0x00539E5F+761439]\n\tOrdinal0 [0x00539350+758608]\n\tOrdinal0 [0x005392C1+758465]\n\tOrdinal0 [0x00538113+753939]\n\tOrdinal0 [0x0053861D+755229]\n\tOrdinal0 [0x0054800E+819214]\n\tOrdinal0 [0x005A60CD+1204429]\n\tOrdinal0 [0x00591A8C+1120908]\n\tOrdinal0 [0x005A59E2+1202658]\n\tOrdinal0 [0x005918A6+1120422]\n\tOrdinal0 [0x0056A73D+960317]\n\tOrdinal0 [0x0056B71F+964383]\n\tGetHandleVerifier [0x0094E7E2+2743074]\n\tGetHandleVerifier [0x009408D4+2685972]\n\tGetHandleVerifier [0x00732BAA+532202]\n\tGetHandleVerifier [0x00731990+527568]\n\tOrdinal0 [0x0064080C+1837068]\n\tOrdinal0 [0x00644CD8+1854680]\n\tOrdinal0 [0x00644DC5+1854917]\n\tOrdinal0 [0x0064ED64+1895780]\n\tBaseThreadInitThunk [0x75E3FA29+25]\n\tRtlGetAppContainerNamedObjectPath [0x77117BBE+286]\n\tRtlGetAppContainerNamedObjectPath [0x77117B8E+238]\n"
     ]
    }
   ],
   "source": [
    "driver.get(na_url)\n",
    "scenes = driver.find_elements(By.CSS_SELECTOR, '.scene-list .scene-grid-item a.contain-img')\n",
    "scenes_img = driver.find_elements(By.CSS_SELECTOR,'.scene-list .scene-grid-item a.contain-img .main-scene-img')\n",
    "\n",
    "scene_title_list = []\n",
    "scene_id_list = []\n",
    "scene_img_list = []\n",
    "\n",
    "for i in range(len(scenes)):\n",
    "    scene_title = scenes[i].get_attribute('title')\n",
    "    scene_id = scenes[i].get_attribute('data-scene-id')\n",
    "    scene_img_url = scenes_img[i].get_attribute('srcset')\n",
    "    \n",
    "    scene_id_list.append(scene_id)\n",
    "    scene_title_list.append(scene_title)\n",
    "    scene_img_list.append(scene_img_url)\n",
    "\n",
    "scenes_df = pd.DataFrame({\n",
    "    'id' : scene_id_list,\n",
    "    'title' : scene_title_list,\n",
    "    'img_url': scene_img_list\n",
    "})"
   ]
  },
  {
   "cell_type": "code",
   "execution_count": 3,
   "metadata": {},
   "outputs": [],
   "source": [
    "def scrape_na(driver,page):\n",
    "    na_url = f'https://www.naughtyamerica.com/new-porn-videos?page={page}'\n",
    "    driver.get(na_url)\n",
    "    scenes = driver.find_elements(By.CSS_SELECTOR, '.scene-list .scene-grid-item a.contain-img')\n",
    "    scenes_img = driver.find_elements(By.CSS_SELECTOR,'.scene-list .scene-grid-item a.contain-img .main-scene-img')\n",
    "\n",
    "    scene_title_list = []\n",
    "    scene_id_list = []\n",
    "    scene_img_list = []\n",
    "\n",
    "    for i in range(len(scenes)):        \n",
    "        scene_title = scenes[i].get_attribute('title')\n",
    "        scene_id = scenes[i].get_attribute('data-scene-id')\n",
    "        scene_img_url = scenes_img[i].get_attribute('srcset')\n",
    "        counter = (page-1)*24 + i + 1\n",
    "        print(f'{counter}. scraping {scene_title}')\n",
    "        \n",
    "        scene_id_list.append(scene_id)\n",
    "        scene_title_list.append(scene_title)\n",
    "        scene_img_list.append(scene_img_url)\n",
    "\n",
    "    df = pd.DataFrame({\n",
    "        'id' : scene_id_list,\n",
    "        'title' : scene_title_list,\n",
    "        'img_url': scene_img_list\n",
    "    })\n",
    "    return df"
   ]
  },
  {
   "cell_type": "code",
   "execution_count": 5,
   "metadata": {},
   "outputs": [
    {
     "ename": "WebDriverException",
     "evalue": "Message: unknown error: net::ERR_CONNECTION_RESET\n  (Session info: headless chrome=106.0.5249.119)\nStacktrace:\nBacktrace:\n\tOrdinal0 [0x006A1ED3+2236115]\n\tOrdinal0 [0x006392F1+1807089]\n\tOrdinal0 [0x005466FD+812797]\n\tOrdinal0 [0x00542C42+797762]\n\tOrdinal0 [0x00539C1D+760861]\n\tOrdinal0 [0x0053A9FC+764412]\n\tOrdinal0 [0x00539E5F+761439]\n\tOrdinal0 [0x00539350+758608]\n\tOrdinal0 [0x005392C1+758465]\n\tOrdinal0 [0x00538113+753939]\n\tOrdinal0 [0x0053861D+755229]\n\tOrdinal0 [0x0054800E+819214]\n\tOrdinal0 [0x005A60CD+1204429]\n\tOrdinal0 [0x00591A8C+1120908]\n\tOrdinal0 [0x005A59E2+1202658]\n\tOrdinal0 [0x005918A6+1120422]\n\tOrdinal0 [0x0056A73D+960317]\n\tOrdinal0 [0x0056B71F+964383]\n\tGetHandleVerifier [0x0094E7E2+2743074]\n\tGetHandleVerifier [0x009408D4+2685972]\n\tGetHandleVerifier [0x00732BAA+532202]\n\tGetHandleVerifier [0x00731990+527568]\n\tOrdinal0 [0x0064080C+1837068]\n\tOrdinal0 [0x00644CD8+1854680]\n\tOrdinal0 [0x00644DC5+1854917]\n\tOrdinal0 [0x0064ED64+1895780]\n\tBaseThreadInitThunk [0x75E3FA29+25]\n\tRtlGetAppContainerNamedObjectPath [0x77117BBE+286]\n\tRtlGetAppContainerNamedObjectPath [0x77117B8E+238]\n",
     "output_type": "error",
     "traceback": [
      "\u001b[1;31m---------------------------------------------------------------------------\u001b[0m",
      "\u001b[1;31mWebDriverException\u001b[0m                        Traceback (most recent call last)",
      "Cell \u001b[1;32mIn [5], line 3\u001b[0m\n\u001b[0;32m      1\u001b[0m scenes_df \u001b[39m=\u001b[39m pd\u001b[39m.\u001b[39mDataFrame()\n\u001b[0;32m      2\u001b[0m \u001b[39mfor\u001b[39;00m i \u001b[39min\u001b[39;00m \u001b[39mrange\u001b[39m(\u001b[39m1\u001b[39m,\u001b[39m2\u001b[39m):    \n\u001b[1;32m----> 3\u001b[0m     d \u001b[39m=\u001b[39m scrape_na(driver,i)\n\u001b[0;32m      4\u001b[0m     scenes_df \u001b[39m=\u001b[39m pd\u001b[39m.\u001b[39mconcat([scenes_df,d])\u001b[39m.\u001b[39mreset_index(drop\u001b[39m=\u001b[39m\u001b[39mTrue\u001b[39;00m)\n",
      "Cell \u001b[1;32mIn [3], line 3\u001b[0m, in \u001b[0;36mscrape_na\u001b[1;34m(driver, page)\u001b[0m\n\u001b[0;32m      1\u001b[0m \u001b[39mdef\u001b[39;00m \u001b[39mscrape_na\u001b[39m(driver,page):\n\u001b[0;32m      2\u001b[0m     na_url \u001b[39m=\u001b[39m \u001b[39mf\u001b[39m\u001b[39m'\u001b[39m\u001b[39mhttps://www.naughtyamerica.com/new-porn-videos?page=\u001b[39m\u001b[39m{\u001b[39;00mpage\u001b[39m}\u001b[39;00m\u001b[39m'\u001b[39m\n\u001b[1;32m----> 3\u001b[0m     driver\u001b[39m.\u001b[39;49mget(na_url)\n\u001b[0;32m      4\u001b[0m     scenes \u001b[39m=\u001b[39m driver\u001b[39m.\u001b[39mfind_elements(By\u001b[39m.\u001b[39mCSS_SELECTOR, \u001b[39m'\u001b[39m\u001b[39m.scene-list .scene-grid-item a.contain-img\u001b[39m\u001b[39m'\u001b[39m)\n\u001b[0;32m      5\u001b[0m     scenes_img \u001b[39m=\u001b[39m driver\u001b[39m.\u001b[39mfind_elements(By\u001b[39m.\u001b[39mCSS_SELECTOR,\u001b[39m'\u001b[39m\u001b[39m.scene-list .scene-grid-item a.contain-img .main-scene-img\u001b[39m\u001b[39m'\u001b[39m)\n",
      "File \u001b[1;32mc:\\Python310\\lib\\site-packages\\selenium\\webdriver\\remote\\webdriver.py:441\u001b[0m, in \u001b[0;36mWebDriver.get\u001b[1;34m(self, url)\u001b[0m\n\u001b[0;32m    437\u001b[0m \u001b[39mdef\u001b[39;00m \u001b[39mget\u001b[39m(\u001b[39mself\u001b[39m, url: \u001b[39mstr\u001b[39m) \u001b[39m-\u001b[39m\u001b[39m>\u001b[39m \u001b[39mNone\u001b[39;00m:\n\u001b[0;32m    438\u001b[0m     \u001b[39m\"\"\"\u001b[39;00m\n\u001b[0;32m    439\u001b[0m \u001b[39m    Loads a web page in the current browser session.\u001b[39;00m\n\u001b[0;32m    440\u001b[0m \u001b[39m    \"\"\"\u001b[39;00m\n\u001b[1;32m--> 441\u001b[0m     \u001b[39mself\u001b[39;49m\u001b[39m.\u001b[39;49mexecute(Command\u001b[39m.\u001b[39;49mGET, {\u001b[39m'\u001b[39;49m\u001b[39murl\u001b[39;49m\u001b[39m'\u001b[39;49m: url})\n",
      "File \u001b[1;32mc:\\Python310\\lib\\site-packages\\selenium\\webdriver\\remote\\webdriver.py:429\u001b[0m, in \u001b[0;36mWebDriver.execute\u001b[1;34m(self, driver_command, params)\u001b[0m\n\u001b[0;32m    427\u001b[0m response \u001b[39m=\u001b[39m \u001b[39mself\u001b[39m\u001b[39m.\u001b[39mcommand_executor\u001b[39m.\u001b[39mexecute(driver_command, params)\n\u001b[0;32m    428\u001b[0m \u001b[39mif\u001b[39;00m response:\n\u001b[1;32m--> 429\u001b[0m     \u001b[39mself\u001b[39;49m\u001b[39m.\u001b[39;49merror_handler\u001b[39m.\u001b[39;49mcheck_response(response)\n\u001b[0;32m    430\u001b[0m     response[\u001b[39m'\u001b[39m\u001b[39mvalue\u001b[39m\u001b[39m'\u001b[39m] \u001b[39m=\u001b[39m \u001b[39mself\u001b[39m\u001b[39m.\u001b[39m_unwrap_value(\n\u001b[0;32m    431\u001b[0m         response\u001b[39m.\u001b[39mget(\u001b[39m'\u001b[39m\u001b[39mvalue\u001b[39m\u001b[39m'\u001b[39m, \u001b[39mNone\u001b[39;00m))\n\u001b[0;32m    432\u001b[0m     \u001b[39mreturn\u001b[39;00m response\n",
      "File \u001b[1;32mc:\\Python310\\lib\\site-packages\\selenium\\webdriver\\remote\\errorhandler.py:243\u001b[0m, in \u001b[0;36mErrorHandler.check_response\u001b[1;34m(self, response)\u001b[0m\n\u001b[0;32m    241\u001b[0m         alert_text \u001b[39m=\u001b[39m value[\u001b[39m'\u001b[39m\u001b[39malert\u001b[39m\u001b[39m'\u001b[39m]\u001b[39m.\u001b[39mget(\u001b[39m'\u001b[39m\u001b[39mtext\u001b[39m\u001b[39m'\u001b[39m)\n\u001b[0;32m    242\u001b[0m     \u001b[39mraise\u001b[39;00m exception_class(message, screen, stacktrace, alert_text)  \u001b[39m# type: ignore[call-arg]  # mypy is not smart enough here\u001b[39;00m\n\u001b[1;32m--> 243\u001b[0m \u001b[39mraise\u001b[39;00m exception_class(message, screen, stacktrace)\n",
      "\u001b[1;31mWebDriverException\u001b[0m: Message: unknown error: net::ERR_CONNECTION_RESET\n  (Session info: headless chrome=106.0.5249.119)\nStacktrace:\nBacktrace:\n\tOrdinal0 [0x006A1ED3+2236115]\n\tOrdinal0 [0x006392F1+1807089]\n\tOrdinal0 [0x005466FD+812797]\n\tOrdinal0 [0x00542C42+797762]\n\tOrdinal0 [0x00539C1D+760861]\n\tOrdinal0 [0x0053A9FC+764412]\n\tOrdinal0 [0x00539E5F+761439]\n\tOrdinal0 [0x00539350+758608]\n\tOrdinal0 [0x005392C1+758465]\n\tOrdinal0 [0x00538113+753939]\n\tOrdinal0 [0x0053861D+755229]\n\tOrdinal0 [0x0054800E+819214]\n\tOrdinal0 [0x005A60CD+1204429]\n\tOrdinal0 [0x00591A8C+1120908]\n\tOrdinal0 [0x005A59E2+1202658]\n\tOrdinal0 [0x005918A6+1120422]\n\tOrdinal0 [0x0056A73D+960317]\n\tOrdinal0 [0x0056B71F+964383]\n\tGetHandleVerifier [0x0094E7E2+2743074]\n\tGetHandleVerifier [0x009408D4+2685972]\n\tGetHandleVerifier [0x00732BAA+532202]\n\tGetHandleVerifier [0x00731990+527568]\n\tOrdinal0 [0x0064080C+1837068]\n\tOrdinal0 [0x00644CD8+1854680]\n\tOrdinal0 [0x00644DC5+1854917]\n\tOrdinal0 [0x0064ED64+1895780]\n\tBaseThreadInitThunk [0x75E3FA29+25]\n\tRtlGetAppContainerNamedObjectPath [0x77117BBE+286]\n\tRtlGetAppContainerNamedObjectPath [0x77117B8E+238]\n"
     ]
    }
   ],
   "source": [
    "scenes_df = pd.DataFrame()\n",
    "for i in range(1,2):    \n",
    "    d = scrape_na(driver,i)\n",
    "    scenes_df = pd.concat([scenes_df,d]).reset_index(drop=True)"
   ]
  },
  {
   "cell_type": "code",
   "execution_count": 6,
   "metadata": {},
   "outputs": [],
   "source": [
    "scenes_df.to_csv('data/na.csv')"
   ]
  }
 ],
 "metadata": {
  "kernelspec": {
   "display_name": "Python 3.10.2 64-bit",
   "language": "python",
   "name": "python3"
  },
  "language_info": {
   "codemirror_mode": {
    "name": "ipython",
    "version": 3
   },
   "file_extension": ".py",
   "mimetype": "text/x-python",
   "name": "python",
   "nbconvert_exporter": "python",
   "pygments_lexer": "ipython3",
   "version": "3.10.2"
  },
  "orig_nbformat": 4,
  "vscode": {
   "interpreter": {
    "hash": "369f2c481f4da34e4445cda3fffd2e751bd1c4d706f27375911949ba6bb62e1c"
   }
  }
 },
 "nbformat": 4,
 "nbformat_minor": 2
}
